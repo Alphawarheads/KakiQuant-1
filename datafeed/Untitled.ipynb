{
 "cells": [
  {
   "cell_type": "code",
   "execution_count": null,
   "id": "2bebfc51-5261-4716-a70c-25ba553b282a",
   "metadata": {},
   "outputs": [],
   "source": [
    "import mushare as ts  \n",
    "import datetime  \n",
    "import os  \n",
    "  \n",
    "# 设置Tushare Pro的token，需要先在Tushare Pro网站上申请一个token  \n",
    "ts.set_token('20231204122454-0c0a95da-2b53-412d-9837-d442f49cf70d')\n",
    "  \n",
    "# 初始化pro接口  \n",
    "pro = ts.pro_api()  "
   ]
  },
  {
   "cell_type": "code",
   "execution_count": null,
   "id": "257d9609-91ef-430f-908f-d33654e6ebb2",
   "metadata": {},
   "outputs": [],
   "source": [
    "import concurrent.futures\n",
    "\n",
    "# Set start and end dates for one year period\n",
    "end_date = datetime.datetime.now()\n",
    "start_date = end_date - datetime.timedelta(days=365)\n",
    "start_date = start_date.strftime('%Y%m%d')\n",
    "end_date = end_date.strftime('%Y%m%d')\n",
    "\n",
    "# Get all stock codes\n",
    "stocks = pro.stock_basic(exchange='', list_status='L', fields='ts_code')\n",
    "\n",
    "# Main directory for data storage\n",
    "main_dir = 'a_share_data'\n",
    "os.makedirs(main_dir, exist_ok=True)\n",
    "\n",
    "def download_stock_data(ts_code):\n",
    "    stock_dir = os.path.join(main_dir, ts_code)\n",
    "    os.makedirs(stock_dir, exist_ok=True)  # Create a directory for each stock\n",
    "\n",
    "    print(f\"Downloading 1min data for {ts_code}...\")\n",
    "\n",
    "    # Download 1min data using pro_bar interface\n",
    "    df = ts.pro_bar(ts_code=ts_code, asset='E', start_date=start_date, end_date=end_date, freq='1min')\n",
    "\n",
    "    if df is not None and not df.empty:\n",
    "        file_path = os.path.join(stock_dir, '1min.csv')\n",
    "        df.to_csv(file_path, index=False)\n",
    "        print(f\"Saved 1min data for {ts_code} to {file_path}\")\n",
    "\n",
    "# Using ThreadPoolExecutor to download data for each stock in parallel\n",
    "with concurrent.futures.ThreadPoolExecutor(max_workers=10) as executor:\n",
    "    # Adjust max_workers based on your system's capabilities and API's rate limits\n",
    "    executor.map(download_stock_data, stocks['ts_code'])\n"
   ]
  },
  {
   "cell_type": "code",
   "execution_count": null,
   "id": "757181fb-fffe-4e42-a2f1-1d41e911d32c",
   "metadata": {},
   "outputs": [],
   "source": []
  }
 ],
 "metadata": {
  "kernelspec": {
   "display_name": "Python 3 (ipykernel)",
   "language": "python",
   "name": "python3"
  },
  "language_info": {
   "codemirror_mode": {
    "name": "ipython",
    "version": 3
   },
   "file_extension": ".py",
   "mimetype": "text/x-python",
   "name": "python",
   "nbconvert_exporter": "python",
   "pygments_lexer": "ipython3",
   "version": "3.10.13"
  }
 },
 "nbformat": 4,
 "nbformat_minor": 5
}
