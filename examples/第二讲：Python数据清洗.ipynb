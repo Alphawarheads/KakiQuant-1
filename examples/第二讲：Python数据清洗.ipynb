{
 "cells": [
  {
   "cell_type": "markdown",
   "metadata": {},
   "source": [
    "# 第二节：Python基础语法"
   ]
  },
  {
   "cell_type": "code",
   "execution_count": 7,
   "metadata": {},
   "outputs": [],
   "source": [
    "import pandas as pd \n",
    "import numpy as np\n",
    "\n",
    "from rqdatac import *\n",
    "from rqfactor import *\n",
    "from rqfactor.notebook import *\n",
    "from rqfactor.extension import *\n",
    "init()"
   ]
  },
  {
   "cell_type": "markdown",
   "metadata": {},
   "source": [
    "### 1 数据结构\n",
    "#### 1.1 数据类型"
   ]
  },
  {
   "cell_type": "markdown",
   "metadata": {},
   "source": [
    "1.1 **字符串**"
   ]
  },
  {
   "cell_type": "code",
   "execution_count": 8,
   "metadata": {},
   "outputs": [
    {
     "data": {
      "text/plain": [
       "'Hello Quant'"
      ]
     },
     "execution_count": 8,
     "metadata": {},
     "output_type": "execute_result"
    }
   ],
   "source": [
    "str_example = 'Hello Quant'\n",
    "str_example"
   ]
  },
  {
   "cell_type": "code",
   "execution_count": 41,
   "metadata": {},
   "outputs": [
    {
     "data": {
      "text/plain": [
       "'Nick Hello Quant'"
      ]
     },
     "execution_count": 41,
     "metadata": {},
     "output_type": "execute_result"
    }
   ],
   "source": [
    "name = 'Nick'\n",
    "f'{name} Hello Quant'"
   ]
  },
  {
   "cell_type": "code",
   "execution_count": 9,
   "metadata": {},
   "outputs": [
    {
     "name": "stdout",
     "output_type": "stream",
     "text": [
      "Hello Quant\n"
     ]
    }
   ],
   "source": [
    "print(str_example)"
   ]
  },
  {
   "cell_type": "markdown",
   "metadata": {},
   "source": [
    "1.2 **列表**"
   ]
  },
  {
   "cell_type": "code",
   "execution_count": 10,
   "metadata": {},
   "outputs": [
    {
     "data": {
      "text/plain": [
       "[1, 2, 3, 4, 5]"
      ]
     },
     "execution_count": 10,
     "metadata": {},
     "output_type": "execute_result"
    }
   ],
   "source": [
    "list_example = [1,2,3,4,5]\n",
    "list_example"
   ]
  },
  {
   "cell_type": "markdown",
   "metadata": {},
   "source": [
    "1.3 **字典**"
   ]
  },
  {
   "cell_type": "code",
   "execution_count": 11,
   "metadata": {},
   "outputs": [
    {
     "data": {
      "text/plain": [
       "{'7': 'seven', 8: 'eight', 9: 'nine'}"
      ]
     },
     "execution_count": 11,
     "metadata": {},
     "output_type": "execute_result"
    }
   ],
   "source": [
    "dict_example = {'7':'seven',8:'eight',9:'nine'}   #分为keys（），values（）\n",
    "dict_example"
   ]
  },
  {
   "cell_type": "markdown",
   "metadata": {},
   "source": [
    "1.4 **布尔**"
   ]
  },
  {
   "cell_type": "code",
   "execution_count": 43,
   "metadata": {},
   "outputs": [
    {
     "data": {
      "text/plain": [
       "True"
      ]
     },
     "execution_count": 43,
     "metadata": {},
     "output_type": "execute_result"
    }
   ],
   "source": [
    "a = '000001.XSHE'\n",
    "'XSHE' in a"
   ]
  },
  {
   "cell_type": "markdown",
   "metadata": {},
   "source": [
    "#### 1.2 数据处理"
   ]
  },
  {
   "cell_type": "markdown",
   "metadata": {},
   "source": [
    "**切片**"
   ]
  },
  {
   "cell_type": "code",
   "execution_count": 12,
   "metadata": {},
   "outputs": [
    {
     "data": {
      "text/plain": [
       "'t'"
      ]
     },
     "execution_count": 12,
     "metadata": {},
     "output_type": "execute_result"
    }
   ],
   "source": [
    "str_example[-1]"
   ]
  },
  {
   "cell_type": "code",
   "execution_count": 13,
   "metadata": {},
   "outputs": [
    {
     "data": {
      "text/plain": [
       "3"
      ]
     },
     "execution_count": 13,
     "metadata": {},
     "output_type": "execute_result"
    }
   ],
   "source": [
    "list_example[2]"
   ]
  },
  {
   "cell_type": "code",
   "execution_count": 14,
   "metadata": {},
   "outputs": [
    {
     "data": {
      "text/plain": [
       "'eight'"
      ]
     },
     "execution_count": 14,
     "metadata": {},
     "output_type": "execute_result"
    }
   ],
   "source": [
    "dict_example[8]"
   ]
  },
  {
   "cell_type": "code",
   "execution_count": 15,
   "metadata": {},
   "outputs": [
    {
     "data": {
      "text/plain": [
       "'Hel'"
      ]
     },
     "execution_count": 15,
     "metadata": {},
     "output_type": "execute_result"
    }
   ],
   "source": [
    "str_example[0:3]   #左闭右开"
   ]
  },
  {
   "cell_type": "code",
   "execution_count": 16,
   "metadata": {},
   "outputs": [
    {
     "data": {
      "text/plain": [
       "[1, 2, 3]"
      ]
     },
     "execution_count": 16,
     "metadata": {},
     "output_type": "execute_result"
    }
   ],
   "source": [
    "list_example[0:3]"
   ]
  },
  {
   "cell_type": "markdown",
   "metadata": {},
   "source": [
    "**编辑**"
   ]
  },
  {
   "cell_type": "code",
   "execution_count": 17,
   "metadata": {},
   "outputs": [
    {
     "data": {
      "text/plain": [
       "[1, 2, 3, 4]"
      ]
     },
     "execution_count": 17,
     "metadata": {},
     "output_type": "execute_result"
    }
   ],
   "source": [
    "#删除\n",
    "del list_example[-1]\n",
    "list_example"
   ]
  },
  {
   "cell_type": "code",
   "execution_count": 18,
   "metadata": {},
   "outputs": [
    {
     "data": {
      "text/plain": [
       "[2, 3, 4]"
      ]
     },
     "execution_count": 18,
     "metadata": {},
     "output_type": "execute_result"
    }
   ],
   "source": [
    "#移除\n",
    "list_example.remove(1)\n",
    "list_example"
   ]
  },
  {
   "cell_type": "code",
   "execution_count": 19,
   "metadata": {},
   "outputs": [
    {
     "data": {
      "text/plain": [
       "[2, 3, 4, 5]"
      ]
     },
     "execution_count": 19,
     "metadata": {},
     "output_type": "execute_result"
    }
   ],
   "source": [
    "#尾部添加\n",
    "list_example.append(5)\n",
    "list_example"
   ]
  },
  {
   "cell_type": "code",
   "execution_count": 20,
   "metadata": {},
   "outputs": [
    {
     "data": {
      "text/plain": [
       "[2, 3, 3.5, 4, 5]"
      ]
     },
     "execution_count": 20,
     "metadata": {},
     "output_type": "execute_result"
    }
   ],
   "source": [
    "#中间插入\n",
    "list_example.insert(2,3.5)\n",
    "list_example"
   ]
  },
  {
   "cell_type": "code",
   "execution_count": 21,
   "metadata": {},
   "outputs": [
    {
     "data": {
      "text/plain": [
       "[2, 3, 0, 0, 5]"
      ]
     },
     "execution_count": 21,
     "metadata": {},
     "output_type": "execute_result"
    }
   ],
   "source": [
    "#批量修改\n",
    "list_example[2:4]=[0,0]\n",
    "list_example"
   ]
  },
  {
   "cell_type": "code",
   "execution_count": 22,
   "metadata": {},
   "outputs": [
    {
     "data": {
      "text/plain": [
       "[0, 0, 2, 3, 5]"
      ]
     },
     "execution_count": 22,
     "metadata": {},
     "output_type": "execute_result"
    }
   ],
   "source": [
    "#排序\n",
    "list_example = sorted(list_example)\n",
    "list_example"
   ]
  },
  {
   "cell_type": "code",
   "execution_count": 23,
   "metadata": {},
   "outputs": [
    {
     "data": {
      "text/plain": [
       "4"
      ]
     },
     "execution_count": 23,
     "metadata": {},
     "output_type": "execute_result"
    }
   ],
   "source": [
    "#返回序列号\n",
    "list_example.index(5)"
   ]
  },
  {
   "cell_type": "markdown",
   "metadata": {},
   "source": [
    "`练一练`：对以下选股队列进行 切片/删除/添加/排序"
   ]
  },
  {
   "cell_type": "code",
   "execution_count": 35,
   "metadata": {},
   "outputs": [],
   "source": [
    "stock_list = index_components('000300.XSHG', '2020-01-01')   # 哪一个指数，哪一天"
   ]
  },
  {
   "cell_type": "code",
   "execution_count": 36,
   "metadata": {},
   "outputs": [
    {
     "data": {
      "text/plain": [
       "['600886.XSHG', '600018.XSHG', '600398.XSHG', '600271.XSHG', '000858.XSHE']"
      ]
     },
     "execution_count": 36,
     "metadata": {},
     "output_type": "execute_result"
    }
   ],
   "source": [
    "stock_list[:5]"
   ]
  },
  {
   "cell_type": "markdown",
   "metadata": {},
   "source": [
    "### 1.3 时间序列"
   ]
  },
  {
   "cell_type": "code",
   "execution_count": 26,
   "metadata": {},
   "outputs": [
    {
     "data": {
      "text/plain": [
       "datetime.date(2023, 12, 19)"
      ]
     },
     "execution_count": 26,
     "metadata": {},
     "output_type": "execute_result"
    }
   ],
   "source": [
    "#获取当前时间\n",
    "import datetime\n",
    "datetime.datetime.now().date()"
   ]
  },
  {
   "cell_type": "code",
   "execution_count": 27,
   "metadata": {},
   "outputs": [
    {
     "data": {
      "text/plain": [
       "'2023-12-19'"
      ]
     },
     "execution_count": 27,
     "metadata": {},
     "output_type": "execute_result"
    }
   ],
   "source": [
    "import time\n",
    "time.strftime('%Y-%m-%d')"
   ]
  },
  {
   "cell_type": "code",
   "execution_count": 28,
   "metadata": {},
   "outputs": [
    {
     "data": {
      "text/plain": [
       "Timestamp('2022-02-01 00:00:00')"
      ]
     },
     "execution_count": 28,
     "metadata": {},
     "output_type": "execute_result"
    }
   ],
   "source": [
    "timestamp_example = pd.Timestamp('2022-02-01')        #str变时间戳\n",
    "timestamp_example"
   ]
  },
  {
   "cell_type": "code",
   "execution_count": 29,
   "metadata": {},
   "outputs": [
    {
     "data": {
      "text/plain": [
       "'2022-02-01'"
      ]
     },
     "execution_count": 29,
     "metadata": {},
     "output_type": "execute_result"
    }
   ],
   "source": [
    "timestamp_example.strftime(\"%Y-%m-%d\")               #时间戳变str"
   ]
  },
  {
   "cell_type": "code",
   "execution_count": 30,
   "metadata": {},
   "outputs": [
    {
     "data": {
      "text/plain": [
       "DatetimeIndex(['2022-07-25 00:00:00', '2022-07-25 00:00:01',\n",
       "               '2022-07-25 00:00:02', '2022-07-25 00:00:03',\n",
       "               '2022-07-25 00:00:04', '2022-07-25 00:00:05',\n",
       "               '2022-07-25 00:00:06', '2022-07-25 00:00:07',\n",
       "               '2022-07-25 00:00:08', '2022-07-25 00:00:09',\n",
       "               '2022-07-25 00:00:10', '2022-07-25 00:00:11',\n",
       "               '2022-07-25 00:00:12', '2022-07-25 00:00:13',\n",
       "               '2022-07-25 00:00:14', '2022-07-25 00:00:15',\n",
       "               '2022-07-25 00:00:16', '2022-07-25 00:00:17',\n",
       "               '2022-07-25 00:00:18', '2022-07-25 00:00:19',\n",
       "               '2022-07-25 00:00:20', '2022-07-25 00:00:21',\n",
       "               '2022-07-25 00:00:22', '2022-07-25 00:00:23',\n",
       "               '2022-07-25 00:00:24', '2022-07-25 00:00:25',\n",
       "               '2022-07-25 00:00:26', '2022-07-25 00:00:27',\n",
       "               '2022-07-25 00:00:28', '2022-07-25 00:00:29'],\n",
       "              dtype='datetime64[ns]', freq='S')"
      ]
     },
     "execution_count": 30,
     "metadata": {},
     "output_type": "execute_result"
    }
   ],
   "source": [
    "rng = pd.date_range('7/25/2022', periods=30, freq='S')  #S秒M月\n",
    "rng"
   ]
  },
  {
   "cell_type": "markdown",
   "metadata": {},
   "source": [
    "### 2 条件语句"
   ]
  },
  {
   "cell_type": "markdown",
   "metadata": {},
   "source": [
    "#### 2.1 for循环 + if else 语句"
   ]
  },
  {
   "cell_type": "code",
   "execution_count": 42,
   "metadata": {},
   "outputs": [
    {
     "name": "stdout",
     "output_type": "stream",
     "text": [
      "600886.XSHG 上交所\n",
      "600018.XSHG 上交所\n",
      "600398.XSHG 上交所\n",
      "600271.XSHG 上交所\n",
      "000858.XSHE 深交所\n"
     ]
    }
   ],
   "source": [
    "stock_list = stock_list[:5]\n",
    "for i in stock_list:\n",
    "    if 'XSHG' in i:\n",
    "        print(f'{i} 上交所')\n",
    "    else:\n",
    "        print(f'{i} 深交所')"
   ]
  },
  {
   "cell_type": "markdown",
   "metadata": {},
   "source": [
    "#### 2.2 try except"
   ]
  },
  {
   "cell_type": "code",
   "execution_count": 45,
   "metadata": {},
   "outputs": [
    {
     "name": "stdout",
     "output_type": "stream",
     "text": [
      "An exception occurred\n"
     ]
    }
   ],
   "source": [
    "try:\n",
    "  print(x)\n",
    "except:\n",
    "  print(\"An exception occurred\")"
   ]
  },
  {
   "cell_type": "markdown",
   "metadata": {},
   "source": [
    "`练一练`：获取每个月的月末交易日"
   ]
  },
  {
   "cell_type": "code",
   "execution_count": 49,
   "metadata": {},
   "outputs": [
    {
     "data": {
      "text/plain": [
       "['2022-10-17',\n",
       " '2022-10-18',\n",
       " '2022-10-19',\n",
       " '2022-10-20',\n",
       " '2022-10-21',\n",
       " '2022-10-24',\n",
       " '2022-10-25',\n",
       " '2022-10-26',\n",
       " '2022-10-27',\n",
       " '2022-10-28',\n",
       " '2022-10-31',\n",
       " '2022-11-01',\n",
       " '2022-11-02',\n",
       " '2022-11-03',\n",
       " '2022-11-04',\n",
       " '2022-11-07',\n",
       " '2022-11-08',\n",
       " '2022-11-09',\n",
       " '2022-11-10',\n",
       " '2022-11-11',\n",
       " '2022-11-14',\n",
       " '2022-11-15',\n",
       " '2022-11-16',\n",
       " '2022-11-17',\n",
       " '2022-11-18',\n",
       " '2022-11-21',\n",
       " '2022-11-22',\n",
       " '2022-11-23',\n",
       " '2022-11-24',\n",
       " '2022-11-25',\n",
       " '2022-11-28',\n",
       " '2022-11-29',\n",
       " '2022-11-30',\n",
       " '2022-12-01',\n",
       " '2022-12-02',\n",
       " '2022-12-05',\n",
       " '2022-12-06',\n",
       " '2022-12-07',\n",
       " '2022-12-08',\n",
       " '2022-12-09',\n",
       " '2022-12-12',\n",
       " '2022-12-13',\n",
       " '2022-12-14',\n",
       " '2022-12-15',\n",
       " '2022-12-16',\n",
       " '2022-12-19',\n",
       " '2022-12-20',\n",
       " '2022-12-21',\n",
       " '2022-12-22',\n",
       " '2022-12-23',\n",
       " '2022-12-26',\n",
       " '2022-12-27',\n",
       " '2022-12-28',\n",
       " '2022-12-29',\n",
       " '2022-12-30',\n",
       " '2023-01-03',\n",
       " '2023-01-04',\n",
       " '2023-01-05',\n",
       " '2023-01-06',\n",
       " '2023-01-09',\n",
       " '2023-01-10',\n",
       " '2023-01-11',\n",
       " '2023-01-12',\n",
       " '2023-01-13',\n",
       " '2023-01-16',\n",
       " '2023-01-17',\n",
       " '2023-01-18',\n",
       " '2023-01-19',\n",
       " '2023-01-20',\n",
       " '2023-01-30',\n",
       " '2023-01-31',\n",
       " '2023-02-01',\n",
       " '2023-02-02',\n",
       " '2023-02-03',\n",
       " '2023-02-06',\n",
       " '2023-02-07',\n",
       " '2023-02-08',\n",
       " '2023-02-09',\n",
       " '2023-02-10',\n",
       " '2023-02-13',\n",
       " '2023-02-14',\n",
       " '2023-02-15',\n",
       " '2023-02-16',\n",
       " '2023-02-17',\n",
       " '2023-02-20',\n",
       " '2023-02-21',\n",
       " '2023-02-22',\n",
       " '2023-02-23',\n",
       " '2023-02-24',\n",
       " '2023-02-27',\n",
       " '2023-02-28',\n",
       " '2023-03-01',\n",
       " '2023-03-02',\n",
       " '2023-03-03',\n",
       " '2023-03-06',\n",
       " '2023-03-07',\n",
       " '2023-03-08',\n",
       " '2023-03-09',\n",
       " '2023-03-10',\n",
       " '2023-03-13',\n",
       " '2023-03-14',\n",
       " '2023-03-15',\n",
       " '2023-03-16',\n",
       " '2023-03-17',\n",
       " '2023-03-20',\n",
       " '2023-03-21',\n",
       " '2023-03-22',\n",
       " '2023-03-23',\n",
       " '2023-03-24',\n",
       " '2023-03-27',\n",
       " '2023-03-28',\n",
       " '2023-03-29',\n",
       " '2023-03-30',\n",
       " '2023-03-31',\n",
       " '2023-04-03',\n",
       " '2023-04-04',\n",
       " '2023-04-06',\n",
       " '2023-04-07',\n",
       " '2023-04-10',\n",
       " '2023-04-11',\n",
       " '2023-04-12',\n",
       " '2023-04-13',\n",
       " '2023-04-14',\n",
       " '2023-04-17',\n",
       " '2023-04-18',\n",
       " '2023-04-19',\n",
       " '2023-04-20',\n",
       " '2023-04-21',\n",
       " '2023-04-24',\n",
       " '2023-04-25',\n",
       " '2023-04-26',\n",
       " '2023-04-27',\n",
       " '2023-04-28',\n",
       " '2023-05-04',\n",
       " '2023-05-05',\n",
       " '2023-05-08',\n",
       " '2023-05-09',\n",
       " '2023-05-10',\n",
       " '2023-05-11',\n",
       " '2023-05-12',\n",
       " '2023-05-15',\n",
       " '2023-05-16',\n",
       " '2023-05-17',\n",
       " '2023-05-18',\n",
       " '2023-05-19',\n",
       " '2023-05-22',\n",
       " '2023-05-23',\n",
       " '2023-05-24',\n",
       " '2023-05-25',\n",
       " '2023-05-26',\n",
       " '2023-05-29',\n",
       " '2023-05-30',\n",
       " '2023-05-31',\n",
       " '2023-06-01',\n",
       " '2023-06-02',\n",
       " '2023-06-05',\n",
       " '2023-06-06',\n",
       " '2023-06-07',\n",
       " '2023-06-08',\n",
       " '2023-06-09',\n",
       " '2023-06-12',\n",
       " '2023-06-13',\n",
       " '2023-06-14',\n",
       " '2023-06-15',\n",
       " '2023-06-16',\n",
       " '2023-06-19',\n",
       " '2023-06-20',\n",
       " '2023-06-21',\n",
       " '2023-06-26',\n",
       " '2023-06-27',\n",
       " '2023-06-28',\n",
       " '2023-06-29',\n",
       " '2023-06-30',\n",
       " '2023-07-03',\n",
       " '2023-07-04',\n",
       " '2023-07-05',\n",
       " '2023-07-06',\n",
       " '2023-07-07',\n",
       " '2023-07-10',\n",
       " '2023-07-11',\n",
       " '2023-07-12',\n",
       " '2023-07-13',\n",
       " '2023-07-14',\n",
       " '2023-07-17',\n",
       " '2023-07-18',\n",
       " '2023-07-19',\n",
       " '2023-07-20',\n",
       " '2023-07-21',\n",
       " '2023-07-24',\n",
       " '2023-07-25',\n",
       " '2023-07-26',\n",
       " '2023-07-27',\n",
       " '2023-07-28',\n",
       " '2023-07-31',\n",
       " '2023-08-01',\n",
       " '2023-08-02',\n",
       " '2023-08-03',\n",
       " '2023-08-04',\n",
       " '2023-08-07',\n",
       " '2023-08-08',\n",
       " '2023-08-09',\n",
       " '2023-08-10',\n",
       " '2023-08-11',\n",
       " '2023-08-14',\n",
       " '2023-08-15',\n",
       " '2023-08-16',\n",
       " '2023-08-17',\n",
       " '2023-08-18',\n",
       " '2023-08-21',\n",
       " '2023-08-22',\n",
       " '2023-08-23',\n",
       " '2023-08-24',\n",
       " '2023-08-25',\n",
       " '2023-08-28',\n",
       " '2023-08-29',\n",
       " '2023-08-30',\n",
       " '2023-08-31',\n",
       " '2023-09-01',\n",
       " '2023-09-04',\n",
       " '2023-09-05',\n",
       " '2023-09-06',\n",
       " '2023-09-07',\n",
       " '2023-09-08',\n",
       " '2023-09-11',\n",
       " '2023-09-12',\n",
       " '2023-09-13',\n",
       " '2023-09-14',\n",
       " '2023-09-15',\n",
       " '2023-09-18',\n",
       " '2023-09-19',\n",
       " '2023-09-20',\n",
       " '2023-09-21',\n",
       " '2023-09-22',\n",
       " '2023-09-25',\n",
       " '2023-09-26',\n",
       " '2023-09-27',\n",
       " '2023-09-28',\n",
       " '2023-10-09',\n",
       " '2023-10-10',\n",
       " '2023-10-11',\n",
       " '2023-10-12',\n",
       " '2023-10-13',\n",
       " '2023-10-16',\n",
       " '2023-10-17',\n",
       " '2023-10-18',\n",
       " '2023-10-19',\n",
       " '2023-10-20',\n",
       " '2023-10-23',\n",
       " '2023-10-24',\n",
       " '2023-10-25',\n",
       " '2023-10-26',\n",
       " '2023-10-27',\n",
       " '2023-10-30',\n",
       " '2023-10-31',\n",
       " '2023-11-01',\n",
       " '2023-11-02',\n",
       " '2023-11-03',\n",
       " '2023-11-06',\n",
       " '2023-11-07',\n",
       " '2023-11-08',\n",
       " '2023-11-09',\n",
       " '2023-11-10',\n",
       " '2023-11-13',\n",
       " '2023-11-14',\n",
       " '2023-11-15',\n",
       " '2023-11-16',\n",
       " '2023-11-17',\n",
       " '2023-11-20',\n",
       " '2023-11-21',\n",
       " '2023-11-22',\n",
       " '2023-11-23',\n",
       " '2023-11-24',\n",
       " '2023-11-27',\n",
       " '2023-11-28',\n",
       " '2023-11-29',\n",
       " '2023-11-30',\n",
       " '2023-12-01']"
      ]
     },
     "execution_count": 49,
     "metadata": {},
     "output_type": "execute_result"
    }
   ],
   "source": [
    "start_date = '2022-10-15'\n",
    "end_date = '2023-12-01'\n",
    "date_list = get_trading_dates(start_date, end_date, market='cn')\n",
    "[i.strftime('%Y-%m-%d') for i in date_list]"
   ]
  },
  {
   "cell_type": "code",
   "execution_count": 50,
   "metadata": {},
   "outputs": [
    {
     "data": {
      "text/plain": [
       "['2022-10-31',\n",
       " '2022-11-30',\n",
       " '2022-12-30',\n",
       " '2023-01-31',\n",
       " '2023-02-28',\n",
       " '2023-03-31',\n",
       " '2023-04-28',\n",
       " '2023-05-31',\n",
       " '2023-06-30',\n",
       " '2023-07-31',\n",
       " '2023-08-31',\n",
       " '2023-09-28',\n",
       " '2023-10-31',\n",
       " '2023-11-30']"
      ]
     },
     "execution_count": 50,
     "metadata": {},
     "output_type": "execute_result"
    }
   ],
   "source": [
    "# 找出月末数据\n",
    "month_list = []\n",
    "date_list = [i.strftime('%Y-%m-%d') for i in date_list]\n",
    "for i in range(1,len(date_list)):\n",
    "    if date_list[i-1][5:7] != date_list[i][5:7]:\n",
    "        month_list.append(date_list[i-1])\n",
    "month_list"
   ]
  },
  {
   "cell_type": "markdown",
   "metadata": {},
   "source": [
    "### 3 函数\n"
   ]
  },
  {
   "cell_type": "code",
   "execution_count": 36,
   "metadata": {},
   "outputs": [
    {
     "data": {
      "text/plain": [
       "<matplotlib.axes._subplots.AxesSubplot at 0x7f1579404b00>"
      ]
     },
     "execution_count": 36,
     "metadata": {},
     "output_type": "execute_result"
    },
    {
     "data": {
      "image/png": "[encoded data removed]",
      "text/plain": [
       "<Figure size 432x288 with 1 Axes>"
      ]
     },
     "metadata": {
      "needs_background": "light"
     },
     "output_type": "display_data"
    }
   ],
   "source": [
    "close = get_price('000001.XSHE','2020-01-01',end_date,fields = 'close').close.unstack('order_book_id')\n",
    "net = close.pct_change().dropna()\n",
    "cum_net = (net+1).cumprod()\n",
    "cum_net.plot()"
   ]
  },
  {
   "cell_type": "code",
   "execution_count": 37,
   "metadata": {},
   "outputs": [
    {
     "data": {
      "text/plain": [
       "order_book_id\n",
       "000001.XSHE   -0.051976\n",
       "dtype: float64"
      ]
     },
     "execution_count": 37,
     "metadata": {},
     "output_type": "execute_result"
    }
   ],
   "source": [
    "def year_ret_mean(df):\n",
    "    return df.pct_change().mean() * 252\n",
    "\n",
    "year_ret_mean(cum_net)"
   ]
  },
  {
   "cell_type": "markdown",
   "metadata": {},
   "source": [
    "### 4 numpy\n",
    "　　Numpy是高性能科学计算和数据分析的基础包。Numpy本身并没有提供多么高级的数据分析功能，理解 Numpuy 数组以及面向数组的计算将有助于你提高处理数据能力。本节内容介绍ndarray数组和矩阵。<br><br>"
   ]
  },
  {
   "cell_type": "code",
   "execution_count": 51,
   "metadata": {},
   "outputs": [],
   "source": [
    "import numpy as np"
   ]
  },
  {
   "cell_type": "code",
   "execution_count": 52,
   "metadata": {},
   "outputs": [
    {
     "name": "stdout",
     "output_type": "stream",
     "text": [
      "[[1. 2. 3.]\n",
      " [2. 3. 4.]]\n"
     ]
    }
   ],
   "source": [
    "a = np.array([[1,2,3.0],[2,3,4.0]])        #权重和收益率的点乘\n",
    "print(a)"
   ]
  },
  {
   "cell_type": "markdown",
   "metadata": {},
   "source": [
    "**序列数组**<br><br>\n",
    "　　arange函数：属于Numpy 库，其参数依次为：开始值、结束值、步长。"
   ]
  },
  {
   "cell_type": "code",
   "execution_count": 53,
   "metadata": {},
   "outputs": [
    {
     "data": {
      "text/plain": [
       "array([ 1,  6, 11, 16, 21, 26, 31, 36, 41, 46, 51, 56, 61, 66, 71, 76, 81,\n",
       "       86, 91, 96])"
      ]
     },
     "execution_count": 53,
     "metadata": {},
     "output_type": "execute_result"
    }
   ],
   "source": [
    "np.arange(1,100,5)   #math   #生成100个斐波那契数列，质数"
   ]
  },
  {
   "cell_type": "markdown",
   "metadata": {},
   "source": [
    "linspace 函数创建等差序列数组，其参数依次为：开始值、结束值、元素数量。"
   ]
  },
  {
   "cell_type": "code",
   "execution_count": 54,
   "metadata": {},
   "outputs": [
    {
     "data": {
      "text/plain": [
       "array([  1.,   2.,   3.,   4.,   5.,   6.,   7.,   8.,   9.,  10.,  11.,\n",
       "        12.,  13.,  14.,  15.,  16.,  17.,  18.,  19.,  20.,  21.,  22.,\n",
       "        23.,  24.,  25.,  26.,  27.,  28.,  29.,  30.,  31.,  32.,  33.,\n",
       "        34.,  35.,  36.,  37.,  38.,  39.,  40.,  41.,  42.,  43.,  44.,\n",
       "        45.,  46.,  47.,  48.,  49.,  50.,  51.,  52.,  53.,  54.,  55.,\n",
       "        56.,  57.,  58.,  59.,  60.,  61.,  62.,  63.,  64.,  65.,  66.,\n",
       "        67.,  68.,  69.,  70.,  71.,  72.,  73.,  74.,  75.,  76.,  77.,\n",
       "        78.,  79.,  80.,  81.,  82.,  83.,  84.,  85.,  86.,  87.,  88.,\n",
       "        89.,  90.,  91.,  92.,  93.,  94.,  95.,  96.,  97.,  98.,  99.,\n",
       "       100.])"
      ]
     },
     "execution_count": 54,
     "metadata": {},
     "output_type": "execute_result"
    }
   ],
   "source": [
    "np.linspace(1,100,100)"
   ]
  },
  {
   "cell_type": "markdown",
   "metadata": {},
   "source": [
    "**数组索引**<br><br>\n",
    "　　Numpy 数组的每个元素、每行元素、每列元素都可以用索引访问。注意：索引是从 0 开始的。<br>\n",
    "　　其操作与列表基本相同，以下是三种操作方式。<br>"
   ]
  },
  {
   "cell_type": "code",
   "execution_count": 55,
   "metadata": {},
   "outputs": [
    {
     "data": {
      "text/plain": [
       "array([1., 2., 3.])"
      ]
     },
     "execution_count": 55,
     "metadata": {},
     "output_type": "execute_result"
    }
   ],
   "source": [
    "a[0,]     #取 a 的第一行元素"
   ]
  },
  {
   "cell_type": "code",
   "execution_count": 56,
   "metadata": {},
   "outputs": [
    {
     "data": {
      "text/plain": [
       "array([2., 3.])"
      ]
     },
     "execution_count": 56,
     "metadata": {},
     "output_type": "execute_result"
    }
   ],
   "source": [
    "a[:,1]   #取 a 的第二列元素"
   ]
  },
  {
   "cell_type": "code",
   "execution_count": 57,
   "metadata": {},
   "outputs": [
    {
     "data": {
      "text/plain": [
       "3.0"
      ]
     },
     "execution_count": 57,
     "metadata": {},
     "output_type": "execute_result"
    }
   ],
   "source": [
    "a[0,2]   #取 a 的第一行的第三个元素"
   ]
  },
  {
   "cell_type": "markdown",
   "metadata": {},
   "source": [
    "**数组运算**"
   ]
  },
  {
   "cell_type": "code",
   "execution_count": 58,
   "metadata": {},
   "outputs": [],
   "source": [
    "a = np.array([1,2,3])\n",
    "b = np.array([4.,5,6])"
   ]
  },
  {
   "cell_type": "code",
   "execution_count": 59,
   "metadata": {},
   "outputs": [
    {
     "data": {
      "text/plain": [
       "array([5., 7., 9.])"
      ]
     },
     "execution_count": 59,
     "metadata": {},
     "output_type": "execute_result"
    }
   ],
   "source": [
    "a + b"
   ]
  },
  {
   "cell_type": "code",
   "execution_count": 60,
   "metadata": {},
   "outputs": [
    {
     "data": {
      "text/plain": [
       "array([-3., -3., -3.])"
      ]
     },
     "execution_count": 60,
     "metadata": {},
     "output_type": "execute_result"
    }
   ],
   "source": [
    "a - b"
   ]
  },
  {
   "cell_type": "code",
   "execution_count": 62,
   "metadata": {},
   "outputs": [
    {
     "data": {
      "text/plain": [
       "array([ 4., 10., 18.])"
      ]
     },
     "execution_count": 62,
     "metadata": {},
     "output_type": "execute_result"
    }
   ],
   "source": [
    "a * b"
   ]
  },
  {
   "cell_type": "code",
   "execution_count": 63,
   "metadata": {},
   "outputs": [
    {
     "data": {
      "text/plain": [
       "array([1, 4, 9])"
      ]
     },
     "execution_count": 63,
     "metadata": {},
     "output_type": "execute_result"
    }
   ],
   "source": [
    "a ** 2"
   ]
  },
  {
   "cell_type": "code",
   "execution_count": 64,
   "metadata": {},
   "outputs": [
    {
     "data": {
      "text/plain": [
       "array([0.25, 0.4 , 0.5 ])"
      ]
     },
     "execution_count": 64,
     "metadata": {},
     "output_type": "execute_result"
    }
   ],
   "source": [
    "a/b"
   ]
  },
  {
   "cell_type": "code",
   "execution_count": 65,
   "metadata": {},
   "outputs": [
    {
     "data": {
      "text/plain": [
       "32.0"
      ]
     },
     "execution_count": 65,
     "metadata": {},
     "output_type": "execute_result"
    }
   ],
   "source": [
    "np.dot(a,b)"
   ]
  },
  {
   "cell_type": "code",
   "execution_count": 66,
   "metadata": {},
   "outputs": [
    {
     "data": {
      "text/plain": [
       "array([False,  True,  True])"
      ]
     },
     "execution_count": 66,
     "metadata": {},
     "output_type": "execute_result"
    }
   ],
   "source": [
    "a >= 2"
   ]
  },
  {
   "cell_type": "code",
   "execution_count": 67,
   "metadata": {},
   "outputs": [
    {
     "data": {
      "text/plain": [
       "3"
      ]
     },
     "execution_count": 67,
     "metadata": {},
     "output_type": "execute_result"
    }
   ],
   "source": [
    "a.max()"
   ]
  },
  {
   "cell_type": "code",
   "execution_count": 68,
   "metadata": {},
   "outputs": [
    {
     "data": {
      "text/plain": [
       "1"
      ]
     },
     "execution_count": 68,
     "metadata": {},
     "output_type": "execute_result"
    }
   ],
   "source": [
    "a.min()"
   ]
  },
  {
   "cell_type": "code",
   "execution_count": 69,
   "metadata": {},
   "outputs": [
    {
     "data": {
      "text/plain": [
       "6"
      ]
     },
     "execution_count": 69,
     "metadata": {},
     "output_type": "execute_result"
    }
   ],
   "source": [
    "a.sum()"
   ]
  },
  {
   "cell_type": "markdown",
   "metadata": {},
   "source": [
    "### 5 Pandas\n",
    "pandas 是基于 Numpy 构建的，让以 Numpy 为中心的应用变得更加简单。pandas是公认的数据处理利器，本章内容主要介绍DataFrame数据结构，在此基础上进行数据处理。除了DataFrame格式，pandas 还包括series、Panel。\n",
    "\n",
    "|格式|数组|释义|\n",
    "|---|---|---|\n",
    "|Series|一维数组|与Numpy中的一维array类似。\n",
    "|DataFrame|二维的表格型数据结构|可以将DataFrame理解为Series的容器\n",
    "|Panel|三维的数组|可以理解为DataFrame的容器\n",
    "    \n",
    "　　开始之前，我们首先掌握导入pandas库，方式如下："
   ]
  },
  {
   "cell_type": "code",
   "execution_count": 70,
   "metadata": {},
   "outputs": [],
   "source": [
    "import pandas as pd"
   ]
  },
  {
   "cell_type": "markdown",
   "metadata": {},
   "source": [
    "**Series**"
   ]
  },
  {
   "cell_type": "code",
   "execution_count": 71,
   "metadata": {},
   "outputs": [
    {
     "data": {
      "text/plain": [
       "0    1\n",
       "1    3\n",
       "2    5\n",
       "3    7\n",
       "4    6\n",
       "5    8\n",
       "6    1\n",
       "7    2\n",
       "8    3\n",
       "dtype: int64"
      ]
     },
     "execution_count": 71,
     "metadata": {},
     "output_type": "execute_result"
    }
   ],
   "source": [
    "series_example = pd.Series([1,3,5,7,6,8,1,2,3])\n",
    "series_example"
   ]
  },
  {
   "cell_type": "code",
   "execution_count": 72,
   "metadata": {},
   "outputs": [
    {
     "data": {
      "text/plain": [
       "5"
      ]
     },
     "execution_count": 72,
     "metadata": {},
     "output_type": "execute_result"
    }
   ],
   "source": [
    "series_example[2]"
   ]
  },
  {
   "cell_type": "markdown",
   "metadata": {},
   "source": [
    "**Series属性**"
   ]
  },
  {
   "cell_type": "code",
   "execution_count": 73,
   "metadata": {},
   "outputs": [
    {
     "data": {
      "text/plain": [
       "[1, 3, 5, 7, 6, 8, 1, 2, 3]"
      ]
     },
     "execution_count": 73,
     "metadata": {},
     "output_type": "execute_result"
    }
   ],
   "source": [
    "series_example.tolist()              #series变成list"
   ]
  },
  {
   "cell_type": "code",
   "execution_count": 74,
   "metadata": {},
   "outputs": [
    {
     "data": {
      "text/plain": [
       "RangeIndex(start=0, stop=9, step=1)"
      ]
     },
     "execution_count": 74,
     "metadata": {},
     "output_type": "execute_result"
    }
   ],
   "source": [
    "series_example.index                  #查看series的索引"
   ]
  },
  {
   "cell_type": "code",
   "execution_count": 75,
   "metadata": {},
   "outputs": [
    {
     "data": {
      "text/plain": [
       "1    2\n",
       "3    2\n",
       "5    1\n",
       "7    1\n",
       "6    1\n",
       "8    1\n",
       "2    1\n",
       "dtype: int64"
      ]
     },
     "execution_count": 75,
     "metadata": {},
     "output_type": "execute_result"
    }
   ],
   "source": [
    "series_example.value_counts()          #数据计数"
   ]
  },
  {
   "cell_type": "code",
   "execution_count": 76,
   "metadata": {},
   "outputs": [
    {
     "data": {
      "text/plain": [
       "DatetimeIndex(['2022-07-25 00:00:00', '2022-07-25 00:00:01',\n",
       "               '2022-07-25 00:00:02', '2022-07-25 00:00:03',\n",
       "               '2022-07-25 00:00:04', '2022-07-25 00:00:05',\n",
       "               '2022-07-25 00:00:06', '2022-07-25 00:00:07',\n",
       "               '2022-07-25 00:00:08', '2022-07-25 00:00:09',\n",
       "               '2022-07-25 00:00:10', '2022-07-25 00:00:11',\n",
       "               '2022-07-25 00:00:12', '2022-07-25 00:00:13',\n",
       "               '2022-07-25 00:00:14', '2022-07-25 00:00:15',\n",
       "               '2022-07-25 00:00:16', '2022-07-25 00:00:17',\n",
       "               '2022-07-25 00:00:18', '2022-07-25 00:00:19',\n",
       "               '2022-07-25 00:00:20', '2022-07-25 00:00:21',\n",
       "               '2022-07-25 00:00:22', '2022-07-25 00:00:23',\n",
       "               '2022-07-25 00:00:24', '2022-07-25 00:00:25',\n",
       "               '2022-07-25 00:00:26', '2022-07-25 00:00:27',\n",
       "               '2022-07-25 00:00:28', '2022-07-25 00:00:29'],\n",
       "              dtype='datetime64[ns]', freq='S')"
      ]
     },
     "execution_count": 76,
     "metadata": {},
     "output_type": "execute_result"
    }
   ],
   "source": [
    "rng"
   ]
  },
  {
   "cell_type": "code",
   "execution_count": 77,
   "metadata": {
    "scrolled": true
   },
   "outputs": [
    {
     "data": {
      "text/plain": [
       "2022-07-25 00:00:00    150\n",
       "2022-07-25 00:00:01    385\n",
       "2022-07-25 00:00:02    148\n",
       "2022-07-25 00:00:03     61\n",
       "2022-07-25 00:00:04    463\n",
       "2022-07-25 00:00:05     10\n",
       "2022-07-25 00:00:06    485\n",
       "2022-07-25 00:00:07     98\n",
       "2022-07-25 00:00:08    167\n",
       "2022-07-25 00:00:09    408\n",
       "2022-07-25 00:00:10    209\n",
       "2022-07-25 00:00:11    348\n",
       "2022-07-25 00:00:12     79\n",
       "2022-07-25 00:00:13    443\n",
       "2022-07-25 00:00:14    137\n",
       "2022-07-25 00:00:15    441\n",
       "2022-07-25 00:00:16    363\n",
       "2022-07-25 00:00:17    483\n",
       "2022-07-25 00:00:18    306\n",
       "2022-07-25 00:00:19    442\n",
       "2022-07-25 00:00:20    187\n",
       "2022-07-25 00:00:21    372\n",
       "2022-07-25 00:00:22     92\n",
       "2022-07-25 00:00:23    177\n",
       "2022-07-25 00:00:24    205\n",
       "2022-07-25 00:00:25     63\n",
       "2022-07-25 00:00:26    473\n",
       "2022-07-25 00:00:27     96\n",
       "2022-07-25 00:00:28    314\n",
       "2022-07-25 00:00:29    385\n",
       "Freq: S, dtype: int32"
      ]
     },
     "execution_count": 77,
     "metadata": {},
     "output_type": "execute_result"
    }
   ],
   "source": [
    "ts = pd.Series(np.random.randint(0, 500, len(rng)), index=rng)\n",
    "ts"
   ]
  },
  {
   "cell_type": "code",
   "execution_count": 78,
   "metadata": {},
   "outputs": [
    {
     "data": {
      "text/plain": [
       "2022-07-25 00:00:00     683\n",
       "2022-07-25 00:00:03     534\n",
       "2022-07-25 00:00:06     750\n",
       "2022-07-25 00:00:09     965\n",
       "2022-07-25 00:00:12     659\n",
       "2022-07-25 00:00:15    1287\n",
       "2022-07-25 00:00:18     935\n",
       "2022-07-25 00:00:21     641\n",
       "2022-07-25 00:00:24     741\n",
       "2022-07-25 00:00:27     795\n",
       "Freq: 3S, dtype: int32"
      ]
     },
     "execution_count": 78,
     "metadata": {},
     "output_type": "execute_result"
    }
   ],
   "source": [
    "ts.resample('3S').sum()"
   ]
  },
  {
   "cell_type": "markdown",
   "metadata": {},
   "source": [
    "**DataFrame**<br>\n",
    "　　DataFrame是一个表格型的数据结构，它含有一组有序的列，每一列的数据结构都是相同的，而不同的列之间则可以是不同的数据结构。DataFrame中的每一行是一个记录，名称为Index的一个元素，而每一列则为一个字段，是这个记录的一个属性，DataFrame既有行索引也有列索引。<br>\n",
    "　　创建DataFrame<br>\n",
    "　　首先来看如何从字典创建DataFrame。<br>"
   ]
  },
  {
   "cell_type": "code",
   "execution_count": 79,
   "metadata": {},
   "outputs": [],
   "source": [
    "d_1 = {'one': [1, 2, 3], 'two': [1, 2,4]}                                 #方法一\n",
    "d_2 = [{'three': 1.6, 'four': 2, 'five': 9}, {'three': 3, 'four': 6, 'five': 9},{'three': 8, 'four': 6, 'five': 7}]         #方法二"
   ]
  },
  {
   "cell_type": "code",
   "execution_count": 80,
   "metadata": {},
   "outputs": [
    {
     "data": {
      "text/html": [
       "<div>\n",
       "<style scoped>\n",
       "    .dataframe tbody tr th:only-of-type {\n",
       "        vertical-align: middle;\n",
       "    }\n",
       "\n",
       "    .dataframe tbody tr th {\n",
       "        vertical-align: top;\n",
       "    }\n",
       "\n",
       "    .dataframe thead th {\n",
       "        text-align: right;\n",
       "    }\n",
       "</style>\n",
       "<table border=\"1\" class=\"dataframe\">\n",
       "  <thead>\n",
       "    <tr style=\"text-align: right;\">\n",
       "      <th></th>\n",
       "      <th>one</th>\n",
       "      <th>two</th>\n",
       "    </tr>\n",
       "  </thead>\n",
       "  <tbody>\n",
       "    <tr>\n",
       "      <th>a</th>\n",
       "      <td>1</td>\n",
       "      <td>1</td>\n",
       "    </tr>\n",
       "    <tr>\n",
       "      <th>b</th>\n",
       "      <td>2</td>\n",
       "      <td>2</td>\n",
       "    </tr>\n",
       "    <tr>\n",
       "      <th>c</th>\n",
       "      <td>3</td>\n",
       "      <td>4</td>\n",
       "    </tr>\n",
       "  </tbody>\n",
       "</table>\n",
       "</div>"
      ],
      "text/plain": [
       "   one  two\n",
       "a    1    1\n",
       "b    2    2\n",
       "c    3    4"
      ]
     },
     "execution_count": 80,
     "metadata": {},
     "output_type": "execute_result"
    }
   ],
   "source": [
    "dataframe_example_1= pd.DataFrame(d_1,index=['a', 'b', 'c'])\n",
    "dataframe_example_1"
   ]
  },
  {
   "cell_type": "code",
   "execution_count": 81,
   "metadata": {},
   "outputs": [
    {
     "data": {
      "text/html": [
       "<div>\n",
       "<style scoped>\n",
       "    .dataframe tbody tr th:only-of-type {\n",
       "        vertical-align: middle;\n",
       "    }\n",
       "\n",
       "    .dataframe tbody tr th {\n",
       "        vertical-align: top;\n",
       "    }\n",
       "\n",
       "    .dataframe thead th {\n",
       "        text-align: right;\n",
       "    }\n",
       "</style>\n",
       "<table border=\"1\" class=\"dataframe\">\n",
       "  <thead>\n",
       "    <tr style=\"text-align: right;\">\n",
       "      <th></th>\n",
       "      <th>three</th>\n",
       "      <th>four</th>\n",
       "      <th>five</th>\n",
       "    </tr>\n",
       "  </thead>\n",
       "  <tbody>\n",
       "    <tr>\n",
       "      <th>a</th>\n",
       "      <td>1.6</td>\n",
       "      <td>2</td>\n",
       "      <td>9</td>\n",
       "    </tr>\n",
       "    <tr>\n",
       "      <th>b</th>\n",
       "      <td>3.0</td>\n",
       "      <td>6</td>\n",
       "      <td>9</td>\n",
       "    </tr>\n",
       "    <tr>\n",
       "      <th>c</th>\n",
       "      <td>8.0</td>\n",
       "      <td>6</td>\n",
       "      <td>7</td>\n",
       "    </tr>\n",
       "  </tbody>\n",
       "</table>\n",
       "</div>"
      ],
      "text/plain": [
       "   three  four  five\n",
       "a    1.6     2     9\n",
       "b    3.0     6     9\n",
       "c    8.0     6     7"
      ]
     },
     "execution_count": 81,
     "metadata": {},
     "output_type": "execute_result"
    }
   ],
   "source": [
    "dataframe_example_2= pd.DataFrame(d_2,index = ['a', 'b', 'c'])\n",
    "dataframe_example_2"
   ]
  },
  {
   "cell_type": "code",
   "execution_count": 82,
   "metadata": {},
   "outputs": [
    {
     "data": {
      "text/html": [
       "<div>\n",
       "<style scoped>\n",
       "    .dataframe tbody tr th:only-of-type {\n",
       "        vertical-align: middle;\n",
       "    }\n",
       "\n",
       "    .dataframe tbody tr th {\n",
       "        vertical-align: top;\n",
       "    }\n",
       "\n",
       "    .dataframe thead th {\n",
       "        text-align: right;\n",
       "    }\n",
       "</style>\n",
       "<table border=\"1\" class=\"dataframe\">\n",
       "  <thead>\n",
       "    <tr style=\"text-align: right;\">\n",
       "      <th></th>\n",
       "      <th>three</th>\n",
       "      <th>four</th>\n",
       "      <th>five</th>\n",
       "      <th>one</th>\n",
       "      <th>two</th>\n",
       "    </tr>\n",
       "  </thead>\n",
       "  <tbody>\n",
       "    <tr>\n",
       "      <th>a</th>\n",
       "      <td>1.6</td>\n",
       "      <td>2</td>\n",
       "      <td>9</td>\n",
       "      <td>1</td>\n",
       "      <td>1</td>\n",
       "    </tr>\n",
       "    <tr>\n",
       "      <th>b</th>\n",
       "      <td>3.0</td>\n",
       "      <td>6</td>\n",
       "      <td>9</td>\n",
       "      <td>2</td>\n",
       "      <td>2</td>\n",
       "    </tr>\n",
       "    <tr>\n",
       "      <th>c</th>\n",
       "      <td>8.0</td>\n",
       "      <td>6</td>\n",
       "      <td>7</td>\n",
       "      <td>3</td>\n",
       "      <td>4</td>\n",
       "    </tr>\n",
       "  </tbody>\n",
       "</table>\n",
       "</div>"
      ],
      "text/plain": [
       "   three  four  five  one  two\n",
       "a    1.6     2     9    1    1\n",
       "b    3.0     6     9    2    2\n",
       "c    8.0     6     7    3    4"
      ]
     },
     "execution_count": 82,
     "metadata": {},
     "output_type": "execute_result"
    }
   ],
   "source": [
    "#横向合并\n",
    "dataframe_example = pd.concat([dataframe_example_2,dataframe_example_1],axis = 1)\n",
    "dataframe_example"
   ]
  },
  {
   "cell_type": "code",
   "execution_count": 83,
   "metadata": {},
   "outputs": [
    {
     "data": {
      "text/html": [
       "<div>\n",
       "<style scoped>\n",
       "    .dataframe tbody tr th:only-of-type {\n",
       "        vertical-align: middle;\n",
       "    }\n",
       "\n",
       "    .dataframe tbody tr th {\n",
       "        vertical-align: top;\n",
       "    }\n",
       "\n",
       "    .dataframe thead th {\n",
       "        text-align: right;\n",
       "    }\n",
       "</style>\n",
       "<table border=\"1\" class=\"dataframe\">\n",
       "  <thead>\n",
       "    <tr style=\"text-align: right;\">\n",
       "      <th></th>\n",
       "      <th>one</th>\n",
       "      <th>two</th>\n",
       "      <th>three</th>\n",
       "      <th>four</th>\n",
       "      <th>five</th>\n",
       "    </tr>\n",
       "  </thead>\n",
       "  <tbody>\n",
       "    <tr>\n",
       "      <th>a</th>\n",
       "      <td>1.0</td>\n",
       "      <td>1.0</td>\n",
       "      <td>NaN</td>\n",
       "      <td>NaN</td>\n",
       "      <td>NaN</td>\n",
       "    </tr>\n",
       "    <tr>\n",
       "      <th>b</th>\n",
       "      <td>2.0</td>\n",
       "      <td>2.0</td>\n",
       "      <td>NaN</td>\n",
       "      <td>NaN</td>\n",
       "      <td>NaN</td>\n",
       "    </tr>\n",
       "    <tr>\n",
       "      <th>c</th>\n",
       "      <td>3.0</td>\n",
       "      <td>4.0</td>\n",
       "      <td>NaN</td>\n",
       "      <td>NaN</td>\n",
       "      <td>NaN</td>\n",
       "    </tr>\n",
       "    <tr>\n",
       "      <th>a</th>\n",
       "      <td>NaN</td>\n",
       "      <td>NaN</td>\n",
       "      <td>1.6</td>\n",
       "      <td>2.0</td>\n",
       "      <td>9.0</td>\n",
       "    </tr>\n",
       "    <tr>\n",
       "      <th>b</th>\n",
       "      <td>NaN</td>\n",
       "      <td>NaN</td>\n",
       "      <td>3.0</td>\n",
       "      <td>6.0</td>\n",
       "      <td>9.0</td>\n",
       "    </tr>\n",
       "    <tr>\n",
       "      <th>c</th>\n",
       "      <td>NaN</td>\n",
       "      <td>NaN</td>\n",
       "      <td>8.0</td>\n",
       "      <td>6.0</td>\n",
       "      <td>7.0</td>\n",
       "    </tr>\n",
       "  </tbody>\n",
       "</table>\n",
       "</div>"
      ],
      "text/plain": [
       "   one  two  three  four  five\n",
       "a  1.0  1.0    NaN   NaN   NaN\n",
       "b  2.0  2.0    NaN   NaN   NaN\n",
       "c  3.0  4.0    NaN   NaN   NaN\n",
       "a  NaN  NaN    1.6   2.0   9.0\n",
       "b  NaN  NaN    3.0   6.0   9.0\n",
       "c  NaN  NaN    8.0   6.0   7.0"
      ]
     },
     "execution_count": 83,
     "metadata": {},
     "output_type": "execute_result"
    }
   ],
   "source": [
    "#纵向合并\n",
    "dataframe_example = pd.concat([dataframe_example_1,dataframe_example_2],axis = 0)\n",
    "dataframe_example"
   ]
  },
  {
   "cell_type": "markdown",
   "metadata": {},
   "source": [
    "**DataFrame属性**"
   ]
  },
  {
   "cell_type": "code",
   "execution_count": 84,
   "metadata": {},
   "outputs": [
    {
     "data": {
      "text/plain": [
       "Index(['a', 'b', 'c', 'a', 'b', 'c'], dtype='object')"
      ]
     },
     "execution_count": 84,
     "metadata": {},
     "output_type": "execute_result"
    }
   ],
   "source": [
    "dataframe_example.index"
   ]
  },
  {
   "cell_type": "code",
   "execution_count": 85,
   "metadata": {},
   "outputs": [
    {
     "data": {
      "text/html": [
       "<div>\n",
       "<style scoped>\n",
       "    .dataframe tbody tr th:only-of-type {\n",
       "        vertical-align: middle;\n",
       "    }\n",
       "\n",
       "    .dataframe tbody tr th {\n",
       "        vertical-align: top;\n",
       "    }\n",
       "\n",
       "    .dataframe thead th {\n",
       "        text-align: right;\n",
       "    }\n",
       "</style>\n",
       "<table border=\"1\" class=\"dataframe\">\n",
       "  <thead>\n",
       "    <tr style=\"text-align: right;\">\n",
       "      <th></th>\n",
       "      <th>index</th>\n",
       "      <th>one</th>\n",
       "      <th>two</th>\n",
       "      <th>three</th>\n",
       "      <th>four</th>\n",
       "      <th>five</th>\n",
       "    </tr>\n",
       "  </thead>\n",
       "  <tbody>\n",
       "    <tr>\n",
       "      <th>0</th>\n",
       "      <td>a</td>\n",
       "      <td>1.0</td>\n",
       "      <td>1.0</td>\n",
       "      <td>NaN</td>\n",
       "      <td>NaN</td>\n",
       "      <td>NaN</td>\n",
       "    </tr>\n",
       "    <tr>\n",
       "      <th>1</th>\n",
       "      <td>b</td>\n",
       "      <td>2.0</td>\n",
       "      <td>2.0</td>\n",
       "      <td>NaN</td>\n",
       "      <td>NaN</td>\n",
       "      <td>NaN</td>\n",
       "    </tr>\n",
       "    <tr>\n",
       "      <th>2</th>\n",
       "      <td>c</td>\n",
       "      <td>3.0</td>\n",
       "      <td>4.0</td>\n",
       "      <td>NaN</td>\n",
       "      <td>NaN</td>\n",
       "      <td>NaN</td>\n",
       "    </tr>\n",
       "    <tr>\n",
       "      <th>3</th>\n",
       "      <td>a</td>\n",
       "      <td>NaN</td>\n",
       "      <td>NaN</td>\n",
       "      <td>1.6</td>\n",
       "      <td>2.0</td>\n",
       "      <td>9.0</td>\n",
       "    </tr>\n",
       "    <tr>\n",
       "      <th>4</th>\n",
       "      <td>b</td>\n",
       "      <td>NaN</td>\n",
       "      <td>NaN</td>\n",
       "      <td>3.0</td>\n",
       "      <td>6.0</td>\n",
       "      <td>9.0</td>\n",
       "    </tr>\n",
       "    <tr>\n",
       "      <th>5</th>\n",
       "      <td>c</td>\n",
       "      <td>NaN</td>\n",
       "      <td>NaN</td>\n",
       "      <td>8.0</td>\n",
       "      <td>6.0</td>\n",
       "      <td>7.0</td>\n",
       "    </tr>\n",
       "  </tbody>\n",
       "</table>\n",
       "</div>"
      ],
      "text/plain": [
       "  index  one  two  three  four  five\n",
       "0     a  1.0  1.0    NaN   NaN   NaN\n",
       "1     b  2.0  2.0    NaN   NaN   NaN\n",
       "2     c  3.0  4.0    NaN   NaN   NaN\n",
       "3     a  NaN  NaN    1.6   2.0   9.0\n",
       "4     b  NaN  NaN    3.0   6.0   9.0\n",
       "5     c  NaN  NaN    8.0   6.0   7.0"
      ]
     },
     "execution_count": 85,
     "metadata": {},
     "output_type": "execute_result"
    }
   ],
   "source": [
    "dataframe_example.reset_index(inplace = True)\n",
    "dataframe_example"
   ]
  },
  {
   "cell_type": "code",
   "execution_count": 86,
   "metadata": {},
   "outputs": [
    {
     "data": {
      "text/html": [
       "<div>\n",
       "<style scoped>\n",
       "    .dataframe tbody tr th:only-of-type {\n",
       "        vertical-align: middle;\n",
       "    }\n",
       "\n",
       "    .dataframe tbody tr th {\n",
       "        vertical-align: top;\n",
       "    }\n",
       "\n",
       "    .dataframe thead th {\n",
       "        text-align: right;\n",
       "    }\n",
       "</style>\n",
       "<table border=\"1\" class=\"dataframe\">\n",
       "  <thead>\n",
       "    <tr style=\"text-align: right;\">\n",
       "      <th></th>\n",
       "      <th>one</th>\n",
       "      <th>two</th>\n",
       "      <th>three</th>\n",
       "      <th>four</th>\n",
       "      <th>five</th>\n",
       "    </tr>\n",
       "    <tr>\n",
       "      <th>index</th>\n",
       "      <th></th>\n",
       "      <th></th>\n",
       "      <th></th>\n",
       "      <th></th>\n",
       "      <th></th>\n",
       "    </tr>\n",
       "  </thead>\n",
       "  <tbody>\n",
       "    <tr>\n",
       "      <th>a</th>\n",
       "      <td>1.0</td>\n",
       "      <td>1.0</td>\n",
       "      <td>NaN</td>\n",
       "      <td>NaN</td>\n",
       "      <td>NaN</td>\n",
       "    </tr>\n",
       "    <tr>\n",
       "      <th>b</th>\n",
       "      <td>2.0</td>\n",
       "      <td>2.0</td>\n",
       "      <td>NaN</td>\n",
       "      <td>NaN</td>\n",
       "      <td>NaN</td>\n",
       "    </tr>\n",
       "    <tr>\n",
       "      <th>c</th>\n",
       "      <td>3.0</td>\n",
       "      <td>4.0</td>\n",
       "      <td>NaN</td>\n",
       "      <td>NaN</td>\n",
       "      <td>NaN</td>\n",
       "    </tr>\n",
       "    <tr>\n",
       "      <th>a</th>\n",
       "      <td>NaN</td>\n",
       "      <td>NaN</td>\n",
       "      <td>1.6</td>\n",
       "      <td>2.0</td>\n",
       "      <td>9.0</td>\n",
       "    </tr>\n",
       "    <tr>\n",
       "      <th>b</th>\n",
       "      <td>NaN</td>\n",
       "      <td>NaN</td>\n",
       "      <td>3.0</td>\n",
       "      <td>6.0</td>\n",
       "      <td>9.0</td>\n",
       "    </tr>\n",
       "    <tr>\n",
       "      <th>c</th>\n",
       "      <td>NaN</td>\n",
       "      <td>NaN</td>\n",
       "      <td>8.0</td>\n",
       "      <td>6.0</td>\n",
       "      <td>7.0</td>\n",
       "    </tr>\n",
       "  </tbody>\n",
       "</table>\n",
       "</div>"
      ],
      "text/plain": [
       "       one  two  three  four  five\n",
       "index                             \n",
       "a      1.0  1.0    NaN   NaN   NaN\n",
       "b      2.0  2.0    NaN   NaN   NaN\n",
       "c      3.0  4.0    NaN   NaN   NaN\n",
       "a      NaN  NaN    1.6   2.0   9.0\n",
       "b      NaN  NaN    3.0   6.0   9.0\n",
       "c      NaN  NaN    8.0   6.0   7.0"
      ]
     },
     "execution_count": 86,
     "metadata": {},
     "output_type": "execute_result"
    }
   ],
   "source": [
    "dataframe_example.set_index('index',inplace = True)\n",
    "dataframe_example"
   ]
  },
  {
   "cell_type": "code",
   "execution_count": 87,
   "metadata": {},
   "outputs": [
    {
     "data": {
      "text/plain": [
       "Index(['one', 'two', 'three', 'four', 'five'], dtype='object')"
      ]
     },
     "execution_count": 87,
     "metadata": {},
     "output_type": "execute_result"
    }
   ],
   "source": [
    "dataframe_example.columns"
   ]
  },
  {
   "cell_type": "code",
   "execution_count": 88,
   "metadata": {},
   "outputs": [
    {
     "data": {
      "text/html": [
       "<div>\n",
       "<style scoped>\n",
       "    .dataframe tbody tr th:only-of-type {\n",
       "        vertical-align: middle;\n",
       "    }\n",
       "\n",
       "    .dataframe tbody tr th {\n",
       "        vertical-align: top;\n",
       "    }\n",
       "\n",
       "    .dataframe thead th {\n",
       "        text-align: right;\n",
       "    }\n",
       "</style>\n",
       "<table border=\"1\" class=\"dataframe\">\n",
       "  <thead>\n",
       "    <tr style=\"text-align: right;\">\n",
       "      <th></th>\n",
       "      <th>A</th>\n",
       "      <th>B</th>\n",
       "      <th>C</th>\n",
       "      <th>D</th>\n",
       "      <th>E</th>\n",
       "    </tr>\n",
       "    <tr>\n",
       "      <th>index</th>\n",
       "      <th></th>\n",
       "      <th></th>\n",
       "      <th></th>\n",
       "      <th></th>\n",
       "      <th></th>\n",
       "    </tr>\n",
       "  </thead>\n",
       "  <tbody>\n",
       "    <tr>\n",
       "      <th>a</th>\n",
       "      <td>1.0</td>\n",
       "      <td>1.0</td>\n",
       "      <td>NaN</td>\n",
       "      <td>NaN</td>\n",
       "      <td>NaN</td>\n",
       "    </tr>\n",
       "    <tr>\n",
       "      <th>b</th>\n",
       "      <td>2.0</td>\n",
       "      <td>2.0</td>\n",
       "      <td>NaN</td>\n",
       "      <td>NaN</td>\n",
       "      <td>NaN</td>\n",
       "    </tr>\n",
       "    <tr>\n",
       "      <th>c</th>\n",
       "      <td>3.0</td>\n",
       "      <td>4.0</td>\n",
       "      <td>NaN</td>\n",
       "      <td>NaN</td>\n",
       "      <td>NaN</td>\n",
       "    </tr>\n",
       "    <tr>\n",
       "      <th>a</th>\n",
       "      <td>NaN</td>\n",
       "      <td>NaN</td>\n",
       "      <td>1.6</td>\n",
       "      <td>2.0</td>\n",
       "      <td>9.0</td>\n",
       "    </tr>\n",
       "    <tr>\n",
       "      <th>b</th>\n",
       "      <td>NaN</td>\n",
       "      <td>NaN</td>\n",
       "      <td>3.0</td>\n",
       "      <td>6.0</td>\n",
       "      <td>9.0</td>\n",
       "    </tr>\n",
       "    <tr>\n",
       "      <th>c</th>\n",
       "      <td>NaN</td>\n",
       "      <td>NaN</td>\n",
       "      <td>8.0</td>\n",
       "      <td>6.0</td>\n",
       "      <td>7.0</td>\n",
       "    </tr>\n",
       "  </tbody>\n",
       "</table>\n",
       "</div>"
      ],
      "text/plain": [
       "         A    B    C    D    E\n",
       "index                         \n",
       "a      1.0  1.0  NaN  NaN  NaN\n",
       "b      2.0  2.0  NaN  NaN  NaN\n",
       "c      3.0  4.0  NaN  NaN  NaN\n",
       "a      NaN  NaN  1.6  2.0  9.0\n",
       "b      NaN  NaN  3.0  6.0  9.0\n",
       "c      NaN  NaN  8.0  6.0  7.0"
      ]
     },
     "execution_count": 88,
     "metadata": {},
     "output_type": "execute_result"
    }
   ],
   "source": [
    "dataframe_example.columns = ['A','B','C','D','E']\n",
    "dataframe_example"
   ]
  },
  {
   "cell_type": "code",
   "execution_count": 89,
   "metadata": {},
   "outputs": [
    {
     "data": {
      "text/plain": [
       "array([[1. , 1. , nan, nan, nan],\n",
       "       [2. , 2. , nan, nan, nan],\n",
       "       [3. , 4. , nan, nan, nan],\n",
       "       [nan, nan, 1.6, 2. , 9. ],\n",
       "       [nan, nan, 3. , 6. , 9. ],\n",
       "       [nan, nan, 8. , 6. , 7. ]])"
      ]
     },
     "execution_count": 89,
     "metadata": {},
     "output_type": "execute_result"
    }
   ],
   "source": [
    "dataframe_example.values"
   ]
  },
  {
   "cell_type": "markdown",
   "metadata": {},
   "source": [
    "### 6 数据清洗\n",
    "#### 6.1 stack和unstack"
   ]
  },
  {
   "cell_type": "code",
   "execution_count": 92,
   "metadata": {},
   "outputs": [],
   "source": [
    "close = get_price(stock_list, '20200101','20220101',fields='close')"
   ]
  },
  {
   "cell_type": "code",
   "execution_count": 93,
   "metadata": {},
   "outputs": [
    {
     "data": {
      "text/html": [
       "<div>\n",
       "<style scoped>\n",
       "    .dataframe tbody tr th:only-of-type {\n",
       "        vertical-align: middle;\n",
       "    }\n",
       "\n",
       "    .dataframe tbody tr th {\n",
       "        vertical-align: top;\n",
       "    }\n",
       "\n",
       "    .dataframe thead th {\n",
       "        text-align: right;\n",
       "    }\n",
       "</style>\n",
       "<table border=\"1\" class=\"dataframe\">\n",
       "  <thead>\n",
       "    <tr style=\"text-align: right;\">\n",
       "      <th></th>\n",
       "      <th></th>\n",
       "      <th>close</th>\n",
       "    </tr>\n",
       "    <tr>\n",
       "      <th>order_book_id</th>\n",
       "      <th>date</th>\n",
       "      <th></th>\n",
       "    </tr>\n",
       "  </thead>\n",
       "  <tbody>\n",
       "    <tr>\n",
       "      <th rowspan=\"5\" valign=\"top\">600886.XSHG</th>\n",
       "      <th>2020-01-02</th>\n",
       "      <td>8.3035</td>\n",
       "    </tr>\n",
       "    <tr>\n",
       "      <th>2020-01-03</th>\n",
       "      <td>8.2399</td>\n",
       "    </tr>\n",
       "    <tr>\n",
       "      <th>2020-01-06</th>\n",
       "      <td>7.9765</td>\n",
       "    </tr>\n",
       "    <tr>\n",
       "      <th>2020-01-07</th>\n",
       "      <td>8.0673</td>\n",
       "    </tr>\n",
       "    <tr>\n",
       "      <th>2020-01-08</th>\n",
       "      <td>8.0310</td>\n",
       "    </tr>\n",
       "    <tr>\n",
       "      <th>...</th>\n",
       "      <th>...</th>\n",
       "      <td>...</td>\n",
       "    </tr>\n",
       "    <tr>\n",
       "      <th rowspan=\"5\" valign=\"top\">000858.XSHE</th>\n",
       "      <th>2021-12-27</th>\n",
       "      <td>227.3542</td>\n",
       "    </tr>\n",
       "    <tr>\n",
       "      <th>2021-12-28</th>\n",
       "      <td>228.6729</td>\n",
       "    </tr>\n",
       "    <tr>\n",
       "      <th>2021-12-29</th>\n",
       "      <td>217.2383</td>\n",
       "    </tr>\n",
       "    <tr>\n",
       "      <th>2021-12-30</th>\n",
       "      <td>217.0458</td>\n",
       "    </tr>\n",
       "    <tr>\n",
       "      <th>2021-12-31</th>\n",
       "      <td>214.3122</td>\n",
       "    </tr>\n",
       "  </tbody>\n",
       "</table>\n",
       "<p>2430 rows × 1 columns</p>\n",
       "</div>"
      ],
      "text/plain": [
       "                             close\n",
       "order_book_id date                \n",
       "600886.XSHG   2020-01-02    8.3035\n",
       "              2020-01-03    8.2399\n",
       "              2020-01-06    7.9765\n",
       "              2020-01-07    8.0673\n",
       "              2020-01-08    8.0310\n",
       "...                            ...\n",
       "000858.XSHE   2021-12-27  227.3542\n",
       "              2021-12-28  228.6729\n",
       "              2021-12-29  217.2383\n",
       "              2021-12-30  217.0458\n",
       "              2021-12-31  214.3122\n",
       "\n",
       "[2430 rows x 1 columns]"
      ]
     },
     "execution_count": 93,
     "metadata": {},
     "output_type": "execute_result"
    }
   ],
   "source": [
    "close"
   ]
  },
  {
   "cell_type": "code",
   "execution_count": 94,
   "metadata": {},
   "outputs": [
    {
     "data": {
      "text/html": [
       "<div>\n",
       "<style scoped>\n",
       "    .dataframe tbody tr th:only-of-type {\n",
       "        vertical-align: middle;\n",
       "    }\n",
       "\n",
       "    .dataframe tbody tr th {\n",
       "        vertical-align: top;\n",
       "    }\n",
       "\n",
       "    .dataframe thead th {\n",
       "        text-align: right;\n",
       "    }\n",
       "</style>\n",
       "<table border=\"1\" class=\"dataframe\">\n",
       "  <thead>\n",
       "    <tr style=\"text-align: right;\">\n",
       "      <th>order_book_id</th>\n",
       "      <th>600886.XSHG</th>\n",
       "      <th>600018.XSHG</th>\n",
       "      <th>600398.XSHG</th>\n",
       "      <th>600271.XSHG</th>\n",
       "      <th>000858.XSHE</th>\n",
       "    </tr>\n",
       "    <tr>\n",
       "      <th>date</th>\n",
       "      <th></th>\n",
       "      <th></th>\n",
       "      <th></th>\n",
       "      <th></th>\n",
       "      <th></th>\n",
       "    </tr>\n",
       "  </thead>\n",
       "  <tbody>\n",
       "    <tr>\n",
       "      <th>2020-01-02</th>\n",
       "      <td>8.3035</td>\n",
       "      <td>5.1786</td>\n",
       "      <td>6.2446</td>\n",
       "      <td>21.9960</td>\n",
       "      <td>124.2396</td>\n",
       "    </tr>\n",
       "    <tr>\n",
       "      <th>2020-01-03</th>\n",
       "      <td>8.2399</td>\n",
       "      <td>5.1963</td>\n",
       "      <td>6.2995</td>\n",
       "      <td>22.4987</td>\n",
       "      <td>122.8004</td>\n",
       "    </tr>\n",
       "    <tr>\n",
       "      <th>2020-01-06</th>\n",
       "      <td>7.9765</td>\n",
       "      <td>5.1786</td>\n",
       "      <td>6.1976</td>\n",
       "      <td>22.3185</td>\n",
       "      <td>121.5306</td>\n",
       "    </tr>\n",
       "    <tr>\n",
       "      <th>2020-01-07</th>\n",
       "      <td>8.0673</td>\n",
       "      <td>5.1963</td>\n",
       "      <td>6.2760</td>\n",
       "      <td>22.9065</td>\n",
       "      <td>121.6905</td>\n",
       "    </tr>\n",
       "    <tr>\n",
       "      <th>2020-01-08</th>\n",
       "      <td>8.0310</td>\n",
       "      <td>5.0547</td>\n",
       "      <td>6.1741</td>\n",
       "      <td>22.4892</td>\n",
       "      <td>121.2390</td>\n",
       "    </tr>\n",
       "    <tr>\n",
       "      <th>...</th>\n",
       "      <td>...</td>\n",
       "      <td>...</td>\n",
       "      <td>...</td>\n",
       "      <td>...</td>\n",
       "      <td>...</td>\n",
       "    </tr>\n",
       "    <tr>\n",
       "      <th>2021-12-27</th>\n",
       "      <td>10.9205</td>\n",
       "      <td>5.0936</td>\n",
       "      <td>5.4470</td>\n",
       "      <td>12.3679</td>\n",
       "      <td>227.3542</td>\n",
       "    </tr>\n",
       "    <tr>\n",
       "      <th>2021-12-28</th>\n",
       "      <td>10.7856</td>\n",
       "      <td>5.1124</td>\n",
       "      <td>5.4640</td>\n",
       "      <td>12.6987</td>\n",
       "      <td>228.6729</td>\n",
       "    </tr>\n",
       "    <tr>\n",
       "      <th>2021-12-29</th>\n",
       "      <td>10.3036</td>\n",
       "      <td>5.1218</td>\n",
       "      <td>5.4894</td>\n",
       "      <td>12.7571</td>\n",
       "      <td>217.2383</td>\n",
       "    </tr>\n",
       "    <tr>\n",
       "      <th>2021-12-30</th>\n",
       "      <td>10.6314</td>\n",
       "      <td>5.1594</td>\n",
       "      <td>5.4470</td>\n",
       "      <td>12.9809</td>\n",
       "      <td>217.0458</td>\n",
       "    </tr>\n",
       "    <tr>\n",
       "      <th>2021-12-31</th>\n",
       "      <td>11.0555</td>\n",
       "      <td>5.1500</td>\n",
       "      <td>5.4301</td>\n",
       "      <td>13.0296</td>\n",
       "      <td>214.3122</td>\n",
       "    </tr>\n",
       "  </tbody>\n",
       "</table>\n",
       "<p>486 rows × 5 columns</p>\n",
       "</div>"
      ],
      "text/plain": [
       "order_book_id  600886.XSHG  600018.XSHG  600398.XSHG  600271.XSHG  000858.XSHE\n",
       "date                                                                          \n",
       "2020-01-02          8.3035       5.1786       6.2446      21.9960     124.2396\n",
       "2020-01-03          8.2399       5.1963       6.2995      22.4987     122.8004\n",
       "2020-01-06          7.9765       5.1786       6.1976      22.3185     121.5306\n",
       "2020-01-07          8.0673       5.1963       6.2760      22.9065     121.6905\n",
       "2020-01-08          8.0310       5.0547       6.1741      22.4892     121.2390\n",
       "...                    ...          ...          ...          ...          ...\n",
       "2021-12-27         10.9205       5.0936       5.4470      12.3679     227.3542\n",
       "2021-12-28         10.7856       5.1124       5.4640      12.6987     228.6729\n",
       "2021-12-29         10.3036       5.1218       5.4894      12.7571     217.2383\n",
       "2021-12-30         10.6314       5.1594       5.4470      12.9809     217.0458\n",
       "2021-12-31         11.0555       5.1500       5.4301      13.0296     214.3122\n",
       "\n",
       "[486 rows x 5 columns]"
      ]
     },
     "execution_count": 94,
     "metadata": {},
     "output_type": "execute_result"
    }
   ],
   "source": [
    "# unstack\n",
    "close.close.unstack('order_book_id')"
   ]
  },
  {
   "cell_type": "code",
   "execution_count": 95,
   "metadata": {},
   "outputs": [
    {
     "data": {
      "text/html": [
       "<div>\n",
       "<style scoped>\n",
       "    .dataframe tbody tr th:only-of-type {\n",
       "        vertical-align: middle;\n",
       "    }\n",
       "\n",
       "    .dataframe tbody tr th {\n",
       "        vertical-align: top;\n",
       "    }\n",
       "\n",
       "    .dataframe thead th {\n",
       "        text-align: right;\n",
       "    }\n",
       "</style>\n",
       "<table border=\"1\" class=\"dataframe\">\n",
       "  <thead>\n",
       "    <tr style=\"text-align: right;\">\n",
       "      <th>order_book_id</th>\n",
       "      <th>600886.XSHG</th>\n",
       "      <th>600018.XSHG</th>\n",
       "      <th>600398.XSHG</th>\n",
       "      <th>600271.XSHG</th>\n",
       "      <th>000858.XSHE</th>\n",
       "    </tr>\n",
       "    <tr>\n",
       "      <th>date</th>\n",
       "      <th></th>\n",
       "      <th></th>\n",
       "      <th></th>\n",
       "      <th></th>\n",
       "      <th></th>\n",
       "    </tr>\n",
       "  </thead>\n",
       "  <tbody>\n",
       "    <tr>\n",
       "      <th>2020-01-03</th>\n",
       "      <td>-0.007659</td>\n",
       "      <td>0.003418</td>\n",
       "      <td>0.008792</td>\n",
       "      <td>0.022854</td>\n",
       "      <td>-0.011584</td>\n",
       "    </tr>\n",
       "    <tr>\n",
       "      <th>2020-01-06</th>\n",
       "      <td>-0.031966</td>\n",
       "      <td>-0.003406</td>\n",
       "      <td>-0.016176</td>\n",
       "      <td>-0.008009</td>\n",
       "      <td>-0.010340</td>\n",
       "    </tr>\n",
       "    <tr>\n",
       "      <th>2020-01-07</th>\n",
       "      <td>0.011383</td>\n",
       "      <td>0.003418</td>\n",
       "      <td>0.012650</td>\n",
       "      <td>0.026346</td>\n",
       "      <td>0.001316</td>\n",
       "    </tr>\n",
       "    <tr>\n",
       "      <th>2020-01-08</th>\n",
       "      <td>-0.004500</td>\n",
       "      <td>-0.027250</td>\n",
       "      <td>-0.016236</td>\n",
       "      <td>-0.018218</td>\n",
       "      <td>-0.003710</td>\n",
       "    </tr>\n",
       "    <tr>\n",
       "      <th>2020-01-09</th>\n",
       "      <td>0.014706</td>\n",
       "      <td>0.007003</td>\n",
       "      <td>0.008892</td>\n",
       "      <td>0.012233</td>\n",
       "      <td>0.014586</td>\n",
       "    </tr>\n",
       "    <tr>\n",
       "      <th>...</th>\n",
       "      <td>...</td>\n",
       "      <td>...</td>\n",
       "      <td>...</td>\n",
       "      <td>...</td>\n",
       "      <td>...</td>\n",
       "    </tr>\n",
       "    <tr>\n",
       "      <th>2021-12-27</th>\n",
       "      <td>0.019797</td>\n",
       "      <td>-0.010951</td>\n",
       "      <td>0.009414</td>\n",
       "      <td>-0.011667</td>\n",
       "      <td>-0.023684</td>\n",
       "    </tr>\n",
       "    <tr>\n",
       "      <th>2021-12-28</th>\n",
       "      <td>-0.012353</td>\n",
       "      <td>0.003691</td>\n",
       "      <td>0.003121</td>\n",
       "      <td>0.026747</td>\n",
       "      <td>0.005800</td>\n",
       "    </tr>\n",
       "    <tr>\n",
       "      <th>2021-12-29</th>\n",
       "      <td>-0.044689</td>\n",
       "      <td>0.001839</td>\n",
       "      <td>0.004649</td>\n",
       "      <td>0.004599</td>\n",
       "      <td>-0.050004</td>\n",
       "    </tr>\n",
       "    <tr>\n",
       "      <th>2021-12-30</th>\n",
       "      <td>0.031814</td>\n",
       "      <td>0.007341</td>\n",
       "      <td>-0.007724</td>\n",
       "      <td>0.017543</td>\n",
       "      <td>-0.000886</td>\n",
       "    </tr>\n",
       "    <tr>\n",
       "      <th>2021-12-31</th>\n",
       "      <td>0.039891</td>\n",
       "      <td>-0.001822</td>\n",
       "      <td>-0.003103</td>\n",
       "      <td>0.003752</td>\n",
       "      <td>-0.012595</td>\n",
       "    </tr>\n",
       "  </tbody>\n",
       "</table>\n",
       "<p>485 rows × 5 columns</p>\n",
       "</div>"
      ],
      "text/plain": [
       "order_book_id  600886.XSHG  600018.XSHG  600398.XSHG  600271.XSHG  000858.XSHE\n",
       "date                                                                          \n",
       "2020-01-03       -0.007659     0.003418     0.008792     0.022854    -0.011584\n",
       "2020-01-06       -0.031966    -0.003406    -0.016176    -0.008009    -0.010340\n",
       "2020-01-07        0.011383     0.003418     0.012650     0.026346     0.001316\n",
       "2020-01-08       -0.004500    -0.027250    -0.016236    -0.018218    -0.003710\n",
       "2020-01-09        0.014706     0.007003     0.008892     0.012233     0.014586\n",
       "...                    ...          ...          ...          ...          ...\n",
       "2021-12-27        0.019797    -0.010951     0.009414    -0.011667    -0.023684\n",
       "2021-12-28       -0.012353     0.003691     0.003121     0.026747     0.005800\n",
       "2021-12-29       -0.044689     0.001839     0.004649     0.004599    -0.050004\n",
       "2021-12-30        0.031814     0.007341    -0.007724     0.017543    -0.000886\n",
       "2021-12-31        0.039891    -0.001822    -0.003103     0.003752    -0.012595\n",
       "\n",
       "[485 rows x 5 columns]"
      ]
     },
     "execution_count": 95,
     "metadata": {},
     "output_type": "execute_result"
    }
   ],
   "source": [
    "close_change = close.close.unstack('order_book_id').pct_change().dropna()\n",
    "close_change"
   ]
  },
  {
   "cell_type": "code",
   "execution_count": 96,
   "metadata": {},
   "outputs": [
    {
     "data": {
      "text/plain": [
       "order_book_id  date      \n",
       "600886.XSHG    2020-01-03   -0.007659\n",
       "               2020-01-06   -0.031966\n",
       "               2020-01-07    0.011383\n",
       "               2020-01-08   -0.004500\n",
       "               2020-01-09    0.014706\n",
       "                               ...   \n",
       "000858.XSHE    2021-12-27   -0.023684\n",
       "               2021-12-28    0.005800\n",
       "               2021-12-29   -0.050004\n",
       "               2021-12-30   -0.000886\n",
       "               2021-12-31   -0.012595\n",
       "Length: 2425, dtype: float64"
      ]
     },
     "execution_count": 96,
     "metadata": {},
     "output_type": "execute_result"
    }
   ],
   "source": [
    "close_change = close_change.unstack()\n",
    "close_change"
   ]
  },
  {
   "cell_type": "markdown",
   "metadata": {},
   "source": [
    "#### 6.2 数据分组Groupby"
   ]
  },
  {
   "cell_type": "code",
   "execution_count": 97,
   "metadata": {},
   "outputs": [
    {
     "data": {
      "text/plain": [
       "date\n",
       "000858.XSHE    0.001486\n",
       "600018.XSHG    0.000179\n",
       "600271.XSHG   -0.000859\n",
       "600398.XSHG   -0.000092\n",
       "600886.XSHG    0.000800\n",
       "Name: return, dtype: float64"
      ]
     },
     "execution_count": 97,
     "metadata": {},
     "output_type": "execute_result"
    }
   ],
   "source": [
    "close_change = close_change.reset_index()           # 推出索引\n",
    "close_change.columns = ['date','stock','return']\n",
    "close_change.groupby(['date'])['return'].mean().head()"
   ]
  },
  {
   "cell_type": "markdown",
   "metadata": {},
   "source": [
    "#### 6.3 **行列索引**"
   ]
  },
  {
   "cell_type": "code",
   "execution_count": 107,
   "metadata": {},
   "outputs": [],
   "source": [
    "price= get_price('000001.XSHE', '20200101', '20220101', fields= ['open', 'high', 'low', 'close'])\n",
    "price = price.droplevel(0)"
   ]
  },
  {
   "cell_type": "code",
   "execution_count": 108,
   "metadata": {},
   "outputs": [
    {
     "data": {
      "text/html": [
       "<div>\n",
       "<style scoped>\n",
       "    .dataframe tbody tr th:only-of-type {\n",
       "        vertical-align: middle;\n",
       "    }\n",
       "\n",
       "    .dataframe tbody tr th {\n",
       "        vertical-align: top;\n",
       "    }\n",
       "\n",
       "    .dataframe thead th {\n",
       "        text-align: right;\n",
       "    }\n",
       "</style>\n",
       "<table border=\"1\" class=\"dataframe\">\n",
       "  <thead>\n",
       "    <tr style=\"text-align: right;\">\n",
       "      <th></th>\n",
       "      <th>open</th>\n",
       "      <th>high</th>\n",
       "      <th>low</th>\n",
       "      <th>close</th>\n",
       "    </tr>\n",
       "    <tr>\n",
       "      <th>date</th>\n",
       "      <th></th>\n",
       "      <th></th>\n",
       "      <th></th>\n",
       "      <th></th>\n",
       "    </tr>\n",
       "  </thead>\n",
       "  <tbody>\n",
       "    <tr>\n",
       "      <th>2020-01-06</th>\n",
       "      <td>15.9087</td>\n",
       "      <td>16.2173</td>\n",
       "      <td>15.8151</td>\n",
       "      <td>15.9648</td>\n",
       "    </tr>\n",
       "  </tbody>\n",
       "</table>\n",
       "</div>"
      ],
      "text/plain": [
       "               open     high      low    close\n",
       "date                                          \n",
       "2020-01-06  15.9087  16.2173  15.8151  15.9648"
      ]
     },
     "execution_count": 108,
     "metadata": {},
     "output_type": "execute_result"
    }
   ],
   "source": [
    "#iloc 相对索引\n",
    "price.iloc[2:3,:]"
   ]
  },
  {
   "cell_type": "code",
   "execution_count": 109,
   "metadata": {},
   "outputs": [
    {
     "data": {
      "text/html": [
       "<div>\n",
       "<style scoped>\n",
       "    .dataframe tbody tr th:only-of-type {\n",
       "        vertical-align: middle;\n",
       "    }\n",
       "\n",
       "    .dataframe tbody tr th {\n",
       "        vertical-align: top;\n",
       "    }\n",
       "\n",
       "    .dataframe thead th {\n",
       "        text-align: right;\n",
       "    }\n",
       "</style>\n",
       "<table border=\"1\" class=\"dataframe\">\n",
       "  <thead>\n",
       "    <tr style=\"text-align: right;\">\n",
       "      <th></th>\n",
       "      <th>low</th>\n",
       "      <th>close</th>\n",
       "    </tr>\n",
       "    <tr>\n",
       "      <th>date</th>\n",
       "      <th></th>\n",
       "      <th></th>\n",
       "    </tr>\n",
       "  </thead>\n",
       "  <tbody>\n",
       "    <tr>\n",
       "      <th>2020-01-06</th>\n",
       "      <td>15.8151</td>\n",
       "      <td>15.9648</td>\n",
       "    </tr>\n",
       "  </tbody>\n",
       "</table>\n",
       "</div>"
      ],
      "text/plain": [
       "                low    close\n",
       "date                        \n",
       "2020-01-06  15.8151  15.9648"
      ]
     },
     "execution_count": 109,
     "metadata": {},
     "output_type": "execute_result"
    }
   ],
   "source": [
    "price.iloc[2:3,2:4]"
   ]
  },
  {
   "cell_type": "code",
   "execution_count": 110,
   "metadata": {},
   "outputs": [
    {
     "data": {
      "text/html": [
       "<div>\n",
       "<style scoped>\n",
       "    .dataframe tbody tr th:only-of-type {\n",
       "        vertical-align: middle;\n",
       "    }\n",
       "\n",
       "    .dataframe tbody tr th {\n",
       "        vertical-align: top;\n",
       "    }\n",
       "\n",
       "    .dataframe thead th {\n",
       "        text-align: right;\n",
       "    }\n",
       "</style>\n",
       "<table border=\"1\" class=\"dataframe\">\n",
       "  <thead>\n",
       "    <tr style=\"text-align: right;\">\n",
       "      <th></th>\n",
       "      <th>open</th>\n",
       "      <th>high</th>\n",
       "      <th>low</th>\n",
       "      <th>close</th>\n",
       "    </tr>\n",
       "    <tr>\n",
       "      <th>date</th>\n",
       "      <th></th>\n",
       "      <th></th>\n",
       "      <th></th>\n",
       "      <th></th>\n",
       "    </tr>\n",
       "  </thead>\n",
       "  <tbody>\n",
       "    <tr>\n",
       "      <th>2021-09-28</th>\n",
       "      <td>16.7483</td>\n",
       "      <td>17.4194</td>\n",
       "      <td>16.7291</td>\n",
       "      <td>17.2276</td>\n",
       "    </tr>\n",
       "    <tr>\n",
       "      <th>2021-09-29</th>\n",
       "      <td>17.1222</td>\n",
       "      <td>17.6782</td>\n",
       "      <td>16.9784</td>\n",
       "      <td>17.4002</td>\n",
       "    </tr>\n",
       "    <tr>\n",
       "      <th>2021-09-30</th>\n",
       "      <td>17.3427</td>\n",
       "      <td>17.4481</td>\n",
       "      <td>16.9784</td>\n",
       "      <td>17.1893</td>\n",
       "    </tr>\n",
       "  </tbody>\n",
       "</table>\n",
       "</div>"
      ],
      "text/plain": [
       "               open     high      low    close\n",
       "date                                          \n",
       "2021-09-28  16.7483  17.4194  16.7291  17.2276\n",
       "2021-09-29  17.1222  17.6782  16.9784  17.4002\n",
       "2021-09-30  17.3427  17.4481  16.9784  17.1893"
      ]
     },
     "execution_count": 110,
     "metadata": {},
     "output_type": "execute_result"
    }
   ],
   "source": [
    "#loc 绝对索引\n",
    "price.loc['2021-09-28':'2021-09-30',]"
   ]
  },
  {
   "cell_type": "code",
   "execution_count": 111,
   "metadata": {},
   "outputs": [
    {
     "data": {
      "text/html": [
       "<div>\n",
       "<style scoped>\n",
       "    .dataframe tbody tr th:only-of-type {\n",
       "        vertical-align: middle;\n",
       "    }\n",
       "\n",
       "    .dataframe tbody tr th {\n",
       "        vertical-align: top;\n",
       "    }\n",
       "\n",
       "    .dataframe thead th {\n",
       "        text-align: right;\n",
       "    }\n",
       "</style>\n",
       "<table border=\"1\" class=\"dataframe\">\n",
       "  <thead>\n",
       "    <tr style=\"text-align: right;\">\n",
       "      <th></th>\n",
       "      <th>high</th>\n",
       "      <th>low</th>\n",
       "    </tr>\n",
       "    <tr>\n",
       "      <th>date</th>\n",
       "      <th></th>\n",
       "      <th></th>\n",
       "    </tr>\n",
       "  </thead>\n",
       "  <tbody>\n",
       "    <tr>\n",
       "      <th>2021-09-28</th>\n",
       "      <td>17.4194</td>\n",
       "      <td>16.7291</td>\n",
       "    </tr>\n",
       "    <tr>\n",
       "      <th>2021-09-29</th>\n",
       "      <td>17.6782</td>\n",
       "      <td>16.9784</td>\n",
       "    </tr>\n",
       "    <tr>\n",
       "      <th>2021-09-30</th>\n",
       "      <td>17.4481</td>\n",
       "      <td>16.9784</td>\n",
       "    </tr>\n",
       "  </tbody>\n",
       "</table>\n",
       "</div>"
      ],
      "text/plain": [
       "               high      low\n",
       "date                        \n",
       "2021-09-28  17.4194  16.7291\n",
       "2021-09-29  17.6782  16.9784\n",
       "2021-09-30  17.4481  16.9784"
      ]
     },
     "execution_count": 111,
     "metadata": {},
     "output_type": "execute_result"
    }
   ],
   "source": [
    "price.loc['2021-09-28':'2021-09-30',['high','low']]"
   ]
  },
  {
   "cell_type": "code",
   "execution_count": 112,
   "metadata": {},
   "outputs": [
    {
     "data": {
      "text/html": [
       "<div>\n",
       "<style scoped>\n",
       "    .dataframe tbody tr th:only-of-type {\n",
       "        vertical-align: middle;\n",
       "    }\n",
       "\n",
       "    .dataframe tbody tr th {\n",
       "        vertical-align: top;\n",
       "    }\n",
       "\n",
       "    .dataframe thead th {\n",
       "        text-align: right;\n",
       "    }\n",
       "</style>\n",
       "<table border=\"1\" class=\"dataframe\">\n",
       "  <thead>\n",
       "    <tr style=\"text-align: right;\">\n",
       "      <th></th>\n",
       "      <th>open</th>\n",
       "      <th>high</th>\n",
       "      <th>low</th>\n",
       "      <th>close</th>\n",
       "    </tr>\n",
       "    <tr>\n",
       "      <th>date</th>\n",
       "      <th></th>\n",
       "      <th></th>\n",
       "      <th></th>\n",
       "      <th></th>\n",
       "    </tr>\n",
       "  </thead>\n",
       "  <tbody>\n",
       "    <tr>\n",
       "      <th>2020-01-02</th>\n",
       "      <td>15.5720</td>\n",
       "      <td>15.8526</td>\n",
       "      <td>15.4785</td>\n",
       "      <td>15.7777</td>\n",
       "    </tr>\n",
       "    <tr>\n",
       "      <th>2020-01-03</th>\n",
       "      <td>15.8432</td>\n",
       "      <td>16.1892</td>\n",
       "      <td>15.8245</td>\n",
       "      <td>16.0677</td>\n",
       "    </tr>\n",
       "    <tr>\n",
       "      <th>2020-01-06</th>\n",
       "      <td>15.9087</td>\n",
       "      <td>16.2173</td>\n",
       "      <td>15.8151</td>\n",
       "      <td>15.9648</td>\n",
       "    </tr>\n",
       "    <tr>\n",
       "      <th>2020-01-07</th>\n",
       "      <td>16.0209</td>\n",
       "      <td>16.1612</td>\n",
       "      <td>15.8526</td>\n",
       "      <td>16.0396</td>\n",
       "    </tr>\n",
       "    <tr>\n",
       "      <th>2020-01-08</th>\n",
       "      <td>15.8993</td>\n",
       "      <td>15.9461</td>\n",
       "      <td>15.5533</td>\n",
       "      <td>15.5813</td>\n",
       "    </tr>\n",
       "    <tr>\n",
       "      <th>2020-01-09</th>\n",
       "      <td>15.7216</td>\n",
       "      <td>15.8338</td>\n",
       "      <td>15.4597</td>\n",
       "      <td>15.7029</td>\n",
       "    </tr>\n",
       "    <tr>\n",
       "      <th>2020-01-10</th>\n",
       "      <td>15.7029</td>\n",
       "      <td>15.7216</td>\n",
       "      <td>15.4504</td>\n",
       "      <td>15.6094</td>\n",
       "    </tr>\n",
       "    <tr>\n",
       "      <th>2020-01-13</th>\n",
       "      <td>15.6655</td>\n",
       "      <td>15.9274</td>\n",
       "      <td>15.5346</td>\n",
       "      <td>15.8900</td>\n",
       "    </tr>\n",
       "    <tr>\n",
       "      <th>2020-01-14</th>\n",
       "      <td>15.8900</td>\n",
       "      <td>16.1518</td>\n",
       "      <td>15.6749</td>\n",
       "      <td>15.6749</td>\n",
       "    </tr>\n",
       "    <tr>\n",
       "      <th>2020-01-15</th>\n",
       "      <td>15.7029</td>\n",
       "      <td>15.7684</td>\n",
       "      <td>15.3849</td>\n",
       "      <td>15.4504</td>\n",
       "    </tr>\n",
       "  </tbody>\n",
       "</table>\n",
       "</div>"
      ],
      "text/plain": [
       "               open     high      low    close\n",
       "date                                          \n",
       "2020-01-02  15.5720  15.8526  15.4785  15.7777\n",
       "2020-01-03  15.8432  16.1892  15.8245  16.0677\n",
       "2020-01-06  15.9087  16.2173  15.8151  15.9648\n",
       "2020-01-07  16.0209  16.1612  15.8526  16.0396\n",
       "2020-01-08  15.8993  15.9461  15.5533  15.5813\n",
       "2020-01-09  15.7216  15.8338  15.4597  15.7029\n",
       "2020-01-10  15.7029  15.7216  15.4504  15.6094\n",
       "2020-01-13  15.6655  15.9274  15.5346  15.8900\n",
       "2020-01-14  15.8900  16.1518  15.6749  15.6749\n",
       "2020-01-15  15.7029  15.7684  15.3849  15.4504"
      ]
     },
     "execution_count": 112,
     "metadata": {},
     "output_type": "execute_result"
    }
   ],
   "source": [
    "#头部几行\n",
    "price.head(10)"
   ]
  },
  {
   "cell_type": "code",
   "execution_count": 113,
   "metadata": {},
   "outputs": [
    {
     "data": {
      "text/html": [
       "<div>\n",
       "<style scoped>\n",
       "    .dataframe tbody tr th:only-of-type {\n",
       "        vertical-align: middle;\n",
       "    }\n",
       "\n",
       "    .dataframe tbody tr th {\n",
       "        vertical-align: top;\n",
       "    }\n",
       "\n",
       "    .dataframe thead th {\n",
       "        text-align: right;\n",
       "    }\n",
       "</style>\n",
       "<table border=\"1\" class=\"dataframe\">\n",
       "  <thead>\n",
       "    <tr style=\"text-align: right;\">\n",
       "      <th></th>\n",
       "      <th>open</th>\n",
       "      <th>high</th>\n",
       "      <th>low</th>\n",
       "      <th>close</th>\n",
       "    </tr>\n",
       "    <tr>\n",
       "      <th>date</th>\n",
       "      <th></th>\n",
       "      <th></th>\n",
       "      <th></th>\n",
       "      <th></th>\n",
       "    </tr>\n",
       "  </thead>\n",
       "  <tbody>\n",
       "    <tr>\n",
       "      <th>2021-12-27</th>\n",
       "      <td>16.6141</td>\n",
       "      <td>16.6332</td>\n",
       "      <td>16.4511</td>\n",
       "      <td>16.5086</td>\n",
       "    </tr>\n",
       "    <tr>\n",
       "      <th>2021-12-28</th>\n",
       "      <td>16.5086</td>\n",
       "      <td>16.6141</td>\n",
       "      <td>16.3840</td>\n",
       "      <td>16.4607</td>\n",
       "    </tr>\n",
       "    <tr>\n",
       "      <th>2021-12-29</th>\n",
       "      <td>16.4511</td>\n",
       "      <td>16.4511</td>\n",
       "      <td>16.0101</td>\n",
       "      <td>16.0580</td>\n",
       "    </tr>\n",
       "    <tr>\n",
       "      <th>2021-12-30</th>\n",
       "      <td>16.0676</td>\n",
       "      <td>16.2498</td>\n",
       "      <td>16.0293</td>\n",
       "      <td>16.1251</td>\n",
       "    </tr>\n",
       "    <tr>\n",
       "      <th>2021-12-31</th>\n",
       "      <td>16.1635</td>\n",
       "      <td>16.2018</td>\n",
       "      <td>15.7225</td>\n",
       "      <td>15.7992</td>\n",
       "    </tr>\n",
       "  </tbody>\n",
       "</table>\n",
       "</div>"
      ],
      "text/plain": [
       "               open     high      low    close\n",
       "date                                          \n",
       "2021-12-27  16.6141  16.6332  16.4511  16.5086\n",
       "2021-12-28  16.5086  16.6141  16.3840  16.4607\n",
       "2021-12-29  16.4511  16.4511  16.0101  16.0580\n",
       "2021-12-30  16.0676  16.2498  16.0293  16.1251\n",
       "2021-12-31  16.1635  16.2018  15.7225  15.7992"
      ]
     },
     "execution_count": 113,
     "metadata": {},
     "output_type": "execute_result"
    }
   ],
   "source": [
    "#尾部几行\n",
    "price.tail()"
   ]
  },
  {
   "cell_type": "code",
   "execution_count": 114,
   "metadata": {},
   "outputs": [
    {
     "data": {
      "text/plain": [
       "date\n",
       "2020-01-02    15.7777\n",
       "2020-01-03    16.0677\n",
       "2020-01-06    15.9648\n",
       "2020-01-07    16.0396\n",
       "2020-01-08    15.5813\n",
       "               ...   \n",
       "2021-12-27    16.5086\n",
       "2021-12-28    16.4607\n",
       "2021-12-29    16.0580\n",
       "2021-12-30    16.1251\n",
       "2021-12-31    15.7992\n",
       "Name: close, Length: 486, dtype: float64"
      ]
     },
     "execution_count": 114,
     "metadata": {},
     "output_type": "execute_result"
    }
   ],
   "source": [
    "#变量提取 series\n",
    "price['close']"
   ]
  },
  {
   "cell_type": "code",
   "execution_count": 115,
   "metadata": {},
   "outputs": [
    {
     "data": {
      "text/html": [
       "<div>\n",
       "<style scoped>\n",
       "    .dataframe tbody tr th:only-of-type {\n",
       "        vertical-align: middle;\n",
       "    }\n",
       "\n",
       "    .dataframe tbody tr th {\n",
       "        vertical-align: top;\n",
       "    }\n",
       "\n",
       "    .dataframe thead th {\n",
       "        text-align: right;\n",
       "    }\n",
       "</style>\n",
       "<table border=\"1\" class=\"dataframe\">\n",
       "  <thead>\n",
       "    <tr style=\"text-align: right;\">\n",
       "      <th></th>\n",
       "      <th>close</th>\n",
       "    </tr>\n",
       "    <tr>\n",
       "      <th>date</th>\n",
       "      <th></th>\n",
       "    </tr>\n",
       "  </thead>\n",
       "  <tbody>\n",
       "    <tr>\n",
       "      <th>2020-01-02</th>\n",
       "      <td>15.7777</td>\n",
       "    </tr>\n",
       "    <tr>\n",
       "      <th>2020-01-03</th>\n",
       "      <td>16.0677</td>\n",
       "    </tr>\n",
       "    <tr>\n",
       "      <th>2020-01-06</th>\n",
       "      <td>15.9648</td>\n",
       "    </tr>\n",
       "    <tr>\n",
       "      <th>2020-01-07</th>\n",
       "      <td>16.0396</td>\n",
       "    </tr>\n",
       "    <tr>\n",
       "      <th>2020-01-08</th>\n",
       "      <td>15.5813</td>\n",
       "    </tr>\n",
       "    <tr>\n",
       "      <th>...</th>\n",
       "      <td>...</td>\n",
       "    </tr>\n",
       "    <tr>\n",
       "      <th>2021-12-27</th>\n",
       "      <td>16.5086</td>\n",
       "    </tr>\n",
       "    <tr>\n",
       "      <th>2021-12-28</th>\n",
       "      <td>16.4607</td>\n",
       "    </tr>\n",
       "    <tr>\n",
       "      <th>2021-12-29</th>\n",
       "      <td>16.0580</td>\n",
       "    </tr>\n",
       "    <tr>\n",
       "      <th>2021-12-30</th>\n",
       "      <td>16.1251</td>\n",
       "    </tr>\n",
       "    <tr>\n",
       "      <th>2021-12-31</th>\n",
       "      <td>15.7992</td>\n",
       "    </tr>\n",
       "  </tbody>\n",
       "</table>\n",
       "<p>486 rows × 1 columns</p>\n",
       "</div>"
      ],
      "text/plain": [
       "              close\n",
       "date               \n",
       "2020-01-02  15.7777\n",
       "2020-01-03  16.0677\n",
       "2020-01-06  15.9648\n",
       "2020-01-07  16.0396\n",
       "2020-01-08  15.5813\n",
       "...             ...\n",
       "2021-12-27  16.5086\n",
       "2021-12-28  16.4607\n",
       "2021-12-29  16.0580\n",
       "2021-12-30  16.1251\n",
       "2021-12-31  15.7992\n",
       "\n",
       "[486 rows x 1 columns]"
      ]
     },
     "execution_count": 115,
     "metadata": {},
     "output_type": "execute_result"
    }
   ],
   "source": [
    "#变量提取 dataframe\n",
    "price[['close']]"
   ]
  },
  {
   "cell_type": "code",
   "execution_count": 116,
   "metadata": {},
   "outputs": [
    {
     "data": {
      "text/html": [
       "<div>\n",
       "<style scoped>\n",
       "    .dataframe tbody tr th:only-of-type {\n",
       "        vertical-align: middle;\n",
       "    }\n",
       "\n",
       "    .dataframe tbody tr th {\n",
       "        vertical-align: top;\n",
       "    }\n",
       "\n",
       "    .dataframe thead th {\n",
       "        text-align: right;\n",
       "    }\n",
       "</style>\n",
       "<table border=\"1\" class=\"dataframe\">\n",
       "  <thead>\n",
       "    <tr style=\"text-align: right;\">\n",
       "      <th></th>\n",
       "      <th>open</th>\n",
       "      <th>close</th>\n",
       "    </tr>\n",
       "    <tr>\n",
       "      <th>date</th>\n",
       "      <th></th>\n",
       "      <th></th>\n",
       "    </tr>\n",
       "  </thead>\n",
       "  <tbody>\n",
       "    <tr>\n",
       "      <th>2020-01-02</th>\n",
       "      <td>15.5720</td>\n",
       "      <td>15.7777</td>\n",
       "    </tr>\n",
       "    <tr>\n",
       "      <th>2020-01-03</th>\n",
       "      <td>15.8432</td>\n",
       "      <td>16.0677</td>\n",
       "    </tr>\n",
       "    <tr>\n",
       "      <th>2020-01-06</th>\n",
       "      <td>15.9087</td>\n",
       "      <td>15.9648</td>\n",
       "    </tr>\n",
       "    <tr>\n",
       "      <th>2020-01-07</th>\n",
       "      <td>16.0209</td>\n",
       "      <td>16.0396</td>\n",
       "    </tr>\n",
       "    <tr>\n",
       "      <th>2020-01-08</th>\n",
       "      <td>15.8993</td>\n",
       "      <td>15.5813</td>\n",
       "    </tr>\n",
       "  </tbody>\n",
       "</table>\n",
       "</div>"
      ],
      "text/plain": [
       "               open    close\n",
       "date                        \n",
       "2020-01-02  15.5720  15.7777\n",
       "2020-01-03  15.8432  16.0677\n",
       "2020-01-06  15.9087  15.9648\n",
       "2020-01-07  16.0209  16.0396\n",
       "2020-01-08  15.8993  15.5813"
      ]
     },
     "execution_count": 116,
     "metadata": {},
     "output_type": "execute_result"
    }
   ],
   "source": [
    "#多变量提取 dataframe\n",
    "price[['open','close']].head()"
   ]
  },
  {
   "cell_type": "code",
   "execution_count": 117,
   "metadata": {},
   "outputs": [
    {
     "data": {
      "text/html": [
       "<div>\n",
       "<style scoped>\n",
       "    .dataframe tbody tr th:only-of-type {\n",
       "        vertical-align: middle;\n",
       "    }\n",
       "\n",
       "    .dataframe tbody tr th {\n",
       "        vertical-align: top;\n",
       "    }\n",
       "\n",
       "    .dataframe thead th {\n",
       "        text-align: right;\n",
       "    }\n",
       "</style>\n",
       "<table border=\"1\" class=\"dataframe\">\n",
       "  <thead>\n",
       "    <tr style=\"text-align: right;\">\n",
       "      <th></th>\n",
       "      <th>open</th>\n",
       "      <th>high</th>\n",
       "      <th>low</th>\n",
       "      <th>close</th>\n",
       "    </tr>\n",
       "  </thead>\n",
       "  <tbody>\n",
       "    <tr>\n",
       "      <th>count</th>\n",
       "      <td>486.000000</td>\n",
       "      <td>486.000000</td>\n",
       "      <td>486.000000</td>\n",
       "      <td>486.000000</td>\n",
       "    </tr>\n",
       "    <tr>\n",
       "      <th>mean</th>\n",
       "      <td>17.049196</td>\n",
       "      <td>17.336279</td>\n",
       "      <td>16.770924</td>\n",
       "      <td>17.063475</td>\n",
       "    </tr>\n",
       "    <tr>\n",
       "      <th>std</th>\n",
       "      <td>3.372087</td>\n",
       "      <td>3.454261</td>\n",
       "      <td>3.276259</td>\n",
       "      <td>3.377241</td>\n",
       "    </tr>\n",
       "    <tr>\n",
       "      <th>min</th>\n",
       "      <td>11.223000</td>\n",
       "      <td>11.550400</td>\n",
       "      <td>11.138900</td>\n",
       "      <td>11.363300</td>\n",
       "    </tr>\n",
       "    <tr>\n",
       "      <th>25%</th>\n",
       "      <td>13.907300</td>\n",
       "      <td>14.162050</td>\n",
       "      <td>13.749775</td>\n",
       "      <td>14.013350</td>\n",
       "    </tr>\n",
       "    <tr>\n",
       "      <th>50%</th>\n",
       "      <td>17.112600</td>\n",
       "      <td>17.398900</td>\n",
       "      <td>16.844100</td>\n",
       "      <td>17.069400</td>\n",
       "    </tr>\n",
       "    <tr>\n",
       "      <th>75%</th>\n",
       "      <td>19.626725</td>\n",
       "      <td>19.935100</td>\n",
       "      <td>19.346750</td>\n",
       "      <td>19.647425</td>\n",
       "    </tr>\n",
       "    <tr>\n",
       "      <th>max</th>\n",
       "      <td>23.880900</td>\n",
       "      <td>24.120600</td>\n",
       "      <td>23.507000</td>\n",
       "      <td>23.976800</td>\n",
       "    </tr>\n",
       "  </tbody>\n",
       "</table>\n",
       "</div>"
      ],
      "text/plain": [
       "             open        high         low       close\n",
       "count  486.000000  486.000000  486.000000  486.000000\n",
       "mean    17.049196   17.336279   16.770924   17.063475\n",
       "std      3.372087    3.454261    3.276259    3.377241\n",
       "min     11.223000   11.550400   11.138900   11.363300\n",
       "25%     13.907300   14.162050   13.749775   14.013350\n",
       "50%     17.112600   17.398900   16.844100   17.069400\n",
       "75%     19.626725   19.935100   19.346750   19.647425\n",
       "max     23.880900   24.120600   23.507000   23.976800"
      ]
     },
     "execution_count": 117,
     "metadata": {},
     "output_type": "execute_result"
    }
   ],
   "source": [
    "#描述性统计\n",
    "price.describe()"
   ]
  },
  {
   "cell_type": "code",
   "execution_count": 118,
   "metadata": {},
   "outputs": [
    {
     "data": {
      "text/html": [
       "<div>\n",
       "<style scoped>\n",
       "    .dataframe tbody tr th:only-of-type {\n",
       "        vertical-align: middle;\n",
       "    }\n",
       "\n",
       "    .dataframe tbody tr th {\n",
       "        vertical-align: top;\n",
       "    }\n",
       "\n",
       "    .dataframe thead th {\n",
       "        text-align: right;\n",
       "    }\n",
       "</style>\n",
       "<table border=\"1\" class=\"dataframe\">\n",
       "  <thead>\n",
       "    <tr style=\"text-align: right;\">\n",
       "      <th></th>\n",
       "      <th>open</th>\n",
       "      <th>high</th>\n",
       "      <th>low</th>\n",
       "      <th>close</th>\n",
       "    </tr>\n",
       "    <tr>\n",
       "      <th>date</th>\n",
       "      <th></th>\n",
       "      <th></th>\n",
       "      <th></th>\n",
       "      <th></th>\n",
       "    </tr>\n",
       "  </thead>\n",
       "  <tbody>\n",
       "    <tr>\n",
       "      <th>2021-05-26</th>\n",
       "      <td>23.6221</td>\n",
       "      <td>24.0822</td>\n",
       "      <td>23.4879</td>\n",
       "      <td>23.9768</td>\n",
       "    </tr>\n",
       "    <tr>\n",
       "      <th>2021-05-27</th>\n",
       "      <td>23.8809</td>\n",
       "      <td>24.1206</td>\n",
       "      <td>23.5070</td>\n",
       "      <td>23.7659</td>\n",
       "    </tr>\n",
       "    <tr>\n",
       "      <th>2021-02-03</th>\n",
       "      <td>22.3344</td>\n",
       "      <td>23.9514</td>\n",
       "      <td>22.2393</td>\n",
       "      <td>23.7327</td>\n",
       "    </tr>\n",
       "    <tr>\n",
       "      <th>2021-02-05</th>\n",
       "      <td>23.3997</td>\n",
       "      <td>24.0751</td>\n",
       "      <td>23.0858</td>\n",
       "      <td>23.7136</td>\n",
       "    </tr>\n",
       "    <tr>\n",
       "      <th>2021-06-09</th>\n",
       "      <td>23.4207</td>\n",
       "      <td>23.8522</td>\n",
       "      <td>23.1811</td>\n",
       "      <td>23.6317</td>\n",
       "    </tr>\n",
       "  </tbody>\n",
       "</table>\n",
       "</div>"
      ],
      "text/plain": [
       "               open     high      low    close\n",
       "date                                          \n",
       "2021-05-26  23.6221  24.0822  23.4879  23.9768\n",
       "2021-05-27  23.8809  24.1206  23.5070  23.7659\n",
       "2021-02-03  22.3344  23.9514  22.2393  23.7327\n",
       "2021-02-05  23.3997  24.0751  23.0858  23.7136\n",
       "2021-06-09  23.4207  23.8522  23.1811  23.6317"
      ]
     },
     "execution_count": 118,
     "metadata": {},
     "output_type": "execute_result"
    }
   ],
   "source": [
    "#按变量排序\n",
    "price.sort_values(by='close',ascending=False).head()"
   ]
  },
  {
   "cell_type": "markdown",
   "metadata": {},
   "source": [
    "#### 6.4 **逻辑指针**"
   ]
  },
  {
   "cell_type": "code",
   "execution_count": 119,
   "metadata": {},
   "outputs": [],
   "source": [
    "price= get_price('000001.XSHE', '20200101', '20220101', fields= ['open', 'high', 'low', 'close'])\n",
    "price = price.droplevel(0)"
   ]
  },
  {
   "cell_type": "code",
   "execution_count": 120,
   "metadata": {},
   "outputs": [
    {
     "data": {
      "text/html": [
       "<div>\n",
       "<style scoped>\n",
       "    .dataframe tbody tr th:only-of-type {\n",
       "        vertical-align: middle;\n",
       "    }\n",
       "\n",
       "    .dataframe tbody tr th {\n",
       "        vertical-align: top;\n",
       "    }\n",
       "\n",
       "    .dataframe thead th {\n",
       "        text-align: right;\n",
       "    }\n",
       "</style>\n",
       "<table border=\"1\" class=\"dataframe\">\n",
       "  <thead>\n",
       "    <tr style=\"text-align: right;\">\n",
       "      <th></th>\n",
       "      <th>open</th>\n",
       "      <th>high</th>\n",
       "      <th>low</th>\n",
       "      <th>close</th>\n",
       "    </tr>\n",
       "    <tr>\n",
       "      <th>date</th>\n",
       "      <th></th>\n",
       "      <th></th>\n",
       "      <th></th>\n",
       "      <th></th>\n",
       "    </tr>\n",
       "  </thead>\n",
       "  <tbody>\n",
       "    <tr>\n",
       "      <th>2020-01-02</th>\n",
       "      <td>15.5720</td>\n",
       "      <td>15.8526</td>\n",
       "      <td>15.4785</td>\n",
       "      <td>15.7777</td>\n",
       "    </tr>\n",
       "    <tr>\n",
       "      <th>2020-01-03</th>\n",
       "      <td>15.8432</td>\n",
       "      <td>16.1892</td>\n",
       "      <td>15.8245</td>\n",
       "      <td>16.0677</td>\n",
       "    </tr>\n",
       "    <tr>\n",
       "      <th>2020-01-06</th>\n",
       "      <td>15.9087</td>\n",
       "      <td>16.2173</td>\n",
       "      <td>15.8151</td>\n",
       "      <td>15.9648</td>\n",
       "    </tr>\n",
       "    <tr>\n",
       "      <th>2020-01-07</th>\n",
       "      <td>16.0209</td>\n",
       "      <td>16.1612</td>\n",
       "      <td>15.8526</td>\n",
       "      <td>16.0396</td>\n",
       "    </tr>\n",
       "    <tr>\n",
       "      <th>2020-01-08</th>\n",
       "      <td>15.8993</td>\n",
       "      <td>15.9461</td>\n",
       "      <td>15.5533</td>\n",
       "      <td>15.5813</td>\n",
       "    </tr>\n",
       "  </tbody>\n",
       "</table>\n",
       "</div>"
      ],
      "text/plain": [
       "               open     high      low    close\n",
       "date                                          \n",
       "2020-01-02  15.5720  15.8526  15.4785  15.7777\n",
       "2020-01-03  15.8432  16.1892  15.8245  16.0677\n",
       "2020-01-06  15.9087  16.2173  15.8151  15.9648\n",
       "2020-01-07  16.0209  16.1612  15.8526  16.0396\n",
       "2020-01-08  15.8993  15.9461  15.5533  15.5813"
      ]
     },
     "execution_count": 120,
     "metadata": {},
     "output_type": "execute_result"
    }
   ],
   "source": [
    "#筛选出 open 小于 17的数据\n",
    "price[price['open'] < 17].head()"
   ]
  },
  {
   "cell_type": "code",
   "execution_count": 121,
   "metadata": {},
   "outputs": [
    {
     "data": {
      "text/html": [
       "<div>\n",
       "<style scoped>\n",
       "    .dataframe tbody tr th:only-of-type {\n",
       "        vertical-align: middle;\n",
       "    }\n",
       "\n",
       "    .dataframe tbody tr th {\n",
       "        vertical-align: top;\n",
       "    }\n",
       "\n",
       "    .dataframe thead th {\n",
       "        text-align: right;\n",
       "    }\n",
       "</style>\n",
       "<table border=\"1\" class=\"dataframe\">\n",
       "  <thead>\n",
       "    <tr style=\"text-align: right;\">\n",
       "      <th></th>\n",
       "      <th>open</th>\n",
       "      <th>high</th>\n",
       "      <th>low</th>\n",
       "      <th>close</th>\n",
       "    </tr>\n",
       "    <tr>\n",
       "      <th>date</th>\n",
       "      <th></th>\n",
       "      <th></th>\n",
       "      <th></th>\n",
       "      <th></th>\n",
       "    </tr>\n",
       "  </thead>\n",
       "  <tbody>\n",
       "    <tr>\n",
       "      <th>2020-01-02</th>\n",
       "      <td>15.5720</td>\n",
       "      <td>15.8526</td>\n",
       "      <td>15.4785</td>\n",
       "      <td>15.7777</td>\n",
       "    </tr>\n",
       "    <tr>\n",
       "      <th>2020-01-06</th>\n",
       "      <td>15.9087</td>\n",
       "      <td>16.2173</td>\n",
       "      <td>15.8151</td>\n",
       "      <td>15.9648</td>\n",
       "    </tr>\n",
       "    <tr>\n",
       "      <th>2020-01-08</th>\n",
       "      <td>15.8993</td>\n",
       "      <td>15.9461</td>\n",
       "      <td>15.5533</td>\n",
       "      <td>15.5813</td>\n",
       "    </tr>\n",
       "    <tr>\n",
       "      <th>2020-01-09</th>\n",
       "      <td>15.7216</td>\n",
       "      <td>15.8338</td>\n",
       "      <td>15.4597</td>\n",
       "      <td>15.7029</td>\n",
       "    </tr>\n",
       "    <tr>\n",
       "      <th>2020-01-10</th>\n",
       "      <td>15.7029</td>\n",
       "      <td>15.7216</td>\n",
       "      <td>15.4504</td>\n",
       "      <td>15.6094</td>\n",
       "    </tr>\n",
       "  </tbody>\n",
       "</table>\n",
       "</div>"
      ],
      "text/plain": [
       "               open     high      low    close\n",
       "date                                          \n",
       "2020-01-02  15.5720  15.8526  15.4785  15.7777\n",
       "2020-01-06  15.9087  16.2173  15.8151  15.9648\n",
       "2020-01-08  15.8993  15.9461  15.5533  15.5813\n",
       "2020-01-09  15.7216  15.8338  15.4597  15.7029\n",
       "2020-01-10  15.7029  15.7216  15.4504  15.6094"
      ]
     },
     "execution_count": 121,
     "metadata": {},
     "output_type": "execute_result"
    }
   ],
   "source": [
    "#筛选出 open 大于 15 的数据，并且 close 小于 16 的数据\n",
    "price[(price.open > 15.5) & (price.close < 16)].head()"
   ]
  },
  {
   "cell_type": "code",
   "execution_count": 128,
   "metadata": {},
   "outputs": [
    {
     "data": {
      "text/html": [
       "<div>\n",
       "<style scoped>\n",
       "    .dataframe tbody tr th:only-of-type {\n",
       "        vertical-align: middle;\n",
       "    }\n",
       "\n",
       "    .dataframe tbody tr th {\n",
       "        vertical-align: top;\n",
       "    }\n",
       "\n",
       "    .dataframe thead th {\n",
       "        text-align: right;\n",
       "    }\n",
       "</style>\n",
       "<table border=\"1\" class=\"dataframe\">\n",
       "  <thead>\n",
       "    <tr style=\"text-align: right;\">\n",
       "      <th></th>\n",
       "      <th>open</th>\n",
       "      <th>high</th>\n",
       "      <th>low</th>\n",
       "      <th>close</th>\n",
       "    </tr>\n",
       "    <tr>\n",
       "      <th>date</th>\n",
       "      <th></th>\n",
       "      <th></th>\n",
       "      <th></th>\n",
       "      <th></th>\n",
       "    </tr>\n",
       "  </thead>\n",
       "  <tbody>\n",
       "    <tr>\n",
       "      <th>2020-01-08</th>\n",
       "      <td>15.8993</td>\n",
       "      <td>15.9461</td>\n",
       "      <td>15.5533</td>\n",
       "      <td>15.5813</td>\n",
       "    </tr>\n",
       "  </tbody>\n",
       "</table>\n",
       "</div>"
      ],
      "text/plain": [
       "               open     high      low    close\n",
       "date                                          \n",
       "2020-01-08  15.8993  15.9461  15.5533  15.5813"
      ]
     },
     "execution_count": 128,
     "metadata": {},
     "output_type": "execute_result"
    }
   ],
   "source": [
    "#筛选确定值\n",
    "price[price['high'].isin([15.9461])]"
   ]
  },
  {
   "cell_type": "code",
   "execution_count": 123,
   "metadata": {},
   "outputs": [
    {
     "data": {
      "text/html": [
       "<div>\n",
       "<style scoped>\n",
       "    .dataframe tbody tr th:only-of-type {\n",
       "        vertical-align: middle;\n",
       "    }\n",
       "\n",
       "    .dataframe tbody tr th {\n",
       "        vertical-align: top;\n",
       "    }\n",
       "\n",
       "    .dataframe thead th {\n",
       "        text-align: right;\n",
       "    }\n",
       "</style>\n",
       "<table border=\"1\" class=\"dataframe\">\n",
       "  <thead>\n",
       "    <tr style=\"text-align: right;\">\n",
       "      <th></th>\n",
       "      <th>open</th>\n",
       "      <th>high</th>\n",
       "      <th>low</th>\n",
       "      <th>close</th>\n",
       "    </tr>\n",
       "    <tr>\n",
       "      <th>date</th>\n",
       "      <th></th>\n",
       "      <th></th>\n",
       "      <th></th>\n",
       "      <th></th>\n",
       "    </tr>\n",
       "  </thead>\n",
       "  <tbody>\n",
       "    <tr>\n",
       "      <th>2020-01-02</th>\n",
       "      <td>15.5720</td>\n",
       "      <td>15.8526</td>\n",
       "      <td>15.4785</td>\n",
       "      <td>15.7777</td>\n",
       "    </tr>\n",
       "    <tr>\n",
       "      <th>2020-01-03</th>\n",
       "      <td>15.8432</td>\n",
       "      <td>16.1892</td>\n",
       "      <td>15.8245</td>\n",
       "      <td>16.0677</td>\n",
       "    </tr>\n",
       "    <tr>\n",
       "      <th>2020-01-06</th>\n",
       "      <td>15.9087</td>\n",
       "      <td>16.2173</td>\n",
       "      <td>15.8151</td>\n",
       "      <td>15.9648</td>\n",
       "    </tr>\n",
       "    <tr>\n",
       "      <th>2020-01-07</th>\n",
       "      <td>16.0209</td>\n",
       "      <td>16.1612</td>\n",
       "      <td>15.8526</td>\n",
       "      <td>16.0396</td>\n",
       "    </tr>\n",
       "    <tr>\n",
       "      <th>2020-01-08</th>\n",
       "      <td>15.8993</td>\n",
       "      <td>15.9461</td>\n",
       "      <td>15.5533</td>\n",
       "      <td>15.5813</td>\n",
       "    </tr>\n",
       "    <tr>\n",
       "      <th>...</th>\n",
       "      <td>...</td>\n",
       "      <td>...</td>\n",
       "      <td>...</td>\n",
       "      <td>...</td>\n",
       "    </tr>\n",
       "    <tr>\n",
       "      <th>2021-12-27</th>\n",
       "      <td>16.6141</td>\n",
       "      <td>16.6332</td>\n",
       "      <td>16.4511</td>\n",
       "      <td>16.5086</td>\n",
       "    </tr>\n",
       "    <tr>\n",
       "      <th>2021-12-28</th>\n",
       "      <td>16.5086</td>\n",
       "      <td>16.6141</td>\n",
       "      <td>16.3840</td>\n",
       "      <td>16.4607</td>\n",
       "    </tr>\n",
       "    <tr>\n",
       "      <th>2021-12-29</th>\n",
       "      <td>16.4511</td>\n",
       "      <td>16.4511</td>\n",
       "      <td>16.0101</td>\n",
       "      <td>16.0580</td>\n",
       "    </tr>\n",
       "    <tr>\n",
       "      <th>2021-12-30</th>\n",
       "      <td>16.0676</td>\n",
       "      <td>16.2498</td>\n",
       "      <td>16.0293</td>\n",
       "      <td>16.1251</td>\n",
       "    </tr>\n",
       "    <tr>\n",
       "      <th>2021-12-31</th>\n",
       "      <td>16.1635</td>\n",
       "      <td>16.2018</td>\n",
       "      <td>15.7225</td>\n",
       "      <td>15.7992</td>\n",
       "    </tr>\n",
       "  </tbody>\n",
       "</table>\n",
       "<p>486 rows × 4 columns</p>\n",
       "</div>"
      ],
      "text/plain": [
       "               open     high      low    close\n",
       "date                                          \n",
       "2020-01-02  15.5720  15.8526  15.4785  15.7777\n",
       "2020-01-03  15.8432  16.1892  15.8245  16.0677\n",
       "2020-01-06  15.9087  16.2173  15.8151  15.9648\n",
       "2020-01-07  16.0209  16.1612  15.8526  16.0396\n",
       "2020-01-08  15.8993  15.9461  15.5533  15.5813\n",
       "...             ...      ...      ...      ...\n",
       "2021-12-27  16.6141  16.6332  16.4511  16.5086\n",
       "2021-12-28  16.5086  16.6141  16.3840  16.4607\n",
       "2021-12-29  16.4511  16.4511  16.0101  16.0580\n",
       "2021-12-30  16.0676  16.2498  16.0293  16.1251\n",
       "2021-12-31  16.1635  16.2018  15.7225  15.7992\n",
       "\n",
       "[486 rows x 4 columns]"
      ]
     },
     "execution_count": 123,
     "metadata": {},
     "output_type": "execute_result"
    }
   ],
   "source": [
    "#使用 条件过来更改数据。\n",
    "price[price>24]  = 1\n",
    "price"
   ]
  },
  {
   "cell_type": "code",
   "execution_count": 124,
   "metadata": {},
   "outputs": [
    {
     "data": {
      "text/html": [
       "<div>\n",
       "<style scoped>\n",
       "    .dataframe tbody tr th:only-of-type {\n",
       "        vertical-align: middle;\n",
       "    }\n",
       "\n",
       "    .dataframe tbody tr th {\n",
       "        vertical-align: top;\n",
       "    }\n",
       "\n",
       "    .dataframe thead th {\n",
       "        text-align: right;\n",
       "    }\n",
       "</style>\n",
       "<table border=\"1\" class=\"dataframe\">\n",
       "  <thead>\n",
       "    <tr style=\"text-align: right;\">\n",
       "      <th></th>\n",
       "      <th>open</th>\n",
       "      <th>high</th>\n",
       "      <th>low</th>\n",
       "      <th>close</th>\n",
       "    </tr>\n",
       "    <tr>\n",
       "      <th>date</th>\n",
       "      <th></th>\n",
       "      <th></th>\n",
       "      <th></th>\n",
       "      <th></th>\n",
       "    </tr>\n",
       "  </thead>\n",
       "  <tbody>\n",
       "    <tr>\n",
       "      <th>2020-01-02</th>\n",
       "      <td>15.5720</td>\n",
       "      <td>15.8526</td>\n",
       "      <td>15.4785</td>\n",
       "      <td>15.7777</td>\n",
       "    </tr>\n",
       "    <tr>\n",
       "      <th>2020-01-03</th>\n",
       "      <td>15.8432</td>\n",
       "      <td>16.1892</td>\n",
       "      <td>15.8245</td>\n",
       "      <td>16.0677</td>\n",
       "    </tr>\n",
       "    <tr>\n",
       "      <th>2020-01-06</th>\n",
       "      <td>15.9087</td>\n",
       "      <td>16.2173</td>\n",
       "      <td>15.8151</td>\n",
       "      <td>15.9648</td>\n",
       "    </tr>\n",
       "    <tr>\n",
       "      <th>2020-01-07</th>\n",
       "      <td>16.0209</td>\n",
       "      <td>16.1612</td>\n",
       "      <td>15.8526</td>\n",
       "      <td>16.0396</td>\n",
       "    </tr>\n",
       "    <tr>\n",
       "      <th>2020-01-08</th>\n",
       "      <td>15.8993</td>\n",
       "      <td>15.9461</td>\n",
       "      <td>15.5533</td>\n",
       "      <td>15.5813</td>\n",
       "    </tr>\n",
       "    <tr>\n",
       "      <th>...</th>\n",
       "      <td>...</td>\n",
       "      <td>...</td>\n",
       "      <td>...</td>\n",
       "      <td>...</td>\n",
       "    </tr>\n",
       "    <tr>\n",
       "      <th>2021-12-27</th>\n",
       "      <td>16.6141</td>\n",
       "      <td>16.6332</td>\n",
       "      <td>16.4511</td>\n",
       "      <td>16.5086</td>\n",
       "    </tr>\n",
       "    <tr>\n",
       "      <th>2021-12-28</th>\n",
       "      <td>16.5086</td>\n",
       "      <td>16.6141</td>\n",
       "      <td>16.3840</td>\n",
       "      <td>16.4607</td>\n",
       "    </tr>\n",
       "    <tr>\n",
       "      <th>2021-12-29</th>\n",
       "      <td>16.4511</td>\n",
       "      <td>16.4511</td>\n",
       "      <td>16.0101</td>\n",
       "      <td>16.0580</td>\n",
       "    </tr>\n",
       "    <tr>\n",
       "      <th>2021-12-30</th>\n",
       "      <td>16.0676</td>\n",
       "      <td>16.2498</td>\n",
       "      <td>16.0293</td>\n",
       "      <td>16.1251</td>\n",
       "    </tr>\n",
       "    <tr>\n",
       "      <th>2021-12-31</th>\n",
       "      <td>16.1635</td>\n",
       "      <td>16.2018</td>\n",
       "      <td>15.7225</td>\n",
       "      <td>15.7992</td>\n",
       "    </tr>\n",
       "  </tbody>\n",
       "</table>\n",
       "<p>486 rows × 4 columns</p>\n",
       "</div>"
      ],
      "text/plain": [
       "               open     high      low    close\n",
       "date                                          \n",
       "2020-01-02  15.5720  15.8526  15.4785  15.7777\n",
       "2020-01-03  15.8432  16.1892  15.8245  16.0677\n",
       "2020-01-06  15.9087  16.2173  15.8151  15.9648\n",
       "2020-01-07  16.0209  16.1612  15.8526  16.0396\n",
       "2020-01-08  15.8993  15.9461  15.5533  15.5813\n",
       "...             ...      ...      ...      ...\n",
       "2021-12-27  16.6141  16.6332  16.4511  16.5086\n",
       "2021-12-28  16.5086  16.6141  16.3840  16.4607\n",
       "2021-12-29  16.4511  16.4511  16.0101  16.0580\n",
       "2021-12-30  16.0676  16.2498  16.0293  16.1251\n",
       "2021-12-31  16.1635  16.2018  15.7225  15.7992\n",
       "\n",
       "[486 rows x 4 columns]"
      ]
     },
     "execution_count": 124,
     "metadata": {},
     "output_type": "execute_result"
    }
   ],
   "source": [
    "price[price == 1] = None\n",
    "price"
   ]
  },
  {
   "cell_type": "markdown",
   "metadata": {},
   "source": [
    "#### 6.5 空缺值\n",
    "##### 6.5.1 查看空缺值"
   ]
  },
  {
   "cell_type": "code",
   "execution_count": 125,
   "metadata": {},
   "outputs": [
    {
     "data": {
      "text/html": [
       "<div>\n",
       "<style scoped>\n",
       "    .dataframe tbody tr th:only-of-type {\n",
       "        vertical-align: middle;\n",
       "    }\n",
       "\n",
       "    .dataframe tbody tr th {\n",
       "        vertical-align: top;\n",
       "    }\n",
       "\n",
       "    .dataframe thead th {\n",
       "        text-align: right;\n",
       "    }\n",
       "</style>\n",
       "<table border=\"1\" class=\"dataframe\">\n",
       "  <thead>\n",
       "    <tr style=\"text-align: right;\">\n",
       "      <th></th>\n",
       "      <th>open</th>\n",
       "      <th>high</th>\n",
       "      <th>low</th>\n",
       "      <th>close</th>\n",
       "    </tr>\n",
       "    <tr>\n",
       "      <th>date</th>\n",
       "      <th></th>\n",
       "      <th></th>\n",
       "      <th></th>\n",
       "      <th></th>\n",
       "    </tr>\n",
       "  </thead>\n",
       "  <tbody>\n",
       "    <tr>\n",
       "      <th>2020-01-02</th>\n",
       "      <td>False</td>\n",
       "      <td>False</td>\n",
       "      <td>False</td>\n",
       "      <td>False</td>\n",
       "    </tr>\n",
       "    <tr>\n",
       "      <th>2020-01-03</th>\n",
       "      <td>False</td>\n",
       "      <td>False</td>\n",
       "      <td>False</td>\n",
       "      <td>False</td>\n",
       "    </tr>\n",
       "    <tr>\n",
       "      <th>2020-01-06</th>\n",
       "      <td>False</td>\n",
       "      <td>False</td>\n",
       "      <td>False</td>\n",
       "      <td>False</td>\n",
       "    </tr>\n",
       "    <tr>\n",
       "      <th>2020-01-07</th>\n",
       "      <td>False</td>\n",
       "      <td>False</td>\n",
       "      <td>False</td>\n",
       "      <td>False</td>\n",
       "    </tr>\n",
       "    <tr>\n",
       "      <th>2020-01-08</th>\n",
       "      <td>False</td>\n",
       "      <td>False</td>\n",
       "      <td>False</td>\n",
       "      <td>False</td>\n",
       "    </tr>\n",
       "    <tr>\n",
       "      <th>...</th>\n",
       "      <td>...</td>\n",
       "      <td>...</td>\n",
       "      <td>...</td>\n",
       "      <td>...</td>\n",
       "    </tr>\n",
       "    <tr>\n",
       "      <th>2021-12-27</th>\n",
       "      <td>False</td>\n",
       "      <td>False</td>\n",
       "      <td>False</td>\n",
       "      <td>False</td>\n",
       "    </tr>\n",
       "    <tr>\n",
       "      <th>2021-12-28</th>\n",
       "      <td>False</td>\n",
       "      <td>False</td>\n",
       "      <td>False</td>\n",
       "      <td>False</td>\n",
       "    </tr>\n",
       "    <tr>\n",
       "      <th>2021-12-29</th>\n",
       "      <td>False</td>\n",
       "      <td>False</td>\n",
       "      <td>False</td>\n",
       "      <td>False</td>\n",
       "    </tr>\n",
       "    <tr>\n",
       "      <th>2021-12-30</th>\n",
       "      <td>False</td>\n",
       "      <td>False</td>\n",
       "      <td>False</td>\n",
       "      <td>False</td>\n",
       "    </tr>\n",
       "    <tr>\n",
       "      <th>2021-12-31</th>\n",
       "      <td>False</td>\n",
       "      <td>False</td>\n",
       "      <td>False</td>\n",
       "      <td>False</td>\n",
       "    </tr>\n",
       "  </tbody>\n",
       "</table>\n",
       "<p>486 rows × 4 columns</p>\n",
       "</div>"
      ],
      "text/plain": [
       "             open   high    low  close\n",
       "date                                  \n",
       "2020-01-02  False  False  False  False\n",
       "2020-01-03  False  False  False  False\n",
       "2020-01-06  False  False  False  False\n",
       "2020-01-07  False  False  False  False\n",
       "2020-01-08  False  False  False  False\n",
       "...           ...    ...    ...    ...\n",
       "2021-12-27  False  False  False  False\n",
       "2021-12-28  False  False  False  False\n",
       "2021-12-29  False  False  False  False\n",
       "2021-12-30  False  False  False  False\n",
       "2021-12-31  False  False  False  False\n",
       "\n",
       "[486 rows x 4 columns]"
      ]
     },
     "execution_count": 125,
     "metadata": {},
     "output_type": "execute_result"
    }
   ],
   "source": [
    "price.isnull()"
   ]
  },
  {
   "cell_type": "code",
   "execution_count": 126,
   "metadata": {},
   "outputs": [
    {
     "data": {
      "text/html": [
       "<div>\n",
       "<style scoped>\n",
       "    .dataframe tbody tr th:only-of-type {\n",
       "        vertical-align: middle;\n",
       "    }\n",
       "\n",
       "    .dataframe tbody tr th {\n",
       "        vertical-align: top;\n",
       "    }\n",
       "\n",
       "    .dataframe thead th {\n",
       "        text-align: right;\n",
       "    }\n",
       "</style>\n",
       "<table border=\"1\" class=\"dataframe\">\n",
       "  <thead>\n",
       "    <tr style=\"text-align: right;\">\n",
       "      <th></th>\n",
       "      <th>open</th>\n",
       "      <th>high</th>\n",
       "      <th>low</th>\n",
       "      <th>close</th>\n",
       "    </tr>\n",
       "    <tr>\n",
       "      <th>date</th>\n",
       "      <th></th>\n",
       "      <th></th>\n",
       "      <th></th>\n",
       "      <th></th>\n",
       "    </tr>\n",
       "  </thead>\n",
       "  <tbody>\n",
       "    <tr>\n",
       "      <th>2020-01-02</th>\n",
       "      <td>True</td>\n",
       "      <td>True</td>\n",
       "      <td>True</td>\n",
       "      <td>True</td>\n",
       "    </tr>\n",
       "    <tr>\n",
       "      <th>2020-01-03</th>\n",
       "      <td>True</td>\n",
       "      <td>True</td>\n",
       "      <td>True</td>\n",
       "      <td>True</td>\n",
       "    </tr>\n",
       "    <tr>\n",
       "      <th>2020-01-06</th>\n",
       "      <td>True</td>\n",
       "      <td>True</td>\n",
       "      <td>True</td>\n",
       "      <td>True</td>\n",
       "    </tr>\n",
       "    <tr>\n",
       "      <th>2020-01-07</th>\n",
       "      <td>True</td>\n",
       "      <td>True</td>\n",
       "      <td>True</td>\n",
       "      <td>True</td>\n",
       "    </tr>\n",
       "    <tr>\n",
       "      <th>2020-01-08</th>\n",
       "      <td>True</td>\n",
       "      <td>True</td>\n",
       "      <td>True</td>\n",
       "      <td>True</td>\n",
       "    </tr>\n",
       "    <tr>\n",
       "      <th>...</th>\n",
       "      <td>...</td>\n",
       "      <td>...</td>\n",
       "      <td>...</td>\n",
       "      <td>...</td>\n",
       "    </tr>\n",
       "    <tr>\n",
       "      <th>2021-12-27</th>\n",
       "      <td>True</td>\n",
       "      <td>True</td>\n",
       "      <td>True</td>\n",
       "      <td>True</td>\n",
       "    </tr>\n",
       "    <tr>\n",
       "      <th>2021-12-28</th>\n",
       "      <td>True</td>\n",
       "      <td>True</td>\n",
       "      <td>True</td>\n",
       "      <td>True</td>\n",
       "    </tr>\n",
       "    <tr>\n",
       "      <th>2021-12-29</th>\n",
       "      <td>True</td>\n",
       "      <td>True</td>\n",
       "      <td>True</td>\n",
       "      <td>True</td>\n",
       "    </tr>\n",
       "    <tr>\n",
       "      <th>2021-12-30</th>\n",
       "      <td>True</td>\n",
       "      <td>True</td>\n",
       "      <td>True</td>\n",
       "      <td>True</td>\n",
       "    </tr>\n",
       "    <tr>\n",
       "      <th>2021-12-31</th>\n",
       "      <td>True</td>\n",
       "      <td>True</td>\n",
       "      <td>True</td>\n",
       "      <td>True</td>\n",
       "    </tr>\n",
       "  </tbody>\n",
       "</table>\n",
       "<p>486 rows × 4 columns</p>\n",
       "</div>"
      ],
      "text/plain": [
       "            open  high   low  close\n",
       "date                               \n",
       "2020-01-02  True  True  True   True\n",
       "2020-01-03  True  True  True   True\n",
       "2020-01-06  True  True  True   True\n",
       "2020-01-07  True  True  True   True\n",
       "2020-01-08  True  True  True   True\n",
       "...          ...   ...   ...    ...\n",
       "2021-12-27  True  True  True   True\n",
       "2021-12-28  True  True  True   True\n",
       "2021-12-29  True  True  True   True\n",
       "2021-12-30  True  True  True   True\n",
       "2021-12-31  True  True  True   True\n",
       "\n",
       "[486 rows x 4 columns]"
      ]
     },
     "execution_count": 126,
     "metadata": {},
     "output_type": "execute_result"
    }
   ],
   "source": [
    "price.notnull()"
   ]
  },
  {
   "cell_type": "code",
   "execution_count": 127,
   "metadata": {},
   "outputs": [
    {
     "data": {
      "text/html": [
       "<div>\n",
       "<style scoped>\n",
       "    .dataframe tbody tr th:only-of-type {\n",
       "        vertical-align: middle;\n",
       "    }\n",
       "\n",
       "    .dataframe tbody tr th {\n",
       "        vertical-align: top;\n",
       "    }\n",
       "\n",
       "    .dataframe thead th {\n",
       "        text-align: right;\n",
       "    }\n",
       "</style>\n",
       "<table border=\"1\" class=\"dataframe\">\n",
       "  <thead>\n",
       "    <tr style=\"text-align: right;\">\n",
       "      <th></th>\n",
       "      <th>open</th>\n",
       "      <th>high</th>\n",
       "      <th>low</th>\n",
       "      <th>close</th>\n",
       "    </tr>\n",
       "    <tr>\n",
       "      <th>date</th>\n",
       "      <th></th>\n",
       "      <th></th>\n",
       "      <th></th>\n",
       "      <th></th>\n",
       "    </tr>\n",
       "  </thead>\n",
       "  <tbody>\n",
       "    <tr>\n",
       "      <th>2020-01-02</th>\n",
       "      <td>False</td>\n",
       "      <td>False</td>\n",
       "      <td>False</td>\n",
       "      <td>False</td>\n",
       "    </tr>\n",
       "    <tr>\n",
       "      <th>2020-01-03</th>\n",
       "      <td>False</td>\n",
       "      <td>False</td>\n",
       "      <td>False</td>\n",
       "      <td>False</td>\n",
       "    </tr>\n",
       "    <tr>\n",
       "      <th>2020-01-06</th>\n",
       "      <td>False</td>\n",
       "      <td>False</td>\n",
       "      <td>False</td>\n",
       "      <td>False</td>\n",
       "    </tr>\n",
       "    <tr>\n",
       "      <th>2020-01-07</th>\n",
       "      <td>False</td>\n",
       "      <td>False</td>\n",
       "      <td>False</td>\n",
       "      <td>False</td>\n",
       "    </tr>\n",
       "    <tr>\n",
       "      <th>2020-01-08</th>\n",
       "      <td>False</td>\n",
       "      <td>False</td>\n",
       "      <td>False</td>\n",
       "      <td>False</td>\n",
       "    </tr>\n",
       "    <tr>\n",
       "      <th>...</th>\n",
       "      <td>...</td>\n",
       "      <td>...</td>\n",
       "      <td>...</td>\n",
       "      <td>...</td>\n",
       "    </tr>\n",
       "    <tr>\n",
       "      <th>2021-12-27</th>\n",
       "      <td>False</td>\n",
       "      <td>False</td>\n",
       "      <td>False</td>\n",
       "      <td>False</td>\n",
       "    </tr>\n",
       "    <tr>\n",
       "      <th>2021-12-28</th>\n",
       "      <td>False</td>\n",
       "      <td>False</td>\n",
       "      <td>False</td>\n",
       "      <td>False</td>\n",
       "    </tr>\n",
       "    <tr>\n",
       "      <th>2021-12-29</th>\n",
       "      <td>False</td>\n",
       "      <td>False</td>\n",
       "      <td>False</td>\n",
       "      <td>False</td>\n",
       "    </tr>\n",
       "    <tr>\n",
       "      <th>2021-12-30</th>\n",
       "      <td>False</td>\n",
       "      <td>False</td>\n",
       "      <td>False</td>\n",
       "      <td>False</td>\n",
       "    </tr>\n",
       "    <tr>\n",
       "      <th>2021-12-31</th>\n",
       "      <td>False</td>\n",
       "      <td>False</td>\n",
       "      <td>False</td>\n",
       "      <td>False</td>\n",
       "    </tr>\n",
       "  </tbody>\n",
       "</table>\n",
       "<p>486 rows × 4 columns</p>\n",
       "</div>"
      ],
      "text/plain": [
       "             open   high    low  close\n",
       "date                                  \n",
       "2020-01-02  False  False  False  False\n",
       "2020-01-03  False  False  False  False\n",
       "2020-01-06  False  False  False  False\n",
       "2020-01-07  False  False  False  False\n",
       "2020-01-08  False  False  False  False\n",
       "...           ...    ...    ...    ...\n",
       "2021-12-27  False  False  False  False\n",
       "2021-12-28  False  False  False  False\n",
       "2021-12-29  False  False  False  False\n",
       "2021-12-30  False  False  False  False\n",
       "2021-12-31  False  False  False  False\n",
       "\n",
       "[486 rows x 4 columns]"
      ]
     },
     "execution_count": 127,
     "metadata": {},
     "output_type": "execute_result"
    }
   ],
   "source": [
    "~price.notnull()"
   ]
  },
  {
   "cell_type": "code",
   "execution_count": 107,
   "metadata": {
    "scrolled": true
   },
   "outputs": [
    {
     "data": {
      "text/plain": [
       "date\n",
       "2021-02-03   NaN\n",
       "2021-02-05   NaN\n",
       "2021-02-08   NaN\n",
       "2021-05-25   NaN\n",
       "2021-05-26   NaN\n",
       "2021-05-27   NaN\n",
       "2021-05-28   NaN\n",
       "2021-06-04   NaN\n",
       "2021-06-08   NaN\n",
       "2021-06-09   NaN\n",
       "Name: close, dtype: float64"
      ]
     },
     "execution_count": 107,
     "metadata": {},
     "output_type": "execute_result"
    }
   ],
   "source": [
    "# 找出空缺值的位置\n",
    "price.close[price.close.isnull()== True]"
   ]
  },
  {
   "cell_type": "markdown",
   "metadata": {},
   "source": [
    "##### 6.5.2 空缺值填充"
   ]
  },
  {
   "cell_type": "code",
   "execution_count": 129,
   "metadata": {},
   "outputs": [
    {
     "data": {
      "text/html": [
       "<div>\n",
       "<style scoped>\n",
       "    .dataframe tbody tr th:only-of-type {\n",
       "        vertical-align: middle;\n",
       "    }\n",
       "\n",
       "    .dataframe tbody tr th {\n",
       "        vertical-align: top;\n",
       "    }\n",
       "\n",
       "    .dataframe thead th {\n",
       "        text-align: right;\n",
       "    }\n",
       "</style>\n",
       "<table border=\"1\" class=\"dataframe\">\n",
       "  <thead>\n",
       "    <tr style=\"text-align: right;\">\n",
       "      <th></th>\n",
       "      <th>open</th>\n",
       "      <th>high</th>\n",
       "      <th>low</th>\n",
       "      <th>close</th>\n",
       "    </tr>\n",
       "    <tr>\n",
       "      <th>date</th>\n",
       "      <th></th>\n",
       "      <th></th>\n",
       "      <th></th>\n",
       "      <th></th>\n",
       "    </tr>\n",
       "  </thead>\n",
       "  <tbody>\n",
       "    <tr>\n",
       "      <th>2020-01-02</th>\n",
       "      <td>15.5720</td>\n",
       "      <td>15.8526</td>\n",
       "      <td>15.4785</td>\n",
       "      <td>15.7777</td>\n",
       "    </tr>\n",
       "    <tr>\n",
       "      <th>2020-01-03</th>\n",
       "      <td>15.8432</td>\n",
       "      <td>16.1892</td>\n",
       "      <td>15.8245</td>\n",
       "      <td>16.0677</td>\n",
       "    </tr>\n",
       "    <tr>\n",
       "      <th>2020-01-06</th>\n",
       "      <td>15.9087</td>\n",
       "      <td>16.2173</td>\n",
       "      <td>15.8151</td>\n",
       "      <td>15.9648</td>\n",
       "    </tr>\n",
       "    <tr>\n",
       "      <th>2020-01-07</th>\n",
       "      <td>16.0209</td>\n",
       "      <td>16.1612</td>\n",
       "      <td>15.8526</td>\n",
       "      <td>16.0396</td>\n",
       "    </tr>\n",
       "    <tr>\n",
       "      <th>2020-01-08</th>\n",
       "      <td>15.8993</td>\n",
       "      <td>15.9461</td>\n",
       "      <td>15.5533</td>\n",
       "      <td>15.5813</td>\n",
       "    </tr>\n",
       "    <tr>\n",
       "      <th>...</th>\n",
       "      <td>...</td>\n",
       "      <td>...</td>\n",
       "      <td>...</td>\n",
       "      <td>...</td>\n",
       "    </tr>\n",
       "    <tr>\n",
       "      <th>2021-12-27</th>\n",
       "      <td>16.6141</td>\n",
       "      <td>16.6332</td>\n",
       "      <td>16.4511</td>\n",
       "      <td>16.5086</td>\n",
       "    </tr>\n",
       "    <tr>\n",
       "      <th>2021-12-28</th>\n",
       "      <td>16.5086</td>\n",
       "      <td>16.6141</td>\n",
       "      <td>16.3840</td>\n",
       "      <td>16.4607</td>\n",
       "    </tr>\n",
       "    <tr>\n",
       "      <th>2021-12-29</th>\n",
       "      <td>16.4511</td>\n",
       "      <td>16.4511</td>\n",
       "      <td>16.0101</td>\n",
       "      <td>16.0580</td>\n",
       "    </tr>\n",
       "    <tr>\n",
       "      <th>2021-12-30</th>\n",
       "      <td>16.0676</td>\n",
       "      <td>16.2498</td>\n",
       "      <td>16.0293</td>\n",
       "      <td>16.1251</td>\n",
       "    </tr>\n",
       "    <tr>\n",
       "      <th>2021-12-31</th>\n",
       "      <td>16.1635</td>\n",
       "      <td>16.2018</td>\n",
       "      <td>15.7225</td>\n",
       "      <td>15.7992</td>\n",
       "    </tr>\n",
       "  </tbody>\n",
       "</table>\n",
       "<p>486 rows × 4 columns</p>\n",
       "</div>"
      ],
      "text/plain": [
       "               open     high      low    close\n",
       "date                                          \n",
       "2020-01-02  15.5720  15.8526  15.4785  15.7777\n",
       "2020-01-03  15.8432  16.1892  15.8245  16.0677\n",
       "2020-01-06  15.9087  16.2173  15.8151  15.9648\n",
       "2020-01-07  16.0209  16.1612  15.8526  16.0396\n",
       "2020-01-08  15.8993  15.9461  15.5533  15.5813\n",
       "...             ...      ...      ...      ...\n",
       "2021-12-27  16.6141  16.6332  16.4511  16.5086\n",
       "2021-12-28  16.5086  16.6141  16.3840  16.4607\n",
       "2021-12-29  16.4511  16.4511  16.0101  16.0580\n",
       "2021-12-30  16.0676  16.2498  16.0293  16.1251\n",
       "2021-12-31  16.1635  16.2018  15.7225  15.7992\n",
       "\n",
       "[486 rows x 4 columns]"
      ]
     },
     "execution_count": 129,
     "metadata": {},
     "output_type": "execute_result"
    }
   ],
   "source": [
    "price.fillna(method='bfill')               #向前填充"
   ]
  },
  {
   "cell_type": "code",
   "execution_count": 130,
   "metadata": {},
   "outputs": [
    {
     "data": {
      "text/html": [
       "<div>\n",
       "<style scoped>\n",
       "    .dataframe tbody tr th:only-of-type {\n",
       "        vertical-align: middle;\n",
       "    }\n",
       "\n",
       "    .dataframe tbody tr th {\n",
       "        vertical-align: top;\n",
       "    }\n",
       "\n",
       "    .dataframe thead th {\n",
       "        text-align: right;\n",
       "    }\n",
       "</style>\n",
       "<table border=\"1\" class=\"dataframe\">\n",
       "  <thead>\n",
       "    <tr style=\"text-align: right;\">\n",
       "      <th></th>\n",
       "      <th>open</th>\n",
       "      <th>high</th>\n",
       "      <th>low</th>\n",
       "      <th>close</th>\n",
       "    </tr>\n",
       "    <tr>\n",
       "      <th>date</th>\n",
       "      <th></th>\n",
       "      <th></th>\n",
       "      <th></th>\n",
       "      <th></th>\n",
       "    </tr>\n",
       "  </thead>\n",
       "  <tbody>\n",
       "    <tr>\n",
       "      <th>2020-01-02</th>\n",
       "      <td>15.5720</td>\n",
       "      <td>15.8526</td>\n",
       "      <td>15.4785</td>\n",
       "      <td>15.7777</td>\n",
       "    </tr>\n",
       "    <tr>\n",
       "      <th>2020-01-03</th>\n",
       "      <td>15.8432</td>\n",
       "      <td>16.1892</td>\n",
       "      <td>15.8245</td>\n",
       "      <td>16.0677</td>\n",
       "    </tr>\n",
       "    <tr>\n",
       "      <th>2020-01-06</th>\n",
       "      <td>15.9087</td>\n",
       "      <td>16.2173</td>\n",
       "      <td>15.8151</td>\n",
       "      <td>15.9648</td>\n",
       "    </tr>\n",
       "    <tr>\n",
       "      <th>2020-01-07</th>\n",
       "      <td>16.0209</td>\n",
       "      <td>16.1612</td>\n",
       "      <td>15.8526</td>\n",
       "      <td>16.0396</td>\n",
       "    </tr>\n",
       "    <tr>\n",
       "      <th>2020-01-08</th>\n",
       "      <td>15.8993</td>\n",
       "      <td>15.9461</td>\n",
       "      <td>15.5533</td>\n",
       "      <td>15.5813</td>\n",
       "    </tr>\n",
       "    <tr>\n",
       "      <th>...</th>\n",
       "      <td>...</td>\n",
       "      <td>...</td>\n",
       "      <td>...</td>\n",
       "      <td>...</td>\n",
       "    </tr>\n",
       "    <tr>\n",
       "      <th>2021-12-27</th>\n",
       "      <td>16.6141</td>\n",
       "      <td>16.6332</td>\n",
       "      <td>16.4511</td>\n",
       "      <td>16.5086</td>\n",
       "    </tr>\n",
       "    <tr>\n",
       "      <th>2021-12-28</th>\n",
       "      <td>16.5086</td>\n",
       "      <td>16.6141</td>\n",
       "      <td>16.3840</td>\n",
       "      <td>16.4607</td>\n",
       "    </tr>\n",
       "    <tr>\n",
       "      <th>2021-12-29</th>\n",
       "      <td>16.4511</td>\n",
       "      <td>16.4511</td>\n",
       "      <td>16.0101</td>\n",
       "      <td>16.0580</td>\n",
       "    </tr>\n",
       "    <tr>\n",
       "      <th>2021-12-30</th>\n",
       "      <td>16.0676</td>\n",
       "      <td>16.2498</td>\n",
       "      <td>16.0293</td>\n",
       "      <td>16.1251</td>\n",
       "    </tr>\n",
       "    <tr>\n",
       "      <th>2021-12-31</th>\n",
       "      <td>16.1635</td>\n",
       "      <td>16.2018</td>\n",
       "      <td>15.7225</td>\n",
       "      <td>15.7992</td>\n",
       "    </tr>\n",
       "  </tbody>\n",
       "</table>\n",
       "<p>486 rows × 4 columns</p>\n",
       "</div>"
      ],
      "text/plain": [
       "               open     high      low    close\n",
       "date                                          \n",
       "2020-01-02  15.5720  15.8526  15.4785  15.7777\n",
       "2020-01-03  15.8432  16.1892  15.8245  16.0677\n",
       "2020-01-06  15.9087  16.2173  15.8151  15.9648\n",
       "2020-01-07  16.0209  16.1612  15.8526  16.0396\n",
       "2020-01-08  15.8993  15.9461  15.5533  15.5813\n",
       "...             ...      ...      ...      ...\n",
       "2021-12-27  16.6141  16.6332  16.4511  16.5086\n",
       "2021-12-28  16.5086  16.6141  16.3840  16.4607\n",
       "2021-12-29  16.4511  16.4511  16.0101  16.0580\n",
       "2021-12-30  16.0676  16.2498  16.0293  16.1251\n",
       "2021-12-31  16.1635  16.2018  15.7225  15.7992\n",
       "\n",
       "[486 rows x 4 columns]"
      ]
     },
     "execution_count": 130,
     "metadata": {},
     "output_type": "execute_result"
    }
   ],
   "source": [
    "price.fillna(method='ffill')                #向后填充"
   ]
  },
  {
   "cell_type": "code",
   "execution_count": 131,
   "metadata": {},
   "outputs": [
    {
     "data": {
      "text/html": [
       "<div>\n",
       "<style scoped>\n",
       "    .dataframe tbody tr th:only-of-type {\n",
       "        vertical-align: middle;\n",
       "    }\n",
       "\n",
       "    .dataframe tbody tr th {\n",
       "        vertical-align: top;\n",
       "    }\n",
       "\n",
       "    .dataframe thead th {\n",
       "        text-align: right;\n",
       "    }\n",
       "</style>\n",
       "<table border=\"1\" class=\"dataframe\">\n",
       "  <thead>\n",
       "    <tr style=\"text-align: right;\">\n",
       "      <th></th>\n",
       "      <th>open</th>\n",
       "      <th>high</th>\n",
       "      <th>low</th>\n",
       "      <th>close</th>\n",
       "    </tr>\n",
       "    <tr>\n",
       "      <th>date</th>\n",
       "      <th></th>\n",
       "      <th></th>\n",
       "      <th></th>\n",
       "      <th></th>\n",
       "    </tr>\n",
       "  </thead>\n",
       "  <tbody>\n",
       "    <tr>\n",
       "      <th>2020-01-02</th>\n",
       "      <td>15.5720</td>\n",
       "      <td>15.8526</td>\n",
       "      <td>15.4785</td>\n",
       "      <td>15.7777</td>\n",
       "    </tr>\n",
       "    <tr>\n",
       "      <th>2020-01-03</th>\n",
       "      <td>15.8432</td>\n",
       "      <td>16.1892</td>\n",
       "      <td>15.8245</td>\n",
       "      <td>16.0677</td>\n",
       "    </tr>\n",
       "    <tr>\n",
       "      <th>2020-01-06</th>\n",
       "      <td>15.9087</td>\n",
       "      <td>16.2173</td>\n",
       "      <td>15.8151</td>\n",
       "      <td>15.9648</td>\n",
       "    </tr>\n",
       "    <tr>\n",
       "      <th>2020-01-07</th>\n",
       "      <td>16.0209</td>\n",
       "      <td>16.1612</td>\n",
       "      <td>15.8526</td>\n",
       "      <td>16.0396</td>\n",
       "    </tr>\n",
       "    <tr>\n",
       "      <th>2020-01-08</th>\n",
       "      <td>15.8993</td>\n",
       "      <td>15.9461</td>\n",
       "      <td>15.5533</td>\n",
       "      <td>15.5813</td>\n",
       "    </tr>\n",
       "    <tr>\n",
       "      <th>...</th>\n",
       "      <td>...</td>\n",
       "      <td>...</td>\n",
       "      <td>...</td>\n",
       "      <td>...</td>\n",
       "    </tr>\n",
       "    <tr>\n",
       "      <th>2021-12-27</th>\n",
       "      <td>16.6141</td>\n",
       "      <td>16.6332</td>\n",
       "      <td>16.4511</td>\n",
       "      <td>16.5086</td>\n",
       "    </tr>\n",
       "    <tr>\n",
       "      <th>2021-12-28</th>\n",
       "      <td>16.5086</td>\n",
       "      <td>16.6141</td>\n",
       "      <td>16.3840</td>\n",
       "      <td>16.4607</td>\n",
       "    </tr>\n",
       "    <tr>\n",
       "      <th>2021-12-29</th>\n",
       "      <td>16.4511</td>\n",
       "      <td>16.4511</td>\n",
       "      <td>16.0101</td>\n",
       "      <td>16.0580</td>\n",
       "    </tr>\n",
       "    <tr>\n",
       "      <th>2021-12-30</th>\n",
       "      <td>16.0676</td>\n",
       "      <td>16.2498</td>\n",
       "      <td>16.0293</td>\n",
       "      <td>16.1251</td>\n",
       "    </tr>\n",
       "    <tr>\n",
       "      <th>2021-12-31</th>\n",
       "      <td>16.1635</td>\n",
       "      <td>16.2018</td>\n",
       "      <td>15.7225</td>\n",
       "      <td>15.7992</td>\n",
       "    </tr>\n",
       "  </tbody>\n",
       "</table>\n",
       "<p>481 rows × 4 columns</p>\n",
       "</div>"
      ],
      "text/plain": [
       "               open     high      low    close\n",
       "date                                          \n",
       "2020-01-02  15.5720  15.8526  15.4785  15.7777\n",
       "2020-01-03  15.8432  16.1892  15.8245  16.0677\n",
       "2020-01-06  15.9087  16.2173  15.8151  15.9648\n",
       "2020-01-07  16.0209  16.1612  15.8526  16.0396\n",
       "2020-01-08  15.8993  15.9461  15.5533  15.5813\n",
       "...             ...      ...      ...      ...\n",
       "2021-12-27  16.6141  16.6332  16.4511  16.5086\n",
       "2021-12-28  16.5086  16.6141  16.3840  16.4607\n",
       "2021-12-29  16.4511  16.4511  16.0101  16.0580\n",
       "2021-12-30  16.0676  16.2498  16.0293  16.1251\n",
       "2021-12-31  16.1635  16.2018  15.7225  15.7992\n",
       "\n",
       "[481 rows x 4 columns]"
      ]
     },
     "execution_count": 131,
     "metadata": {},
     "output_type": "execute_result"
    }
   ],
   "source": [
    "price.dropna()                            #去除空缺值"
   ]
  },
  {
   "cell_type": "code",
   "execution_count": 132,
   "metadata": {},
   "outputs": [
    {
     "data": {
      "text/plain": [
       "(486, 4)"
      ]
     },
     "execution_count": 132,
     "metadata": {},
     "output_type": "execute_result"
    }
   ],
   "source": [
    "price.shape"
   ]
  },
  {
   "cell_type": "code",
   "execution_count": 133,
   "metadata": {},
   "outputs": [
    {
     "data": {
      "text/html": [
       "<div>\n",
       "<style scoped>\n",
       "    .dataframe tbody tr th:only-of-type {\n",
       "        vertical-align: middle;\n",
       "    }\n",
       "\n",
       "    .dataframe tbody tr th {\n",
       "        vertical-align: top;\n",
       "    }\n",
       "\n",
       "    .dataframe thead th {\n",
       "        text-align: right;\n",
       "    }\n",
       "</style>\n",
       "<table border=\"1\" class=\"dataframe\">\n",
       "  <thead>\n",
       "    <tr style=\"text-align: right;\">\n",
       "      <th></th>\n",
       "      <th>open</th>\n",
       "      <th>high</th>\n",
       "      <th>low</th>\n",
       "      <th>close</th>\n",
       "    </tr>\n",
       "    <tr>\n",
       "      <th>date</th>\n",
       "      <th></th>\n",
       "      <th></th>\n",
       "      <th></th>\n",
       "      <th></th>\n",
       "    </tr>\n",
       "  </thead>\n",
       "  <tbody>\n",
       "    <tr>\n",
       "      <th>2020-01-02</th>\n",
       "      <td>15.5720</td>\n",
       "      <td>15.8526</td>\n",
       "      <td>15.4785</td>\n",
       "      <td>15.7777</td>\n",
       "    </tr>\n",
       "    <tr>\n",
       "      <th>2020-01-03</th>\n",
       "      <td>15.8432</td>\n",
       "      <td>16.1892</td>\n",
       "      <td>15.8245</td>\n",
       "      <td>16.0677</td>\n",
       "    </tr>\n",
       "    <tr>\n",
       "      <th>2020-01-06</th>\n",
       "      <td>15.9087</td>\n",
       "      <td>16.2173</td>\n",
       "      <td>15.8151</td>\n",
       "      <td>15.9648</td>\n",
       "    </tr>\n",
       "    <tr>\n",
       "      <th>2020-01-07</th>\n",
       "      <td>16.0209</td>\n",
       "      <td>16.1612</td>\n",
       "      <td>15.8526</td>\n",
       "      <td>16.0396</td>\n",
       "    </tr>\n",
       "    <tr>\n",
       "      <th>2020-01-08</th>\n",
       "      <td>15.8993</td>\n",
       "      <td>15.9461</td>\n",
       "      <td>15.5533</td>\n",
       "      <td>15.5813</td>\n",
       "    </tr>\n",
       "    <tr>\n",
       "      <th>...</th>\n",
       "      <td>...</td>\n",
       "      <td>...</td>\n",
       "      <td>...</td>\n",
       "      <td>...</td>\n",
       "    </tr>\n",
       "    <tr>\n",
       "      <th>2021-12-27</th>\n",
       "      <td>16.6141</td>\n",
       "      <td>16.6332</td>\n",
       "      <td>16.4511</td>\n",
       "      <td>16.5086</td>\n",
       "    </tr>\n",
       "    <tr>\n",
       "      <th>2021-12-28</th>\n",
       "      <td>16.5086</td>\n",
       "      <td>16.6141</td>\n",
       "      <td>16.3840</td>\n",
       "      <td>16.4607</td>\n",
       "    </tr>\n",
       "    <tr>\n",
       "      <th>2021-12-29</th>\n",
       "      <td>16.4511</td>\n",
       "      <td>16.4511</td>\n",
       "      <td>16.0101</td>\n",
       "      <td>16.0580</td>\n",
       "    </tr>\n",
       "    <tr>\n",
       "      <th>2021-12-30</th>\n",
       "      <td>16.0676</td>\n",
       "      <td>16.2498</td>\n",
       "      <td>16.0293</td>\n",
       "      <td>16.1251</td>\n",
       "    </tr>\n",
       "    <tr>\n",
       "      <th>2021-12-31</th>\n",
       "      <td>16.1635</td>\n",
       "      <td>16.2018</td>\n",
       "      <td>15.7225</td>\n",
       "      <td>15.7992</td>\n",
       "    </tr>\n",
       "  </tbody>\n",
       "</table>\n",
       "<p>481 rows × 4 columns</p>\n",
       "</div>"
      ],
      "text/plain": [
       "               open     high      low    close\n",
       "date                                          \n",
       "2020-01-02  15.5720  15.8526  15.4785  15.7777\n",
       "2020-01-03  15.8432  16.1892  15.8245  16.0677\n",
       "2020-01-06  15.9087  16.2173  15.8151  15.9648\n",
       "2020-01-07  16.0209  16.1612  15.8526  16.0396\n",
       "2020-01-08  15.8993  15.9461  15.5533  15.5813\n",
       "...             ...      ...      ...      ...\n",
       "2021-12-27  16.6141  16.6332  16.4511  16.5086\n",
       "2021-12-28  16.5086  16.6141  16.3840  16.4607\n",
       "2021-12-29  16.4511  16.4511  16.0101  16.0580\n",
       "2021-12-30  16.0676  16.2498  16.0293  16.1251\n",
       "2021-12-31  16.1635  16.2018  15.7225  15.7992\n",
       "\n",
       "[481 rows x 4 columns]"
      ]
     },
     "execution_count": 133,
     "metadata": {},
     "output_type": "execute_result"
    }
   ],
   "source": [
    "price.dropna(inplace = True)                            #去除空缺值\n",
    "price"
   ]
  },
  {
   "cell_type": "markdown",
   "metadata": {},
   "source": [
    "### 7 金融数据可视化"
   ]
  },
  {
   "cell_type": "code",
   "execution_count": 135,
   "metadata": {},
   "outputs": [
    {
     "data": {
      "text/html": [
       "<div>\n",
       "<style scoped>\n",
       "    .dataframe tbody tr th:only-of-type {\n",
       "        vertical-align: middle;\n",
       "    }\n",
       "\n",
       "    .dataframe tbody tr th {\n",
       "        vertical-align: top;\n",
       "    }\n",
       "\n",
       "    .dataframe thead th {\n",
       "        text-align: right;\n",
       "    }\n",
       "</style>\n",
       "<table border=\"1\" class=\"dataframe\">\n",
       "  <thead>\n",
       "    <tr style=\"text-align: right;\">\n",
       "      <th></th>\n",
       "      <th>close</th>\n",
       "    </tr>\n",
       "    <tr>\n",
       "      <th>date</th>\n",
       "      <th></th>\n",
       "    </tr>\n",
       "  </thead>\n",
       "  <tbody>\n",
       "    <tr>\n",
       "      <th>2020-01-02</th>\n",
       "      <td>NaN</td>\n",
       "    </tr>\n",
       "    <tr>\n",
       "      <th>2020-01-03</th>\n",
       "      <td>0.018380</td>\n",
       "    </tr>\n",
       "    <tr>\n",
       "      <th>2020-01-06</th>\n",
       "      <td>-0.006404</td>\n",
       "    </tr>\n",
       "    <tr>\n",
       "      <th>2020-01-07</th>\n",
       "      <td>0.004685</td>\n",
       "    </tr>\n",
       "    <tr>\n",
       "      <th>2020-01-08</th>\n",
       "      <td>-0.028573</td>\n",
       "    </tr>\n",
       "    <tr>\n",
       "      <th>...</th>\n",
       "      <td>...</td>\n",
       "    </tr>\n",
       "    <tr>\n",
       "      <th>2021-12-27</th>\n",
       "      <td>-0.005200</td>\n",
       "    </tr>\n",
       "    <tr>\n",
       "      <th>2021-12-28</th>\n",
       "      <td>-0.002902</td>\n",
       "    </tr>\n",
       "    <tr>\n",
       "      <th>2021-12-29</th>\n",
       "      <td>-0.024464</td>\n",
       "    </tr>\n",
       "    <tr>\n",
       "      <th>2021-12-30</th>\n",
       "      <td>0.004179</td>\n",
       "    </tr>\n",
       "    <tr>\n",
       "      <th>2021-12-31</th>\n",
       "      <td>-0.020211</td>\n",
       "    </tr>\n",
       "  </tbody>\n",
       "</table>\n",
       "<p>481 rows × 1 columns</p>\n",
       "</div>"
      ],
      "text/plain": [
       "               close\n",
       "date                \n",
       "2020-01-02       NaN\n",
       "2020-01-03  0.018380\n",
       "2020-01-06 -0.006404\n",
       "2020-01-07  0.004685\n",
       "2020-01-08 -0.028573\n",
       "...              ...\n",
       "2021-12-27 -0.005200\n",
       "2021-12-28 -0.002902\n",
       "2021-12-29 -0.024464\n",
       "2021-12-30  0.004179\n",
       "2021-12-31 -0.020211\n",
       "\n",
       "[481 rows x 1 columns]"
      ]
     },
     "execution_count": 135,
     "metadata": {},
     "output_type": "execute_result"
    }
   ],
   "source": [
    "price[['close']].pct_change()"
   ]
  },
  {
   "cell_type": "code",
   "execution_count": 136,
   "metadata": {},
   "outputs": [
    {
     "data": {
      "text/html": [
       "<div>\n",
       "<style scoped>\n",
       "    .dataframe tbody tr th:only-of-type {\n",
       "        vertical-align: middle;\n",
       "    }\n",
       "\n",
       "    .dataframe tbody tr th {\n",
       "        vertical-align: top;\n",
       "    }\n",
       "\n",
       "    .dataframe thead th {\n",
       "        text-align: right;\n",
       "    }\n",
       "</style>\n",
       "<table border=\"1\" class=\"dataframe\">\n",
       "  <thead>\n",
       "    <tr style=\"text-align: right;\">\n",
       "      <th></th>\n",
       "      <th>open</th>\n",
       "      <th>high</th>\n",
       "      <th>low</th>\n",
       "      <th>close</th>\n",
       "      <th>change</th>\n",
       "    </tr>\n",
       "    <tr>\n",
       "      <th>date</th>\n",
       "      <th></th>\n",
       "      <th></th>\n",
       "      <th></th>\n",
       "      <th></th>\n",
       "      <th></th>\n",
       "    </tr>\n",
       "  </thead>\n",
       "  <tbody>\n",
       "    <tr>\n",
       "      <th>2020-01-02</th>\n",
       "      <td>15.5720</td>\n",
       "      <td>15.8526</td>\n",
       "      <td>15.4785</td>\n",
       "      <td>15.7777</td>\n",
       "      <td>NaN</td>\n",
       "    </tr>\n",
       "    <tr>\n",
       "      <th>2020-01-03</th>\n",
       "      <td>15.8432</td>\n",
       "      <td>16.1892</td>\n",
       "      <td>15.8245</td>\n",
       "      <td>16.0677</td>\n",
       "      <td>0.018380</td>\n",
       "    </tr>\n",
       "    <tr>\n",
       "      <th>2020-01-06</th>\n",
       "      <td>15.9087</td>\n",
       "      <td>16.2173</td>\n",
       "      <td>15.8151</td>\n",
       "      <td>15.9648</td>\n",
       "      <td>-0.006404</td>\n",
       "    </tr>\n",
       "    <tr>\n",
       "      <th>2020-01-07</th>\n",
       "      <td>16.0209</td>\n",
       "      <td>16.1612</td>\n",
       "      <td>15.8526</td>\n",
       "      <td>16.0396</td>\n",
       "      <td>0.004685</td>\n",
       "    </tr>\n",
       "    <tr>\n",
       "      <th>2020-01-08</th>\n",
       "      <td>15.8993</td>\n",
       "      <td>15.9461</td>\n",
       "      <td>15.5533</td>\n",
       "      <td>15.5813</td>\n",
       "      <td>-0.028573</td>\n",
       "    </tr>\n",
       "    <tr>\n",
       "      <th>...</th>\n",
       "      <td>...</td>\n",
       "      <td>...</td>\n",
       "      <td>...</td>\n",
       "      <td>...</td>\n",
       "      <td>...</td>\n",
       "    </tr>\n",
       "    <tr>\n",
       "      <th>2021-12-27</th>\n",
       "      <td>16.6141</td>\n",
       "      <td>16.6332</td>\n",
       "      <td>16.4511</td>\n",
       "      <td>16.5086</td>\n",
       "      <td>-0.005200</td>\n",
       "    </tr>\n",
       "    <tr>\n",
       "      <th>2021-12-28</th>\n",
       "      <td>16.5086</td>\n",
       "      <td>16.6141</td>\n",
       "      <td>16.3840</td>\n",
       "      <td>16.4607</td>\n",
       "      <td>-0.002902</td>\n",
       "    </tr>\n",
       "    <tr>\n",
       "      <th>2021-12-29</th>\n",
       "      <td>16.4511</td>\n",
       "      <td>16.4511</td>\n",
       "      <td>16.0101</td>\n",
       "      <td>16.0580</td>\n",
       "      <td>-0.024464</td>\n",
       "    </tr>\n",
       "    <tr>\n",
       "      <th>2021-12-30</th>\n",
       "      <td>16.0676</td>\n",
       "      <td>16.2498</td>\n",
       "      <td>16.0293</td>\n",
       "      <td>16.1251</td>\n",
       "      <td>0.004179</td>\n",
       "    </tr>\n",
       "    <tr>\n",
       "      <th>2021-12-31</th>\n",
       "      <td>16.1635</td>\n",
       "      <td>16.2018</td>\n",
       "      <td>15.7225</td>\n",
       "      <td>15.7992</td>\n",
       "      <td>-0.020211</td>\n",
       "    </tr>\n",
       "  </tbody>\n",
       "</table>\n",
       "<p>481 rows × 5 columns</p>\n",
       "</div>"
      ],
      "text/plain": [
       "               open     high      low    close    change\n",
       "date                                                    \n",
       "2020-01-02  15.5720  15.8526  15.4785  15.7777       NaN\n",
       "2020-01-03  15.8432  16.1892  15.8245  16.0677  0.018380\n",
       "2020-01-06  15.9087  16.2173  15.8151  15.9648 -0.006404\n",
       "2020-01-07  16.0209  16.1612  15.8526  16.0396  0.004685\n",
       "2020-01-08  15.8993  15.9461  15.5533  15.5813 -0.028573\n",
       "...             ...      ...      ...      ...       ...\n",
       "2021-12-27  16.6141  16.6332  16.4511  16.5086 -0.005200\n",
       "2021-12-28  16.5086  16.6141  16.3840  16.4607 -0.002902\n",
       "2021-12-29  16.4511  16.4511  16.0101  16.0580 -0.024464\n",
       "2021-12-30  16.0676  16.2498  16.0293  16.1251  0.004179\n",
       "2021-12-31  16.1635  16.2018  15.7225  15.7992 -0.020211\n",
       "\n",
       "[481 rows x 5 columns]"
      ]
     },
     "execution_count": 136,
     "metadata": {},
     "output_type": "execute_result"
    }
   ],
   "source": [
    "price['change'] = price[['close']].pct_change()\n",
    "price"
   ]
  },
  {
   "cell_type": "code",
   "execution_count": 137,
   "metadata": {},
   "outputs": [
    {
     "data": {
      "text/html": [
       "<div>\n",
       "<style scoped>\n",
       "    .dataframe tbody tr th:only-of-type {\n",
       "        vertical-align: middle;\n",
       "    }\n",
       "\n",
       "    .dataframe tbody tr th {\n",
       "        vertical-align: top;\n",
       "    }\n",
       "\n",
       "    .dataframe thead th {\n",
       "        text-align: right;\n",
       "    }\n",
       "</style>\n",
       "<table border=\"1\" class=\"dataframe\">\n",
       "  <thead>\n",
       "    <tr style=\"text-align: right;\">\n",
       "      <th></th>\n",
       "      <th>open</th>\n",
       "      <th>high</th>\n",
       "      <th>low</th>\n",
       "      <th>close</th>\n",
       "      <th>change</th>\n",
       "      <th>net</th>\n",
       "    </tr>\n",
       "    <tr>\n",
       "      <th>date</th>\n",
       "      <th></th>\n",
       "      <th></th>\n",
       "      <th></th>\n",
       "      <th></th>\n",
       "      <th></th>\n",
       "      <th></th>\n",
       "    </tr>\n",
       "  </thead>\n",
       "  <tbody>\n",
       "    <tr>\n",
       "      <th>2020-01-02</th>\n",
       "      <td>15.5720</td>\n",
       "      <td>15.8526</td>\n",
       "      <td>15.4785</td>\n",
       "      <td>15.7777</td>\n",
       "      <td>NaN</td>\n",
       "      <td>NaN</td>\n",
       "    </tr>\n",
       "    <tr>\n",
       "      <th>2020-01-03</th>\n",
       "      <td>15.8432</td>\n",
       "      <td>16.1892</td>\n",
       "      <td>15.8245</td>\n",
       "      <td>16.0677</td>\n",
       "      <td>0.018380</td>\n",
       "      <td>1.018380</td>\n",
       "    </tr>\n",
       "    <tr>\n",
       "      <th>2020-01-06</th>\n",
       "      <td>15.9087</td>\n",
       "      <td>16.2173</td>\n",
       "      <td>15.8151</td>\n",
       "      <td>15.9648</td>\n",
       "      <td>-0.006404</td>\n",
       "      <td>1.011859</td>\n",
       "    </tr>\n",
       "    <tr>\n",
       "      <th>2020-01-07</th>\n",
       "      <td>16.0209</td>\n",
       "      <td>16.1612</td>\n",
       "      <td>15.8526</td>\n",
       "      <td>16.0396</td>\n",
       "      <td>0.004685</td>\n",
       "      <td>1.016599</td>\n",
       "    </tr>\n",
       "    <tr>\n",
       "      <th>2020-01-08</th>\n",
       "      <td>15.8993</td>\n",
       "      <td>15.9461</td>\n",
       "      <td>15.5533</td>\n",
       "      <td>15.5813</td>\n",
       "      <td>-0.028573</td>\n",
       "      <td>0.987552</td>\n",
       "    </tr>\n",
       "    <tr>\n",
       "      <th>...</th>\n",
       "      <td>...</td>\n",
       "      <td>...</td>\n",
       "      <td>...</td>\n",
       "      <td>...</td>\n",
       "      <td>...</td>\n",
       "      <td>...</td>\n",
       "    </tr>\n",
       "    <tr>\n",
       "      <th>2021-12-27</th>\n",
       "      <td>16.6141</td>\n",
       "      <td>16.6332</td>\n",
       "      <td>16.4511</td>\n",
       "      <td>16.5086</td>\n",
       "      <td>-0.005200</td>\n",
       "      <td>1.046325</td>\n",
       "    </tr>\n",
       "    <tr>\n",
       "      <th>2021-12-28</th>\n",
       "      <td>16.5086</td>\n",
       "      <td>16.6141</td>\n",
       "      <td>16.3840</td>\n",
       "      <td>16.4607</td>\n",
       "      <td>-0.002902</td>\n",
       "      <td>1.043289</td>\n",
       "    </tr>\n",
       "    <tr>\n",
       "      <th>2021-12-29</th>\n",
       "      <td>16.4511</td>\n",
       "      <td>16.4511</td>\n",
       "      <td>16.0101</td>\n",
       "      <td>16.0580</td>\n",
       "      <td>-0.024464</td>\n",
       "      <td>1.017766</td>\n",
       "    </tr>\n",
       "    <tr>\n",
       "      <th>2021-12-30</th>\n",
       "      <td>16.0676</td>\n",
       "      <td>16.2498</td>\n",
       "      <td>16.0293</td>\n",
       "      <td>16.1251</td>\n",
       "      <td>0.004179</td>\n",
       "      <td>1.022018</td>\n",
       "    </tr>\n",
       "    <tr>\n",
       "      <th>2021-12-31</th>\n",
       "      <td>16.1635</td>\n",
       "      <td>16.2018</td>\n",
       "      <td>15.7225</td>\n",
       "      <td>15.7992</td>\n",
       "      <td>-0.020211</td>\n",
       "      <td>1.001363</td>\n",
       "    </tr>\n",
       "  </tbody>\n",
       "</table>\n",
       "<p>481 rows × 6 columns</p>\n",
       "</div>"
      ],
      "text/plain": [
       "               open     high      low    close    change       net\n",
       "date                                                              \n",
       "2020-01-02  15.5720  15.8526  15.4785  15.7777       NaN       NaN\n",
       "2020-01-03  15.8432  16.1892  15.8245  16.0677  0.018380  1.018380\n",
       "2020-01-06  15.9087  16.2173  15.8151  15.9648 -0.006404  1.011859\n",
       "2020-01-07  16.0209  16.1612  15.8526  16.0396  0.004685  1.016599\n",
       "2020-01-08  15.8993  15.9461  15.5533  15.5813 -0.028573  0.987552\n",
       "...             ...      ...      ...      ...       ...       ...\n",
       "2021-12-27  16.6141  16.6332  16.4511  16.5086 -0.005200  1.046325\n",
       "2021-12-28  16.5086  16.6141  16.3840  16.4607 -0.002902  1.043289\n",
       "2021-12-29  16.4511  16.4511  16.0101  16.0580 -0.024464  1.017766\n",
       "2021-12-30  16.0676  16.2498  16.0293  16.1251  0.004179  1.022018\n",
       "2021-12-31  16.1635  16.2018  15.7225  15.7992 -0.020211  1.001363\n",
       "\n",
       "[481 rows x 6 columns]"
      ]
     },
     "execution_count": 137,
     "metadata": {},
     "output_type": "execute_result"
    }
   ],
   "source": [
    "price['net'] = (price['change'] + 1).cumprod()\n",
    "price"
   ]
  },
  {
   "cell_type": "code",
   "execution_count": 143,
   "metadata": {},
   "outputs": [],
   "source": [
    "import matplotlib.pyplot as plt  #用 import 导入 pyplot 库，并设置一个别名 plt：\n",
    "plt.rcParams['font.sans-serif']=['SimHei']#中文乱码\n",
    "plt.rcParams['axes.unicode_minus']=False#中文乱码\n",
    "plt.style.use('default')\n",
    "plt.rcParams['figure.facecolor'] = 'white'\n",
    "plt.rcParams['font.sans-serif']=['SimHei']\n",
    "plt.rcParams['axes.unicode_minus']=False"
   ]
  },
  {
   "cell_type": "code",
   "execution_count": 144,
   "metadata": {},
   "outputs": [
    {
     "data": {
      "text/plain": [
       "Text(0, 0.5, '净值')"
      ]
     },
     "execution_count": 144,
     "metadata": {},
     "output_type": "execute_result"
    },
    {
     "data": {
      "image/png": "[encoded data removed]",
      "text/plain": [
       "<Figure size 1500x1000 with 1 Axes>"
      ]
     },
     "metadata": {},
     "output_type": "display_data"
    }
   ],
   "source": [
    "price.net.plot(kind='line',figsize =(15,10),fontsize = 15,title='000001.SZ')\n",
    "plt.xlabel(\"时间\",fontsize = 15)\n",
    "plt.ylabel(\"净值\",fontsize = 15)"
   ]
  },
  {
   "cell_type": "code",
   "execution_count": 141,
   "metadata": {},
   "outputs": [],
   "source": []
  },
  {
   "cell_type": "code",
   "execution_count": null,
   "metadata": {},
   "outputs": [],
   "source": []
  }
 ],
 "metadata": {
  "kernelspec": {
   "display_name": "Python 3",
   "language": "python",
   "name": "python3"
  },
  "language_info": {
   "codemirror_mode": {
    "name": "ipython",
    "version": 3
   },
   "file_extension": ".py",
   "mimetype": "text/x-python",
   "name": "python",
   "nbconvert_exporter": "python",
   "pygments_lexer": "ipython3",
   "version": "3.9.15"
  },
  "vscode": {
   "interpreter": {
    "hash": "a188c9036d7eeaebc6f77f9e77fe92b7de16926a7dd61bf5b5e0f4aa344b7ab8"
   }
  }
 },
 "nbformat": 4,
 "nbformat_minor": 1
}
