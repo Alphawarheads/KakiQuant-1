{
 "cells": [
  {
   "cell_type": "code",
   "execution_count": 2,
   "metadata": {},
   "outputs": [
    {
     "name": "stdout",
     "output_type": "stream",
     "text": [
      "2021-01-01 00:00:00\n",
      "2021-12-31 00:00:00\n"
     ]
    }
   ],
   "source": [
    "import os\n",
    "import shutil\n",
    "import pandas as pd\n",
    "import mplfinance as mpf\n",
    "from kaki.kkdatac.crypto import get_price\n",
    "df = get_price(instId='ETH-USDT-SWAP', bar='1D', start_date='2021-01-01', end_date='2021-12-31')\n"
   ]
  },
  {
   "cell_type": "code",
   "execution_count": 4,
   "metadata": {},
   "outputs": [],
   "source": [
    "df.set_index('timestamp', inplace=True)"
   ]
  },
  {
   "cell_type": "code",
   "execution_count": 6,
   "metadata": {},
   "outputs": [],
   "source": [
    "# If existing, remove it by force\n",
    "if os.path.exists('./output'):\n",
    "    shutil.rmtree('./output')\n",
    "os.mkdir('./output')\n",
    "# Plotting the K-line chart\n",
    "i = 0\n",
    "while i < len(df):\n",
    "    savefig_options = {\n",
    "    'fname': f'./output/high_res_plot_{i}.png',  # Filename to save the plot\n",
    "    'dpi': 300,  # Increase DPI for higher resolution\n",
    "    'pad_inches': 0.25  # Optional: Padding around the figure\n",
    "}\n",
    "    mpf.plot(df[i:i+150], type='candle', style='charles',\n",
    "            title=f'Crypto K-Line Chart:{df[i:i+150].iloc[0].instId}-{df[i:i+150].iloc[0].bar}',\n",
    "            ylabel='Price', volume = True, mav=(7,12),savefig=savefig_options)\n",
    "    i += 150"
   ]
  },
  {
   "cell_type": "code",
   "execution_count": null,
   "metadata": {},
   "outputs": [],
   "source": []
  }
 ],
 "metadata": {
  "kernelspec": {
   "display_name": "quant",
   "language": "python",
   "name": "python3"
  },
  "language_info": {
   "codemirror_mode": {
    "name": "ipython",
    "version": 3
   },
   "file_extension": ".py",
   "mimetype": "text/x-python",
   "name": "python",
   "nbconvert_exporter": "python",
   "pygments_lexer": "ipython3",
   "version": "3.10.12"
  }
 },
 "nbformat": 4,
 "nbformat_minor": 2
}
