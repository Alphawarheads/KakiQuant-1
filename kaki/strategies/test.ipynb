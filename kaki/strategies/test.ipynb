{
 "cells": [
  {
   "cell_type": "code",
   "execution_count": 122,
   "metadata": {},
   "outputs": [
    {
     "name": "stderr",
     "output_type": "stream",
     "text": [
      "100%|██████████| 493/493 [00:19<00:00, 24.97it/s]\n"
     ]
    }
   ],
   "source": [
    "import pandas as pd\n",
    "import numpy as np\n",
    "import pickle\n",
    "from tqdm import *\n",
    "from scipy.stats import spearmanr\n",
    "import statsmodels.api as sm\n",
    "from scipy import stats\n",
    "\n",
    "# 关闭通知\n",
    "import warnings\n",
    "warnings.filterwarnings(\"ignore\")\n",
    "import logging\n",
    "logging.getLogger().setLevel(logging.ERROR)\n",
    "\n",
    "import matplotlib.pyplot as plt\n",
    "from matplotlib.dates import date2num\n",
    "from mpl_finance import candlestick_ochl\n",
    "\n",
    "from kaki.kkdatac.crypto import get_pairs, get_price\n",
    "\n",
    "# Crypto pairs list\n",
    "pairs = get_pairs(\"kline-1D\")\n",
    "\n",
    "data = get_price(pairs, bar=\"1D\",fields=['open','high','low','close','instId'])"
   ]
  },
  {
   "cell_type": "code",
   "execution_count": 124,
   "metadata": {},
   "outputs": [],
   "source": [
    "# Date is ISO date\n",
    "data['date'] = data['timestamp'].dt.date"
   ]
  },
  {
   "cell_type": "code",
   "execution_count": 125,
   "metadata": {},
   "outputs": [],
   "source": [
    "data.drop(columns=['timestamp'],inplace=True)"
   ]
  },
  {
   "cell_type": "code",
   "execution_count": 126,
   "metadata": {},
   "outputs": [],
   "source": [
    "\n",
    "data = data.set_index([\"instId\",\"date\"])"
   ]
  },
  {
   "cell_type": "code",
   "execution_count": 128,
   "metadata": {},
   "outputs": [],
   "source": [
    "from datetime import date\n",
    "\n",
    "end = date.fromisoformat('2022-02-14')\n",
    "start = end - pd.Timedelta(days=60)\n"
   ]
  },
  {
   "cell_type": "code",
   "execution_count": 129,
   "metadata": {},
   "outputs": [
    {
     "data": {
      "text/plain": [
       "(datetime.date(2021, 12, 16), datetime.date(2022, 2, 14))"
      ]
     },
     "execution_count": 129,
     "metadata": {},
     "output_type": "execute_result"
    }
   ],
   "source": [
    "start, end"
   ]
  },
  {
   "cell_type": "code",
   "execution_count": 130,
   "metadata": {},
   "outputs": [],
   "source": [
    "stock_a = data.loc['BTC-USDT-SWAP'].loc[start:end].copy()\n",
    "stock_a.index = date2num(stock_a.index)\n",
    "stock_a.index.names = ['date']\n",
    "quotes = stock_a[['open','close','high','low']].reset_index().set_index(['date','open','close','high','low']).index.tolist()\n"
   ]
  },
  {
   "cell_type": "code",
   "execution_count": 131,
   "metadata": {},
   "outputs": [
    {
     "data": {
      "text/plain": [
       "[(18977.0, 48593.1, 46500.0, 48723.7, 45407.1),\n",
       " (18978.0, 46505.7, 46857.9, 47449.9, 45487.7),\n",
       " (18979.0, 46857.8, 47249.0, 48385.8, 46321.0),\n",
       " (18980.0, 47247.6, 45983.6, 47569.9, 45561.0),\n",
       " (18981.0, 45983.5, 48419.0, 49300.0, 45876.4),\n",
       " (18982.0, 48419.0, 48893.6, 49600.0, 48335.4),\n",
       " (18983.0, 48893.6, 48803.5, 49269.3, 48035.7),\n",
       " (18984.0, 48804.6, 50955.7, 51500.0, 48676.2),\n",
       " (18985.0, 50955.7, 50671.4, 51845.6, 50501.1),\n",
       " (18986.0, 50675.8, 50043.8, 51166.4, 49382.2),\n",
       " (18987.0, 50048.3, 51437.1, 51680.0, 49914.4),\n",
       " (18988.0, 51439.6, 48955.8, 52099.4, 48200.0),\n",
       " (18989.0, 48942.4, 47947.4, 48980.0, 46567.8),\n",
       " (18990.0, 47947.4, 47182.3, 48040.5, 45888.0),\n",
       " (18991.0, 47182.3, 48021.8, 48578.0, 46714.0),\n",
       " (18992.0, 48021.8, 47211.7, 48130.1, 45656.1),\n",
       " (18993.0, 47211.7, 47343.1, 47947.0, 46777.0),\n",
       " (18994.0, 47344.2, 46697.3, 48003.6, 46568.9),\n",
       " (18995.0, 46697.3, 46932.8, 47521.0, 45681.0),\n",
       " (18996.0, 46932.9, 46621.3, 47088.9, 45510.0),\n",
       " (18997.0, 46621.8, 42944.7, 46673.8, 42406.4),\n",
       " (18998.0, 42944.7, 41314.0, 43568.0, 40550.0),\n",
       " (18999.0, 41314.0, 41622.1, 42369.7, 40914.8),\n",
       " (19000.0, 41622.1, 41626.1, 42319.7, 40518.0),\n",
       " (19001.0, 41630.2, 40971.5, 42770.0, 39621.4),\n",
       " (19002.0, 40971.6, 41734.3, 42700.0, 40550.0),\n",
       " (19003.0, 41734.3, 43543.0, 44077.4, 41678.3),\n",
       " (19004.0, 43554.2, 43201.6, 44399.0, 42888.0),\n",
       " (19005.0, 43201.6, 43109.9, 43481.0, 41750.0),\n",
       " (19006.0, 43102.6, 43412.6, 43455.0, 42560.0),\n",
       " (19007.0, 43412.4, 43223.9, 43814.1, 42593.5),\n",
       " (19008.0, 43227.0, 42481.2, 43478.9, 42313.5),\n",
       " (19009.0, 42481.2, 41592.9, 42538.8, 41263.4),\n",
       " (19010.0, 41592.9, 41996.7, 42690.0, 41134.0),\n",
       " (19011.0, 41995.2, 43291.6, 43447.0, 41556.0),\n",
       " (19012.0, 43293.7, 38855.5, 43502.6, 37673.9),\n",
       " (19013.0, 38858.2, 34848.5, 39060.1, 33985.0),\n",
       " (19014.0, 34844.3, 35295.5, 36180.0, 34220.3),\n",
       " (19015.0, 35295.5, 34242.2, 36516.9, 32914.7),\n",
       " (19016.0, 34245.8, 36548.7, 37573.6, 33788.0),\n",
       " (19017.0, 36549.6, 37998.0, 38499.0, 36422.2),\n",
       " (19018.0, 37995.0, 36652.3, 38896.5, 35512.0),\n",
       " (19019.0, 36652.4, 37185.7, 37495.0, 35539.8),\n",
       " (19020.0, 37187.6, 37566.5, 38198.4, 36762.0),\n",
       " (19021.0, 37564.3, 37972.7, 38755.0, 37315.2),\n",
       " (19022.0, 37972.9, 37718.1, 38251.9, 36636.1),\n",
       " (19023.0, 37720.8, 38618.6, 39200.0, 37674.7),\n",
       " (19024.0, 38618.5, 37426.4, 39288.0, 37362.1),\n",
       " (19025.0, 37422.6, 36906.6, 37662.7, 36247.5),\n",
       " (19026.0, 36904.7, 39493.4, 39888.0, 36272.1),\n",
       " (19027.0, 39493.4, 41769.3, 41936.8, 39451.9),\n",
       " (19028.0, 41769.0, 41518.9, 42264.9, 40935.1),\n",
       " (19029.0, 41518.9, 43829.3, 43895.8, 41422.8),\n",
       " (19030.0, 43829.3, 43442.2, 45586.0, 42488.0),\n",
       " (19031.0, 43442.2, 43882.3, 44451.5, 42665.1),\n",
       " (19032.0, 43882.3, 44951.6, 45700.0, 43180.0),\n",
       " (19033.0, 44951.5, 43667.7, 45860.0, 42588.0),\n",
       " (19034.0, 43667.6, 42136.2, 43768.1, 41735.5),\n",
       " (19035.0, 42136.3, 42561.4, 42999.0, 41666.5),\n",
       " (19036.0, 42561.5, 42583.3, 42854.7, 41541.9),\n",
       " (19037.0, 42583.5, 44200.6, 44510.0, 41802.9)]"
      ]
     },
     "execution_count": 131,
     "metadata": {},
     "output_type": "execute_result"
    }
   ],
   "source": [
    "quotes"
   ]
  },
  {
   "cell_type": "code",
   "execution_count": 132,
   "metadata": {},
   "outputs": [
    {
     "data": {
      "text/plain": [
       "([<matplotlib.lines.Line2D at 0x325167bb0>,\n",
       "  <matplotlib.lines.Line2D at 0x3266bcf40>,\n",
       "  <matplotlib.lines.Line2D at 0x3266bd540>,\n",
       "  <matplotlib.lines.Line2D at 0x3266bd9f0>,\n",
       "  <matplotlib.lines.Line2D at 0x3266bda80>,\n",
       "  <matplotlib.lines.Line2D at 0x325d30b80>,\n",
       "  <matplotlib.lines.Line2D at 0x3266be710>,\n",
       "  <matplotlib.lines.Line2D at 0x3266bf040>,\n",
       "  <matplotlib.lines.Line2D at 0x3266bf130>,\n",
       "  <matplotlib.lines.Line2D at 0x3266beef0>,\n",
       "  <matplotlib.lines.Line2D at 0x3266bfd30>,\n",
       "  <matplotlib.lines.Line2D at 0x3266bca00>,\n",
       "  <matplotlib.lines.Line2D at 0x3266bf880>,\n",
       "  <matplotlib.lines.Line2D at 0x3266bf190>,\n",
       "  <matplotlib.lines.Line2D at 0x325988580>,\n",
       "  <matplotlib.lines.Line2D at 0x325988b80>,\n",
       "  <matplotlib.lines.Line2D at 0x3259890f0>,\n",
       "  <matplotlib.lines.Line2D at 0x3259896c0>,\n",
       "  <matplotlib.lines.Line2D at 0x325989bd0>,\n",
       "  <matplotlib.lines.Line2D at 0x32598a050>,\n",
       "  <matplotlib.lines.Line2D at 0x32598a650>,\n",
       "  <matplotlib.lines.Line2D at 0x32598abf0>,\n",
       "  <matplotlib.lines.Line2D at 0x32598b0a0>,\n",
       "  <matplotlib.lines.Line2D at 0x32598b760>,\n",
       "  <matplotlib.lines.Line2D at 0x32598bbe0>,\n",
       "  <matplotlib.lines.Line2D at 0x325989030>,\n",
       "  <matplotlib.lines.Line2D at 0x32598b5b0>,\n",
       "  <matplotlib.lines.Line2D at 0x3259883d0>,\n",
       "  <matplotlib.lines.Line2D at 0x326a70640>,\n",
       "  <matplotlib.lines.Line2D at 0x326a70a90>,\n",
       "  <matplotlib.lines.Line2D at 0x326a711b0>,\n",
       "  <matplotlib.lines.Line2D at 0x326a716f0>,\n",
       "  <matplotlib.lines.Line2D at 0x326a71c90>,\n",
       "  <matplotlib.lines.Line2D at 0x326a718d0>,\n",
       "  <matplotlib.lines.Line2D at 0x326a72500>,\n",
       "  <matplotlib.lines.Line2D at 0x326a729b0>,\n",
       "  <matplotlib.lines.Line2D at 0x326a730d0>,\n",
       "  <matplotlib.lines.Line2D at 0x326a73670>,\n",
       "  <matplotlib.lines.Line2D at 0x326a72f20>,\n",
       "  <matplotlib.lines.Line2D at 0x326a70580>,\n",
       "  <matplotlib.lines.Line2D at 0x326a726e0>,\n",
       "  <matplotlib.lines.Line2D at 0x326a70ac0>,\n",
       "  <matplotlib.lines.Line2D at 0x32706c3a0>,\n",
       "  <matplotlib.lines.Line2D at 0x32706c880>,\n",
       "  <matplotlib.lines.Line2D at 0x32706cd90>,\n",
       "  <matplotlib.lines.Line2D at 0x32706d240>,\n",
       "  <matplotlib.lines.Line2D at 0x32706d750>,\n",
       "  <matplotlib.lines.Line2D at 0x32706dc90>,\n",
       "  <matplotlib.lines.Line2D at 0x32706d600>,\n",
       "  <matplotlib.lines.Line2D at 0x32706fbe0>,\n",
       "  <matplotlib.lines.Line2D at 0x32706f760>,\n",
       "  <matplotlib.lines.Line2D at 0x32706f1c0>,\n",
       "  <matplotlib.lines.Line2D at 0x32706ed10>,\n",
       "  <matplotlib.lines.Line2D at 0x3251bf940>,\n",
       "  <matplotlib.lines.Line2D at 0x3251bfdc0>,\n",
       "  <matplotlib.lines.Line2D at 0x3251bf550>,\n",
       "  <matplotlib.lines.Line2D at 0x3251bf670>,\n",
       "  <matplotlib.lines.Line2D at 0x3251d9cc0>,\n",
       "  <matplotlib.lines.Line2D at 0x3251daef0>,\n",
       "  <matplotlib.lines.Line2D at 0x3251dada0>,\n",
       "  <matplotlib.lines.Line2D at 0x3251dad40>],\n",
       " [<matplotlib.patches.Rectangle at 0x3266bc940>,\n",
       "  <matplotlib.patches.Rectangle at 0x3266bd000>,\n",
       "  <matplotlib.patches.Rectangle at 0x3266bd570>,\n",
       "  <matplotlib.patches.Rectangle at 0x3266bdb40>,\n",
       "  <matplotlib.patches.Rectangle at 0x3266bdff0>,\n",
       "  <matplotlib.patches.Rectangle at 0x325d31f30>,\n",
       "  <matplotlib.patches.Rectangle at 0x3266be740>,\n",
       "  <matplotlib.patches.Rectangle at 0x3266bec20>,\n",
       "  <matplotlib.patches.Rectangle at 0x3266be1a0>,\n",
       "  <matplotlib.patches.Rectangle at 0x3266bf5e0>,\n",
       "  <matplotlib.patches.Rectangle at 0x3266bfdc0>,\n",
       "  <matplotlib.patches.Rectangle at 0x3266bca60>,\n",
       "  <matplotlib.patches.Rectangle at 0x3266bfaf0>,\n",
       "  <matplotlib.patches.Rectangle at 0x325988040>,\n",
       "  <matplotlib.patches.Rectangle at 0x3259885b0>,\n",
       "  <matplotlib.patches.Rectangle at 0x3259887f0>,\n",
       "  <matplotlib.patches.Rectangle at 0x325989150>,\n",
       "  <matplotlib.patches.Rectangle at 0x325989780>,\n",
       "  <matplotlib.patches.Rectangle at 0x325989c00>,\n",
       "  <matplotlib.patches.Rectangle at 0x32598a1a0>,\n",
       "  <matplotlib.patches.Rectangle at 0x32598a6b0>,\n",
       "  <matplotlib.patches.Rectangle at 0x32598ab60>,\n",
       "  <matplotlib.patches.Rectangle at 0x32598b160>,\n",
       "  <matplotlib.patches.Rectangle at 0x32598b7c0>,\n",
       "  <matplotlib.patches.Rectangle at 0x32598bd30>,\n",
       "  <matplotlib.patches.Rectangle at 0x325988e50>,\n",
       "  <matplotlib.patches.Rectangle at 0x32598ac80>,\n",
       "  <matplotlib.patches.Rectangle at 0x32598b640>,\n",
       "  <matplotlib.patches.Rectangle at 0x326a70670>,\n",
       "  <matplotlib.patches.Rectangle at 0x326a70c40>,\n",
       "  <matplotlib.patches.Rectangle at 0x326a707c0>,\n",
       "  <matplotlib.patches.Rectangle at 0x326a71720>,\n",
       "  <matplotlib.patches.Rectangle at 0x326a71ab0>,\n",
       "  <matplotlib.patches.Rectangle at 0x326a72050>,\n",
       "  <matplotlib.patches.Rectangle at 0x326a72530>,\n",
       "  <matplotlib.patches.Rectangle at 0x326a723b0>,\n",
       "  <matplotlib.patches.Rectangle at 0x326a73100>,\n",
       "  <matplotlib.patches.Rectangle at 0x326a73160>,\n",
       "  <matplotlib.patches.Rectangle at 0x326a72f50>,\n",
       "  <matplotlib.patches.Rectangle at 0x326a702e0>,\n",
       "  <matplotlib.patches.Rectangle at 0x326a73520>,\n",
       "  <matplotlib.patches.Rectangle at 0x326a720b0>,\n",
       "  <matplotlib.patches.Rectangle at 0x32706c430>,\n",
       "  <matplotlib.patches.Rectangle at 0x32706c8e0>,\n",
       "  <matplotlib.patches.Rectangle at 0x32706cdc0>,\n",
       "  <matplotlib.patches.Rectangle at 0x32706d2a0>,\n",
       "  <matplotlib.patches.Rectangle at 0x32706d6c0>,\n",
       "  <matplotlib.patches.Rectangle at 0x32706dd50>,\n",
       "  <matplotlib.patches.Rectangle at 0x32706ffd0>,\n",
       "  <matplotlib.patches.Rectangle at 0x32706fb80>,\n",
       "  <matplotlib.patches.Rectangle at 0x32706f700>,\n",
       "  <matplotlib.patches.Rectangle at 0x32706f160>,\n",
       "  <matplotlib.patches.Rectangle at 0x32706ece0>,\n",
       "  <matplotlib.patches.Rectangle at 0x3251bf520>,\n",
       "  <matplotlib.patches.Rectangle at 0x3251bf0d0>,\n",
       "  <matplotlib.patches.Rectangle at 0x3251bfac0>,\n",
       "  <matplotlib.patches.Rectangle at 0x3251bf4f0>,\n",
       "  <matplotlib.patches.Rectangle at 0x3251db880>,\n",
       "  <matplotlib.patches.Rectangle at 0x3251db730>,\n",
       "  <matplotlib.patches.Rectangle at 0x3251da3e0>,\n",
       "  <matplotlib.patches.Rectangle at 0x3251db460>])"
      ]
     },
     "execution_count": 132,
     "metadata": {},
     "output_type": "execute_result"
    },
    {
     "data": {
      "image/png": "[encoded data removed]",
      "text/plain": [
       "<Figure size 1000x600 with 1 Axes>"
      ]
     },
     "metadata": {},
     "output_type": "display_data"
    }
   ],
   "source": [
    "fig,ax = plt.subplots(figsize = (10,6),facecolor = 'white')\n",
    "ax.xaxis_date()\n",
    "\n",
    "plt.yticks()\n",
    "plt.title('k-line')\n",
    "plt.ylabel('price')\n",
    "\n",
    "candlestick_ochl(ax,quotes,colorup = 'r',width = 0.6,colordown = 'g')"
   ]
  },
  {
   "cell_type": "code",
   "execution_count": 145,
   "metadata": {},
   "outputs": [],
   "source": [
    "def get_previous_trading_date(end_date: str, n=1):\n",
    "    end = date.fromisoformat(end_date)\n",
    "    start = end - pd.Timedelta(days=60)\n",
    "    return start, end\n",
    "def k_line(data, instId, end_date, length=60):\n",
    "    df = data.copy()\n",
    "    start, end = get_previous_trading_date(end_date, length)\n",
    "    logging.info(f\"start: {start}, end: {end}\")\n",
    "    stock_a = df.loc[instId].loc[start:end].copy()\n",
    "    stock_a.index = date2num(stock_a.index)\n",
    "    stock_a.index.names = ['date']\n",
    "    quotes = stock_a[['open','close','high','low']].reset_index().set_index(['date','open','close','high','low']).index.tolist()\n",
    "\n",
    "    fig,ax = plt.subplots(figsize = (10,6),facecolor = 'white')\n",
    "    ax.xaxis_date()\n",
    "\n",
    "    plt.yticks()\n",
    "    plt.title('k-line')\n",
    "    plt.ylabel('price')\n",
    "\n",
    "    candlestick_ochl(ax,quotes,colorup = 'r',width = 0.6,colordown = 'g')\n",
    "    plt.show()"
   ]
  },
  {
   "cell_type": "code",
   "execution_count": 146,
   "metadata": {},
   "outputs": [
    {
     "data": {
      "image/png": "[encoded data removed]",
      "text/plain": [
       "<Figure size 1000x600 with 1 Axes>"
      ]
     },
     "metadata": {},
     "output_type": "display_data"
    }
   ],
   "source": [
    "k_line(data,'ETH-USDT-SWAP',\"2024-03-01\")"
   ]
  },
  {
   "cell_type": "code",
   "execution_count": 147,
   "metadata": {},
   "outputs": [
    {
     "data": {
      "text/plain": [
       "0.897566924327648"
      ]
     },
     "execution_count": 147,
     "metadata": {},
     "output_type": "execute_result"
    }
   ],
   "source": [
    "stock_a = data.loc['ETH-USDT-SWAP']\n",
    "stock_b = data.loc['BTC-USDT-SWAP']\n",
    "T = stock_a.corrwith(stock_b).mean()\n",
    "T"
   ]
  },
  {
   "cell_type": "code",
   "execution_count": 148,
   "metadata": {},
   "outputs": [
    {
     "data": {
      "image/png": "[encoded data removed]",
      "text/plain": [
       "<Figure size 1000x600 with 1 Axes>"
      ]
     },
     "metadata": {},
     "output_type": "display_data"
    }
   ],
   "source": [
    "k_line(data,'BTC-USDT-SWAP',\"2024-03-01\")"
   ]
  },
  {
   "cell_type": "code",
   "execution_count": 152,
   "metadata": {},
   "outputs": [
    {
     "data": {
      "text/html": [
       "<div>\n",
       "<style scoped>\n",
       "    .dataframe tbody tr th:only-of-type {\n",
       "        vertical-align: middle;\n",
       "    }\n",
       "\n",
       "    .dataframe tbody tr th {\n",
       "        vertical-align: top;\n",
       "    }\n",
       "\n",
       "    .dataframe thead th {\n",
       "        text-align: right;\n",
       "    }\n",
       "</style>\n",
       "<table border=\"1\" class=\"dataframe\">\n",
       "  <thead>\n",
       "    <tr style=\"text-align: right;\">\n",
       "      <th></th>\n",
       "      <th></th>\n",
       "      <th>open</th>\n",
       "      <th>high</th>\n",
       "      <th>low</th>\n",
       "      <th>close</th>\n",
       "    </tr>\n",
       "    <tr>\n",
       "      <th>instId</th>\n",
       "      <th>date</th>\n",
       "      <th></th>\n",
       "      <th></th>\n",
       "      <th></th>\n",
       "      <th></th>\n",
       "    </tr>\n",
       "  </thead>\n",
       "  <tbody>\n",
       "    <tr>\n",
       "      <th rowspan=\"5\" valign=\"top\">1INCH-USDT</th>\n",
       "      <th>2020-12-24</th>\n",
       "      <td>2.0000</td>\n",
       "      <td>2.9620</td>\n",
       "      <td>1.5720</td>\n",
       "      <td>1.8850</td>\n",
       "    </tr>\n",
       "    <tr>\n",
       "      <th>2020-12-25</th>\n",
       "      <td>1.8820</td>\n",
       "      <td>2.5700</td>\n",
       "      <td>1.5730</td>\n",
       "      <td>1.6420</td>\n",
       "    </tr>\n",
       "    <tr>\n",
       "      <th>2020-12-26</th>\n",
       "      <td>1.6450</td>\n",
       "      <td>1.8000</td>\n",
       "      <td>1.1620</td>\n",
       "      <td>1.3570</td>\n",
       "    </tr>\n",
       "    <tr>\n",
       "      <th>2020-12-27</th>\n",
       "      <td>1.3570</td>\n",
       "      <td>1.4420</td>\n",
       "      <td>1.0420</td>\n",
       "      <td>1.1690</td>\n",
       "    </tr>\n",
       "    <tr>\n",
       "      <th>2020-12-28</th>\n",
       "      <td>1.1710</td>\n",
       "      <td>1.1710</td>\n",
       "      <td>0.7710</td>\n",
       "      <td>0.8000</td>\n",
       "    </tr>\n",
       "    <tr>\n",
       "      <th>...</th>\n",
       "      <th>...</th>\n",
       "      <td>...</td>\n",
       "      <td>...</td>\n",
       "      <td>...</td>\n",
       "      <td>...</td>\n",
       "    </tr>\n",
       "    <tr>\n",
       "      <th rowspan=\"5\" valign=\"top\">ZRX-USDT-SWAP</th>\n",
       "      <th>2024-03-06</th>\n",
       "      <td>0.4747</td>\n",
       "      <td>0.5751</td>\n",
       "      <td>0.4661</td>\n",
       "      <td>0.5126</td>\n",
       "    </tr>\n",
       "    <tr>\n",
       "      <th>2024-03-07</th>\n",
       "      <td>0.5124</td>\n",
       "      <td>0.5484</td>\n",
       "      <td>0.4889</td>\n",
       "      <td>0.5203</td>\n",
       "    </tr>\n",
       "    <tr>\n",
       "      <th>2024-03-08</th>\n",
       "      <td>0.5204</td>\n",
       "      <td>0.5809</td>\n",
       "      <td>0.5132</td>\n",
       "      <td>0.5666</td>\n",
       "    </tr>\n",
       "    <tr>\n",
       "      <th>2024-03-09</th>\n",
       "      <td>0.5666</td>\n",
       "      <td>0.8159</td>\n",
       "      <td>0.5633</td>\n",
       "      <td>0.7788</td>\n",
       "    </tr>\n",
       "    <tr>\n",
       "      <th>2024-03-10</th>\n",
       "      <td>0.7789</td>\n",
       "      <td>1.0867</td>\n",
       "      <td>0.7578</td>\n",
       "      <td>0.8629</td>\n",
       "    </tr>\n",
       "  </tbody>\n",
       "</table>\n",
       "<p>458314 rows × 4 columns</p>\n",
       "</div>"
      ],
      "text/plain": [
       "                            open    high     low   close\n",
       "instId        date                                      \n",
       "1INCH-USDT    2020-12-24  2.0000  2.9620  1.5720  1.8850\n",
       "              2020-12-25  1.8820  2.5700  1.5730  1.6420\n",
       "              2020-12-26  1.6450  1.8000  1.1620  1.3570\n",
       "              2020-12-27  1.3570  1.4420  1.0420  1.1690\n",
       "              2020-12-28  1.1710  1.1710  0.7710  0.8000\n",
       "...                          ...     ...     ...     ...\n",
       "ZRX-USDT-SWAP 2024-03-06  0.4747  0.5751  0.4661  0.5126\n",
       "              2024-03-07  0.5124  0.5484  0.4889  0.5203\n",
       "              2024-03-08  0.5204  0.5809  0.5132  0.5666\n",
       "              2024-03-09  0.5666  0.8159  0.5633  0.7788\n",
       "              2024-03-10  0.7789  1.0867  0.7578  0.8629\n",
       "\n",
       "[458314 rows x 4 columns]"
      ]
     },
     "execution_count": 152,
     "metadata": {},
     "output_type": "execute_result"
    }
   ],
   "source": [
    "data"
   ]
  },
  {
   "cell_type": "code",
   "execution_count": 151,
   "metadata": {},
   "outputs": [
    {
     "ename": "TypeError",
     "evalue": "'<' not supported between instances of 'datetime.date' and 'str'",
     "output_type": "error",
     "traceback": [
      "\u001b[0;31m---------------------------------------------------------------------------\u001b[0m",
      "\u001b[0;31mKeyError\u001b[0m                                  Traceback (most recent call last)",
      "File \u001b[0;32m~/miniconda3/lib/python3.10/site-packages/pandas/core/indexes/base.py:3805\u001b[0m, in \u001b[0;36mIndex.get_loc\u001b[0;34m(self, key)\u001b[0m\n\u001b[1;32m   3804\u001b[0m \u001b[38;5;28;01mtry\u001b[39;00m:\n\u001b[0;32m-> 3805\u001b[0m     \u001b[38;5;28;01mreturn\u001b[39;00m \u001b[38;5;28;43mself\u001b[39;49m\u001b[38;5;241;43m.\u001b[39;49m\u001b[43m_engine\u001b[49m\u001b[38;5;241;43m.\u001b[39;49m\u001b[43mget_loc\u001b[49m\u001b[43m(\u001b[49m\u001b[43mcasted_key\u001b[49m\u001b[43m)\u001b[49m\n\u001b[1;32m   3806\u001b[0m \u001b[38;5;28;01mexcept\u001b[39;00m \u001b[38;5;167;01mKeyError\u001b[39;00m \u001b[38;5;28;01mas\u001b[39;00m err:\n",
      "File \u001b[0;32mindex.pyx:167\u001b[0m, in \u001b[0;36mpandas._libs.index.IndexEngine.get_loc\u001b[0;34m()\u001b[0m\n",
      "File \u001b[0;32mindex.pyx:196\u001b[0m, in \u001b[0;36mpandas._libs.index.IndexEngine.get_loc\u001b[0;34m()\u001b[0m\n",
      "File \u001b[0;32mpandas/_libs/hashtable_class_helper.pxi:7081\u001b[0m, in \u001b[0;36mpandas._libs.hashtable.PyObjectHashTable.get_item\u001b[0;34m()\u001b[0m\n",
      "File \u001b[0;32mpandas/_libs/hashtable_class_helper.pxi:7089\u001b[0m, in \u001b[0;36mpandas._libs.hashtable.PyObjectHashTable.get_item\u001b[0;34m()\u001b[0m\n",
      "\u001b[0;31mKeyError\u001b[0m: '2022-07-01'",
      "\nThe above exception was the direct cause of the following exception:\n",
      "\u001b[0;31mKeyError\u001b[0m                                  Traceback (most recent call last)",
      "File \u001b[0;32m~/miniconda3/lib/python3.10/site-packages/pandas/core/indexes/base.py:6798\u001b[0m, in \u001b[0;36mIndex.get_slice_bound\u001b[0;34m(self, label, side)\u001b[0m\n\u001b[1;32m   6797\u001b[0m \u001b[38;5;28;01mtry\u001b[39;00m:\n\u001b[0;32m-> 6798\u001b[0m     slc \u001b[38;5;241m=\u001b[39m \u001b[38;5;28;43mself\u001b[39;49m\u001b[38;5;241;43m.\u001b[39;49m\u001b[43mget_loc\u001b[49m\u001b[43m(\u001b[49m\u001b[43mlabel\u001b[49m\u001b[43m)\u001b[49m\n\u001b[1;32m   6799\u001b[0m \u001b[38;5;28;01mexcept\u001b[39;00m \u001b[38;5;167;01mKeyError\u001b[39;00m \u001b[38;5;28;01mas\u001b[39;00m err:\n",
      "File \u001b[0;32m~/miniconda3/lib/python3.10/site-packages/pandas/core/indexes/base.py:3812\u001b[0m, in \u001b[0;36mIndex.get_loc\u001b[0;34m(self, key)\u001b[0m\n\u001b[1;32m   3811\u001b[0m         \u001b[38;5;28;01mraise\u001b[39;00m InvalidIndexError(key)\n\u001b[0;32m-> 3812\u001b[0m     \u001b[38;5;28;01mraise\u001b[39;00m \u001b[38;5;167;01mKeyError\u001b[39;00m(key) \u001b[38;5;28;01mfrom\u001b[39;00m \u001b[38;5;21;01merr\u001b[39;00m\n\u001b[1;32m   3813\u001b[0m \u001b[38;5;28;01mexcept\u001b[39;00m \u001b[38;5;167;01mTypeError\u001b[39;00m:\n\u001b[1;32m   3814\u001b[0m     \u001b[38;5;66;03m# If we have a listlike key, _check_indexing_error will raise\u001b[39;00m\n\u001b[1;32m   3815\u001b[0m     \u001b[38;5;66;03m#  InvalidIndexError. Otherwise we fall through and re-raise\u001b[39;00m\n\u001b[1;32m   3816\u001b[0m     \u001b[38;5;66;03m#  the TypeError.\u001b[39;00m\n",
      "\u001b[0;31mKeyError\u001b[0m: '2022-07-01'",
      "\nDuring handling of the above exception, another exception occurred:\n",
      "\u001b[0;31mTypeError\u001b[0m                                 Traceback (most recent call last)",
      "Cell \u001b[0;32mIn[151], line 5\u001b[0m\n\u001b[1;32m      3\u001b[0m end \u001b[38;5;241m=\u001b[39m \u001b[38;5;124m'\u001b[39m\u001b[38;5;124m2022-07-01\u001b[39m\u001b[38;5;124m'\u001b[39m\n\u001b[1;32m      4\u001b[0m start \u001b[38;5;241m=\u001b[39m get_previous_trading_date(end,\u001b[38;5;241m59\u001b[39m)\n\u001b[0;32m----> 5\u001b[0m stock_a \u001b[38;5;241m=\u001b[39m \u001b[43mdata\u001b[49m\u001b[38;5;241;43m.\u001b[39;49m\u001b[43mloc\u001b[49m\u001b[43m[\u001b[49m\u001b[43mstock\u001b[49m\u001b[43m]\u001b[49m\u001b[38;5;241;43m.\u001b[39;49m\u001b[43mloc\u001b[49m\u001b[43m[\u001b[49m\u001b[43mstart\u001b[49m\u001b[43m:\u001b[49m\u001b[43mend\u001b[49m\u001b[43m]\u001b[49m\u001b[38;5;241m.\u001b[39mcopy()\n\u001b[1;32m      7\u001b[0m stocklist \u001b[38;5;241m=\u001b[39m \u001b[38;5;28msorted\u001b[39m(\u001b[38;5;28mset\u001b[39m(data\u001b[38;5;241m.\u001b[39mindex\u001b[38;5;241m.\u001b[39mget_level_values(\u001b[38;5;241m0\u001b[39m)))\n\u001b[1;32m      8\u001b[0m datelist \u001b[38;5;241m=\u001b[39m \u001b[38;5;28msorted\u001b[39m(\u001b[38;5;28mset\u001b[39m(data\u001b[38;5;241m.\u001b[39mindex\u001b[38;5;241m.\u001b[39mget_level_values(\u001b[38;5;241m1\u001b[39m)))\n",
      "File \u001b[0;32m~/miniconda3/lib/python3.10/site-packages/pandas/core/indexing.py:1191\u001b[0m, in \u001b[0;36m_LocationIndexer.__getitem__\u001b[0;34m(self, key)\u001b[0m\n\u001b[1;32m   1189\u001b[0m maybe_callable \u001b[38;5;241m=\u001b[39m com\u001b[38;5;241m.\u001b[39mapply_if_callable(key, \u001b[38;5;28mself\u001b[39m\u001b[38;5;241m.\u001b[39mobj)\n\u001b[1;32m   1190\u001b[0m maybe_callable \u001b[38;5;241m=\u001b[39m \u001b[38;5;28mself\u001b[39m\u001b[38;5;241m.\u001b[39m_check_deprecated_callable_usage(key, maybe_callable)\n\u001b[0;32m-> 1191\u001b[0m \u001b[38;5;28;01mreturn\u001b[39;00m \u001b[38;5;28;43mself\u001b[39;49m\u001b[38;5;241;43m.\u001b[39;49m\u001b[43m_getitem_axis\u001b[49m\u001b[43m(\u001b[49m\u001b[43mmaybe_callable\u001b[49m\u001b[43m,\u001b[49m\u001b[43m \u001b[49m\u001b[43maxis\u001b[49m\u001b[38;5;241;43m=\u001b[39;49m\u001b[43maxis\u001b[49m\u001b[43m)\u001b[49m\n",
      "File \u001b[0;32m~/miniconda3/lib/python3.10/site-packages/pandas/core/indexing.py:1411\u001b[0m, in \u001b[0;36m_LocIndexer._getitem_axis\u001b[0;34m(self, key, axis)\u001b[0m\n\u001b[1;32m   1409\u001b[0m \u001b[38;5;28;01mif\u001b[39;00m \u001b[38;5;28misinstance\u001b[39m(key, \u001b[38;5;28mslice\u001b[39m):\n\u001b[1;32m   1410\u001b[0m     \u001b[38;5;28mself\u001b[39m\u001b[38;5;241m.\u001b[39m_validate_key(key, axis)\n\u001b[0;32m-> 1411\u001b[0m     \u001b[38;5;28;01mreturn\u001b[39;00m \u001b[38;5;28;43mself\u001b[39;49m\u001b[38;5;241;43m.\u001b[39;49m\u001b[43m_get_slice_axis\u001b[49m\u001b[43m(\u001b[49m\u001b[43mkey\u001b[49m\u001b[43m,\u001b[49m\u001b[43m \u001b[49m\u001b[43maxis\u001b[49m\u001b[38;5;241;43m=\u001b[39;49m\u001b[43maxis\u001b[49m\u001b[43m)\u001b[49m\n\u001b[1;32m   1412\u001b[0m \u001b[38;5;28;01melif\u001b[39;00m com\u001b[38;5;241m.\u001b[39mis_bool_indexer(key):\n\u001b[1;32m   1413\u001b[0m     \u001b[38;5;28;01mreturn\u001b[39;00m \u001b[38;5;28mself\u001b[39m\u001b[38;5;241m.\u001b[39m_getbool_axis(key, axis\u001b[38;5;241m=\u001b[39maxis)\n",
      "File \u001b[0;32m~/miniconda3/lib/python3.10/site-packages/pandas/core/indexing.py:1443\u001b[0m, in \u001b[0;36m_LocIndexer._get_slice_axis\u001b[0;34m(self, slice_obj, axis)\u001b[0m\n\u001b[1;32m   1440\u001b[0m     \u001b[38;5;28;01mreturn\u001b[39;00m obj\u001b[38;5;241m.\u001b[39mcopy(deep\u001b[38;5;241m=\u001b[39m\u001b[38;5;28;01mFalse\u001b[39;00m)\n\u001b[1;32m   1442\u001b[0m labels \u001b[38;5;241m=\u001b[39m obj\u001b[38;5;241m.\u001b[39m_get_axis(axis)\n\u001b[0;32m-> 1443\u001b[0m indexer \u001b[38;5;241m=\u001b[39m \u001b[43mlabels\u001b[49m\u001b[38;5;241;43m.\u001b[39;49m\u001b[43mslice_indexer\u001b[49m\u001b[43m(\u001b[49m\u001b[43mslice_obj\u001b[49m\u001b[38;5;241;43m.\u001b[39;49m\u001b[43mstart\u001b[49m\u001b[43m,\u001b[49m\u001b[43m \u001b[49m\u001b[43mslice_obj\u001b[49m\u001b[38;5;241;43m.\u001b[39;49m\u001b[43mstop\u001b[49m\u001b[43m,\u001b[49m\u001b[43m \u001b[49m\u001b[43mslice_obj\u001b[49m\u001b[38;5;241;43m.\u001b[39;49m\u001b[43mstep\u001b[49m\u001b[43m)\u001b[49m\n\u001b[1;32m   1445\u001b[0m \u001b[38;5;28;01mif\u001b[39;00m \u001b[38;5;28misinstance\u001b[39m(indexer, \u001b[38;5;28mslice\u001b[39m):\n\u001b[1;32m   1446\u001b[0m     \u001b[38;5;28;01mreturn\u001b[39;00m \u001b[38;5;28mself\u001b[39m\u001b[38;5;241m.\u001b[39mobj\u001b[38;5;241m.\u001b[39m_slice(indexer, axis\u001b[38;5;241m=\u001b[39maxis)\n",
      "File \u001b[0;32m~/miniconda3/lib/python3.10/site-packages/pandas/core/indexes/base.py:6662\u001b[0m, in \u001b[0;36mIndex.slice_indexer\u001b[0;34m(self, start, end, step)\u001b[0m\n\u001b[1;32m   6618\u001b[0m \u001b[38;5;28;01mdef\u001b[39;00m \u001b[38;5;21mslice_indexer\u001b[39m(\n\u001b[1;32m   6619\u001b[0m     \u001b[38;5;28mself\u001b[39m,\n\u001b[1;32m   6620\u001b[0m     start: Hashable \u001b[38;5;241m|\u001b[39m \u001b[38;5;28;01mNone\u001b[39;00m \u001b[38;5;241m=\u001b[39m \u001b[38;5;28;01mNone\u001b[39;00m,\n\u001b[1;32m   6621\u001b[0m     end: Hashable \u001b[38;5;241m|\u001b[39m \u001b[38;5;28;01mNone\u001b[39;00m \u001b[38;5;241m=\u001b[39m \u001b[38;5;28;01mNone\u001b[39;00m,\n\u001b[1;32m   6622\u001b[0m     step: \u001b[38;5;28mint\u001b[39m \u001b[38;5;241m|\u001b[39m \u001b[38;5;28;01mNone\u001b[39;00m \u001b[38;5;241m=\u001b[39m \u001b[38;5;28;01mNone\u001b[39;00m,\n\u001b[1;32m   6623\u001b[0m ) \u001b[38;5;241m-\u001b[39m\u001b[38;5;241m>\u001b[39m \u001b[38;5;28mslice\u001b[39m:\n\u001b[1;32m   6624\u001b[0m \u001b[38;5;250m    \u001b[39m\u001b[38;5;124;03m\"\"\"\u001b[39;00m\n\u001b[1;32m   6625\u001b[0m \u001b[38;5;124;03m    Compute the slice indexer for input labels and step.\u001b[39;00m\n\u001b[1;32m   6626\u001b[0m \n\u001b[0;32m   (...)\u001b[0m\n\u001b[1;32m   6660\u001b[0m \u001b[38;5;124;03m    slice(1, 3, None)\u001b[39;00m\n\u001b[1;32m   6661\u001b[0m \u001b[38;5;124;03m    \"\"\"\u001b[39;00m\n\u001b[0;32m-> 6662\u001b[0m     start_slice, end_slice \u001b[38;5;241m=\u001b[39m \u001b[38;5;28;43mself\u001b[39;49m\u001b[38;5;241;43m.\u001b[39;49m\u001b[43mslice_locs\u001b[49m\u001b[43m(\u001b[49m\u001b[43mstart\u001b[49m\u001b[43m,\u001b[49m\u001b[43m \u001b[49m\u001b[43mend\u001b[49m\u001b[43m,\u001b[49m\u001b[43m \u001b[49m\u001b[43mstep\u001b[49m\u001b[38;5;241;43m=\u001b[39;49m\u001b[43mstep\u001b[49m\u001b[43m)\u001b[49m\n\u001b[1;32m   6664\u001b[0m     \u001b[38;5;66;03m# return a slice\u001b[39;00m\n\u001b[1;32m   6665\u001b[0m     \u001b[38;5;28;01mif\u001b[39;00m \u001b[38;5;129;01mnot\u001b[39;00m is_scalar(start_slice):\n",
      "File \u001b[0;32m~/miniconda3/lib/python3.10/site-packages/pandas/core/indexes/base.py:6885\u001b[0m, in \u001b[0;36mIndex.slice_locs\u001b[0;34m(self, start, end, step)\u001b[0m\n\u001b[1;32m   6883\u001b[0m end_slice \u001b[38;5;241m=\u001b[39m \u001b[38;5;28;01mNone\u001b[39;00m\n\u001b[1;32m   6884\u001b[0m \u001b[38;5;28;01mif\u001b[39;00m end \u001b[38;5;129;01mis\u001b[39;00m \u001b[38;5;129;01mnot\u001b[39;00m \u001b[38;5;28;01mNone\u001b[39;00m:\n\u001b[0;32m-> 6885\u001b[0m     end_slice \u001b[38;5;241m=\u001b[39m \u001b[38;5;28;43mself\u001b[39;49m\u001b[38;5;241;43m.\u001b[39;49m\u001b[43mget_slice_bound\u001b[49m\u001b[43m(\u001b[49m\u001b[43mend\u001b[49m\u001b[43m,\u001b[49m\u001b[43m \u001b[49m\u001b[38;5;124;43m\"\u001b[39;49m\u001b[38;5;124;43mright\u001b[39;49m\u001b[38;5;124;43m\"\u001b[39;49m\u001b[43m)\u001b[49m\n\u001b[1;32m   6886\u001b[0m \u001b[38;5;28;01mif\u001b[39;00m end_slice \u001b[38;5;129;01mis\u001b[39;00m \u001b[38;5;28;01mNone\u001b[39;00m:\n\u001b[1;32m   6887\u001b[0m     end_slice \u001b[38;5;241m=\u001b[39m \u001b[38;5;28mlen\u001b[39m(\u001b[38;5;28mself\u001b[39m)\n",
      "File \u001b[0;32m~/miniconda3/lib/python3.10/site-packages/pandas/core/indexes/base.py:6801\u001b[0m, in \u001b[0;36mIndex.get_slice_bound\u001b[0;34m(self, label, side)\u001b[0m\n\u001b[1;32m   6799\u001b[0m \u001b[38;5;28;01mexcept\u001b[39;00m \u001b[38;5;167;01mKeyError\u001b[39;00m \u001b[38;5;28;01mas\u001b[39;00m err:\n\u001b[1;32m   6800\u001b[0m     \u001b[38;5;28;01mtry\u001b[39;00m:\n\u001b[0;32m-> 6801\u001b[0m         \u001b[38;5;28;01mreturn\u001b[39;00m \u001b[38;5;28;43mself\u001b[39;49m\u001b[38;5;241;43m.\u001b[39;49m\u001b[43m_searchsorted_monotonic\u001b[49m\u001b[43m(\u001b[49m\u001b[43mlabel\u001b[49m\u001b[43m,\u001b[49m\u001b[43m \u001b[49m\u001b[43mside\u001b[49m\u001b[43m)\u001b[49m\n\u001b[1;32m   6802\u001b[0m     \u001b[38;5;28;01mexcept\u001b[39;00m \u001b[38;5;167;01mValueError\u001b[39;00m:\n\u001b[1;32m   6803\u001b[0m         \u001b[38;5;66;03m# raise the original KeyError\u001b[39;00m\n\u001b[1;32m   6804\u001b[0m         \u001b[38;5;28;01mraise\u001b[39;00m err\n",
      "File \u001b[0;32m~/miniconda3/lib/python3.10/site-packages/pandas/core/indexes/base.py:6733\u001b[0m, in \u001b[0;36mIndex._searchsorted_monotonic\u001b[0;34m(self, label, side)\u001b[0m\n\u001b[1;32m   6731\u001b[0m \u001b[38;5;28;01mdef\u001b[39;00m \u001b[38;5;21m_searchsorted_monotonic\u001b[39m(\u001b[38;5;28mself\u001b[39m, label, side: Literal[\u001b[38;5;124m\"\u001b[39m\u001b[38;5;124mleft\u001b[39m\u001b[38;5;124m\"\u001b[39m, \u001b[38;5;124m\"\u001b[39m\u001b[38;5;124mright\u001b[39m\u001b[38;5;124m\"\u001b[39m] \u001b[38;5;241m=\u001b[39m \u001b[38;5;124m\"\u001b[39m\u001b[38;5;124mleft\u001b[39m\u001b[38;5;124m\"\u001b[39m):\n\u001b[1;32m   6732\u001b[0m     \u001b[38;5;28;01mif\u001b[39;00m \u001b[38;5;28mself\u001b[39m\u001b[38;5;241m.\u001b[39mis_monotonic_increasing:\n\u001b[0;32m-> 6733\u001b[0m         \u001b[38;5;28;01mreturn\u001b[39;00m \u001b[38;5;28;43mself\u001b[39;49m\u001b[38;5;241;43m.\u001b[39;49m\u001b[43msearchsorted\u001b[49m\u001b[43m(\u001b[49m\u001b[43mlabel\u001b[49m\u001b[43m,\u001b[49m\u001b[43m \u001b[49m\u001b[43mside\u001b[49m\u001b[38;5;241;43m=\u001b[39;49m\u001b[43mside\u001b[49m\u001b[43m)\u001b[49m\n\u001b[1;32m   6734\u001b[0m     \u001b[38;5;28;01melif\u001b[39;00m \u001b[38;5;28mself\u001b[39m\u001b[38;5;241m.\u001b[39mis_monotonic_decreasing:\n\u001b[1;32m   6735\u001b[0m         \u001b[38;5;66;03m# np.searchsorted expects ascending sort order, have to reverse\u001b[39;00m\n\u001b[1;32m   6736\u001b[0m         \u001b[38;5;66;03m# everything for it to work (element ordering, search side and\u001b[39;00m\n\u001b[1;32m   6737\u001b[0m         \u001b[38;5;66;03m# resulting value).\u001b[39;00m\n\u001b[1;32m   6738\u001b[0m         pos \u001b[38;5;241m=\u001b[39m \u001b[38;5;28mself\u001b[39m[::\u001b[38;5;241m-\u001b[39m\u001b[38;5;241m1\u001b[39m]\u001b[38;5;241m.\u001b[39msearchsorted(\n\u001b[1;32m   6739\u001b[0m             label, side\u001b[38;5;241m=\u001b[39m\u001b[38;5;124m\"\u001b[39m\u001b[38;5;124mright\u001b[39m\u001b[38;5;124m\"\u001b[39m \u001b[38;5;28;01mif\u001b[39;00m side \u001b[38;5;241m==\u001b[39m \u001b[38;5;124m\"\u001b[39m\u001b[38;5;124mleft\u001b[39m\u001b[38;5;124m\"\u001b[39m \u001b[38;5;28;01melse\u001b[39;00m \u001b[38;5;124m\"\u001b[39m\u001b[38;5;124mleft\u001b[39m\u001b[38;5;124m\"\u001b[39m\n\u001b[1;32m   6740\u001b[0m         )\n",
      "File \u001b[0;32m~/miniconda3/lib/python3.10/site-packages/pandas/core/base.py:1352\u001b[0m, in \u001b[0;36mIndexOpsMixin.searchsorted\u001b[0;34m(self, value, side, sorter)\u001b[0m\n\u001b[1;32m   1348\u001b[0m \u001b[38;5;28;01mif\u001b[39;00m \u001b[38;5;129;01mnot\u001b[39;00m \u001b[38;5;28misinstance\u001b[39m(values, np\u001b[38;5;241m.\u001b[39mndarray):\n\u001b[1;32m   1349\u001b[0m     \u001b[38;5;66;03m# Going through EA.searchsorted directly improves performance GH#38083\u001b[39;00m\n\u001b[1;32m   1350\u001b[0m     \u001b[38;5;28;01mreturn\u001b[39;00m values\u001b[38;5;241m.\u001b[39msearchsorted(value, side\u001b[38;5;241m=\u001b[39mside, sorter\u001b[38;5;241m=\u001b[39msorter)\n\u001b[0;32m-> 1352\u001b[0m \u001b[38;5;28;01mreturn\u001b[39;00m \u001b[43malgorithms\u001b[49m\u001b[38;5;241;43m.\u001b[39;49m\u001b[43msearchsorted\u001b[49m\u001b[43m(\u001b[49m\n\u001b[1;32m   1353\u001b[0m \u001b[43m    \u001b[49m\u001b[43mvalues\u001b[49m\u001b[43m,\u001b[49m\n\u001b[1;32m   1354\u001b[0m \u001b[43m    \u001b[49m\u001b[43mvalue\u001b[49m\u001b[43m,\u001b[49m\n\u001b[1;32m   1355\u001b[0m \u001b[43m    \u001b[49m\u001b[43mside\u001b[49m\u001b[38;5;241;43m=\u001b[39;49m\u001b[43mside\u001b[49m\u001b[43m,\u001b[49m\n\u001b[1;32m   1356\u001b[0m \u001b[43m    \u001b[49m\u001b[43msorter\u001b[49m\u001b[38;5;241;43m=\u001b[39;49m\u001b[43msorter\u001b[49m\u001b[43m,\u001b[49m\n\u001b[1;32m   1357\u001b[0m \u001b[43m\u001b[49m\u001b[43m)\u001b[49m\n",
      "File \u001b[0;32m~/miniconda3/lib/python3.10/site-packages/pandas/core/algorithms.py:1329\u001b[0m, in \u001b[0;36msearchsorted\u001b[0;34m(arr, value, side, sorter)\u001b[0m\n\u001b[1;32m   1325\u001b[0m     arr \u001b[38;5;241m=\u001b[39m ensure_wrapped_if_datetimelike(arr)\n\u001b[1;32m   1327\u001b[0m \u001b[38;5;66;03m# Argument 1 to \"searchsorted\" of \"ndarray\" has incompatible type\u001b[39;00m\n\u001b[1;32m   1328\u001b[0m \u001b[38;5;66;03m# \"Union[NumpyValueArrayLike, ExtensionArray]\"; expected \"NumpyValueArrayLike\"\u001b[39;00m\n\u001b[0;32m-> 1329\u001b[0m \u001b[38;5;28;01mreturn\u001b[39;00m \u001b[43marr\u001b[49m\u001b[38;5;241;43m.\u001b[39;49m\u001b[43msearchsorted\u001b[49m\u001b[43m(\u001b[49m\u001b[43mvalue\u001b[49m\u001b[43m,\u001b[49m\u001b[43m \u001b[49m\u001b[43mside\u001b[49m\u001b[38;5;241;43m=\u001b[39;49m\u001b[43mside\u001b[49m\u001b[43m,\u001b[49m\u001b[43m \u001b[49m\u001b[43msorter\u001b[49m\u001b[38;5;241;43m=\u001b[39;49m\u001b[43msorter\u001b[49m\u001b[43m)\u001b[49m\n",
      "\u001b[0;31mTypeError\u001b[0m: '<' not supported between instances of 'datetime.date' and 'str'"
     ]
    }
   ],
   "source": [
    "dt = pd.DataFrame(columns=['stock','startdate','enddate','T'])\n",
    "stock = 'XRP-USDT-SWAP'\n",
    "end = '2022-07-01'\n",
    "start = get_previous_trading_date(end,59)\n",
    "df = data.copy()\n",
    "stock_a = df.loc[stock].loc[start:end].copy()\n",
    "\n",
    "stocklist = sorted(set(data.index.get_level_values(0)))\n",
    "datelist = sorted(set(data.index.get_level_values(1)))\n",
    "\n",
    "y = 0\n",
    "for s in tqdm(stocklist):\n",
    "    stock_b = data.loc[s]\n",
    "    for d in datelist[60:-20:20]:\n",
    "        end = d\n",
    "        start = get_previous_trading_date(end,59)\n",
    "        temp_k_line = stock_b.loc[start:end].reset_index().iloc[:,1:]\n",
    "        T = stock_a.reset_index().iloc[:,1:].corrwith(temp_k_line).mean()\n",
    "        dt.loc[y] = [s,start,end,T]\n",
    "\n",
    "        y += 1\n",
    "\n",
    "dt = dt.fillna(0)\n",
    "dt = dt.sort_values(by='T',ascending=False)\n",
    "dt"
   ]
  },
  {
   "cell_type": "code",
   "execution_count": null,
   "metadata": {},
   "outputs": [],
   "source": []
  }
 ],
 "metadata": {
  "kernelspec": {
   "display_name": "base",
   "language": "python",
   "name": "python3"
  },
  "language_info": {
   "codemirror_mode": {
    "name": "ipython",
    "version": 3
   },
   "file_extension": ".py",
   "mimetype": "text/x-python",
   "name": "python",
   "nbconvert_exporter": "python",
   "pygments_lexer": "ipython3",
   "version": "3.10.12"
  }
 },
 "nbformat": 4,
 "nbformat_minor": 2
}
